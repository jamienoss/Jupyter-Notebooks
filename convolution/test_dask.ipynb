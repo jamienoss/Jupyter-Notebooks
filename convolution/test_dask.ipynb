{
 "cells": [
  {
   "cell_type": "markdown",
   "metadata": {},
   "source": [
    "# Profiling dask vs numpy #\n",
    "\n",
    "[Dask](http://dask.pydata.org/en/latest/index.html) is a powerful new tool for parallel processing in python. This notebooks does some benchmarking comparisons with regular numpy and suggests how astropy could be modified to take advantage of dask multithreading. (It should release the GIL more.) These tests were conducted on a server with 32 cores. "
   ]
  },
  {
   "cell_type": "code",
   "execution_count": null,
   "metadata": {},
   "outputs": [],
   "source": [
    "import numpy as np\n",
    "import dask.array as da"
   ]
  },
  {
   "cell_type": "markdown",
   "metadata": {},
   "source": [
    "## Create a large random numpy array ##"
   ]
  },
  {
   "cell_type": "code",
   "execution_count": null,
   "metadata": {},
   "outputs": [],
   "source": [
    "Nz,Ny,Nx = (64,1024,2048)\n",
    "shape = (Nz,Ny,Nx)\n",
    "big_numpy_array = np.random.rand(*shape)"
   ]
  },
  {
   "cell_type": "markdown",
   "metadata": {},
   "source": [
    "## Reduce operation using numpy ##"
   ]
  },
  {
   "cell_type": "code",
   "execution_count": null,
   "metadata": {},
   "outputs": [],
   "source": [
    "%time (big_numpy_array**2).sum()"
   ]
  },
  {
   "cell_type": "markdown",
   "metadata": {},
   "source": [
    "## Create a dask array from the numpy array ##\n",
    "cs is the chunksize, so we use 64 different chunks of about 1 million elements"
   ]
  },
  {
   "cell_type": "code",
   "execution_count": null,
   "metadata": {},
   "outputs": [],
   "source": [
    "cs = (1,Ny,Nx)\n",
    "big_dask_array = da.from_array(big_numpy_array, chunks=cs)"
   ]
  },
  {
   "cell_type": "code",
   "execution_count": null,
   "metadata": {},
   "outputs": [],
   "source": [
    "%time (big_dask_array**2).sum().compute()"
   ]
  },
  {
   "cell_type": "markdown",
   "metadata": {},
   "source": [
    "We can see that we got some multithreaded acceleration, because the Wall time is less than the CPU time. This speedup is possible because the numpy ufuncs [release the global interpreter lock (GIL)](http://docs.scipy.org/doc/numpy-dev/reference/internals.code-explanations.html) at the cython level."
   ]
  },
  {
   "cell_type": "code",
   "execution_count": null,
   "metadata": {},
   "outputs": [],
   "source": [
    "# do the same thing using map_blocks\n",
    "def map_func(b):\n",
    "    return (b**2)\n",
    "\n",
    "%time big_dask_array.map_blocks(map_func).sum().compute()"
   ]
  },
  {
   "cell_type": "markdown",
   "metadata": {},
   "source": [
    "## FFT example ##\n",
    "Here we also get speedup with numpy.fft because it evidently also releases the GIL."
   ]
  },
  {
   "cell_type": "code",
   "execution_count": null,
   "metadata": {},
   "outputs": [],
   "source": [
    "# try with fft\n",
    "% time np.fft.fft2(big_numpy_array).sum()"
   ]
  },
  {
   "cell_type": "code",
   "execution_count": null,
   "metadata": {},
   "outputs": [],
   "source": [
    "% time big_dask_array.map_blocks(np.fft.fft2).sum().compute()\n",
    "# huge speedup!"
   ]
  },
  {
   "cell_type": "markdown",
   "metadata": {},
   "source": [
    "## Gaussian Filter - scipy.ndimage ##\n",
    "This does get multethreaded speeup."
   ]
  },
  {
   "cell_type": "code",
   "execution_count": null,
   "metadata": {},
   "outputs": [],
   "source": [
    "from scipy.ndimage import gaussian_filter\n",
    "\n",
    "def filter_func(b):\n",
    "    return gaussian_filter(b.squeeze(), 1)[np.newaxis,:,:]\n",
    "\n",
    "# this does speed up because it releases the GIL\n",
    "% time big_dask_array.map_blocks(filter_func).sum().compute()"
   ]
  },
  {
   "cell_type": "markdown",
   "metadata": {},
   "source": [
    "## Gaussian Filter - astropy - upstream/master ##\n",
    "Astropy convolution is understandably slower because it checks for missing data. But on top of this, it does NOT get multethreaded speeup because the [astropy convolution functions](https://github.com/astropy/astropy/blob/master/astropy/convolution/boundary_fill.pyx) do NOT release the GIL before their loops. As a result, it is nearly 60 times slow than ndimage when used with dask."
   ]
  },
  {
   "cell_type": "code",
   "execution_count": null,
   "metadata": {},
   "outputs": [],
   "source": [
    "import sys\n",
    "sys.path.insert(0, '/Users/jnoss/dev/astropy/build/lib.macosx-10.6-x86_64-3.5/')\n",
    "\n",
    "from astropy.convolution import convolve, Gaussian2DKernel\n",
    "import astropy\n",
    "astropy.version"
   ]
  },
  {
   "cell_type": "code",
   "execution_count": null,
   "metadata": {},
   "outputs": [],
   "source": [
    "def filter_func_ap(b):\n",
    "    ker = Gaussian2DKernel(1)\n",
    "    return convolve(b.squeeze(), ker, boundary='extend')[np.newaxis,:,:]"
   ]
  },
  {
   "cell_type": "code",
   "execution_count": null,
   "metadata": {
    "scrolled": false
   },
   "outputs": [],
   "source": [
    "%time big_dask_array.map_blocks(filter_func_ap).sum().compute()"
   ]
  },
  {
   "cell_type": "code",
   "execution_count": null,
   "metadata": {},
   "outputs": [],
   "source": [
    "# test single threaded execution\n",
    "%timeit filter_func_ap(big_numpy_array[0])"
   ]
  },
  {
   "cell_type": "markdown",
   "metadata": {},
   "source": [
    "## switch to my fork ##"
   ]
  },
  {
   "cell_type": "code",
   "execution_count": null,
   "metadata": {},
   "outputs": [],
   "source": [
    "%time big_dask_array.map_blocks(filter_func_ap).sum().compute()"
   ]
  },
  {
   "cell_type": "code",
   "execution_count": null,
   "metadata": {},
   "outputs": [],
   "source": [
    "%timeit filter_func_ap(big_numpy_array[0])"
   ]
  },
  {
   "cell_type": "code",
   "execution_count": null,
   "metadata": {},
   "outputs": [],
   "source": [
    "import numpy as np\n",
    "import dask.array as da\n",
    "import sys\n",
    "sys.path.insert(0, '/Users/jnoss/dev/astropy/build/')\n",
    "\n",
    "from astropy.convolution import convolve, Gaussian2DKernel, convolve_dev\n",
    "import astropy\n",
    "print(astropy.version)\n",
    "sys.stdout.flush()\n",
    "\n",
    "Nz,Ny,Nx = (64,1024,2048)\n",
    "shape = (Nz,Ny,Nx)\n",
    "big_numpy_array = np.random.rand(*shape)\n",
    "\n",
    "cs = (1,Ny,Nx)\n",
    "big_dask_array = da.from_array(big_numpy_array, chunks=cs)\n",
    "\n",
    "def filter_func_ap(b):\n",
    "    ker = Gaussian2DKernel(1, x_size=11, y_size=11)\n",
    "    return convolve(b.squeeze(), ker, boundary=None)[np.newaxis,:,:]\n",
    "def filter_func_ap_dev(b):\n",
    "    ker = Gaussian2DKernel(1, x_size=11, y_size=11)\n",
    "    return convolve_dev(b.squeeze(), ker, boundary=None, n_threads=0)[np.newaxis,:,:]"
   ]
  },
  {
   "cell_type": "code",
   "execution_count": null,
   "metadata": {},
   "outputs": [],
   "source": [
    "%time res = big_dask_array.map_blocks(filter_func_ap).compute()\n",
    "%time res_dev = big_dask_array.map_blocks(filter_func_ap_dev).compute()"
   ]
  },
  {
   "cell_type": "code",
   "execution_count": null,
   "metadata": {},
   "outputs": [],
   "source": [
    "d = res_dev - res\n",
    "#print(d)\n",
    "np.isclose(d, 0, atol=1e-8).all()"
   ]
  },
  {
   "cell_type": "code",
   "execution_count": null,
   "metadata": {},
   "outputs": [],
   "source": [
    "res.shape"
   ]
  },
  {
   "cell_type": "code",
   "execution_count": null,
   "metadata": {},
   "outputs": [],
   "source": [
    "%timeit filter_func_ap(big_numpy_array[0])"
   ]
  },
  {
   "cell_type": "code",
   "execution_count": null,
   "metadata": {},
   "outputs": [],
   "source": [
    "810/760"
   ]
  },
  {
   "cell_type": "code",
   "execution_count": null,
   "metadata": {},
   "outputs": [],
   "source": [
    "216/206\n"
   ]
  },
  {
   "cell_type": "code",
   "execution_count": null,
   "metadata": {},
   "outputs": [],
   "source": [
    "import sys\n",
    "sys.path.insert(0, '/Users/jnoss/dev/astropy/build/lib.macosx-10.7-x86_64-3.6/')\n",
    "import astropy\n",
    "print(astropy.version)\n",
    "\n",
    "import astropy.convolution as astroconv\n",
    "import numpy as np\n",
    "\n",
    "iLength = 10000\n",
    "jLength = iLength\n",
    "image = np.random.random((iLength, jLength))\n",
    "\n",
    "#image[50, 50] = np.nan\n",
    "\n",
    "size = 11#1\n",
    "ker = astroconv.Gaussian2DKernel(20,x_size=size,y_size=size)\n",
    "#kerr = np.full((size,size), 10000)\n",
    "#res = astroconv.convolve(image, ker, boundary=None, normalize_kernel=True, n_threads=1)\n",
    "\n",
    "\n",
    "\n",
    "\n"
   ]
  },
  {
   "cell_type": "code",
   "execution_count": null,
   "metadata": {},
   "outputs": [],
   "source": [
    "%time res = astroconv.convolve(image, ker, boundary=None, normalize_kernel=True, n_threads=20)\n",
    "#%time res_dev = astroconv.convolve_dev(image, ker, boundary=None, normalize_kernel=False)"
   ]
  },
  {
   "cell_type": "code",
   "execution_count": null,
   "metadata": {},
   "outputs": [],
   "source": [
    "res.dtype"
   ]
  },
  {
   "cell_type": "code",
   "execution_count": null,
   "metadata": {},
   "outputs": [],
   "source": [
    "res = astroconv.convolve(image, ker, boundary=None)\n",
    "res_dev = astroconv.convolve_dev(image, ker, boundary=None)"
   ]
  },
  {
   "cell_type": "code",
   "execution_count": null,
   "metadata": {},
   "outputs": [],
   "source": [
    "import matplotlib.pyplot as plt\n",
    "#mport matplotlib\n",
    "%matplotlib qt5\n",
    "\n",
    "plt.imshow(res, cmap='gray')\n",
    "plt.colorbar()"
   ]
  },
  {
   "cell_type": "code",
   "execution_count": null,
   "metadata": {},
   "outputs": [],
   "source": [
    "#delta = res == res_dev\n",
    "#delta.all()\n",
    "d = res_dev - res\n",
    "np.isclose(d, 0, atol=1e-8).all()"
   ]
  },
  {
   "cell_type": "code",
   "execution_count": null,
   "metadata": {},
   "outputs": [],
   "source": [
    "\n",
    "import matplotlib.pyplot as plt\n",
    "#mport matplotlib\n",
    "%matplotlib qt5\n",
    "\n",
    "plt.imshow(d, cmap='gray')\n",
    "plt.colorbar()"
   ]
  },
  {
   "cell_type": "code",
   "execution_count": null,
   "metadata": {},
   "outputs": [],
   "source": [
    "import sys\n",
    "sys.path.insert(0, '/Users/jamienoss/dev/astropy/build/lib.macosx-10.7-x86_64-3.6/')\n",
    "import astropy\n",
    "print(astropy.version)\n",
    "\n",
    "import astropy.convolution as astroconv\n",
    "import numpy as np\n",
    "\n",
    "iLength = 10000\n",
    "jLength = iLength\n",
    "image = np.random.random(iLength)\n",
    "\n",
    "#image[50, 50] = np.nan\n",
    "\n",
    "size = 11#1\n",
    "ker = astroconv.Gaussian1DKernel(20,x_size=size)#,y_size=size)\n",
    "#kerr = np.full((size,size), 10000)\n",
    "\n",
    "\n",
    "\n",
    "\n",
    "\n"
   ]
  },
  {
   "cell_type": "code",
   "execution_count": null,
   "metadata": {},
   "outputs": [],
   "source": [
    "%time res = astroconv.convolve(image, ker, boundary='fill', normalize_kernel=False)\n",
    "#%time res_dev = astroconv.convolve_dev(image, ker, boundary='fill', normalize_kernel=False, n_threads=0)"
   ]
  },
  {
   "cell_type": "code",
   "execution_count": null,
   "metadata": {},
   "outputs": [],
   "source": [
    "2500/1024"
   ]
  },
  {
   "cell_type": "code",
   "execution_count": null,
   "metadata": {},
   "outputs": [],
   "source": [
    "a = [0,12,3,4,5,6,7,8,9]\n",
    "a[-3:]"
   ]
  },
  {
   "cell_type": "code",
   "execution_count": null,
   "metadata": {},
   "outputs": [],
   "source": [
    "d[:20]"
   ]
  },
  {
   "cell_type": "code",
   "execution_count": null,
   "metadata": {},
   "outputs": [],
   "source": [
    "res_dev.shape"
   ]
  },
  {
   "cell_type": "code",
   "execution_count": null,
   "metadata": {},
   "outputs": [],
   "source": [
    "list(np.array(ker.shape)//2)"
   ]
  },
  {
   "cell_type": "code",
   "execution_count": null,
   "metadata": {},
   "outputs": [],
   "source": [
    "pad = np.full(np.array(image.shape) + 2*(np.array(ker.shape)//2), fill_value=0.)\n"
   ]
  },
  {
   "cell_type": "code",
   "execution_count": null,
   "metadata": {},
   "outputs": [],
   "source": [
    "pad_width = np.array(ker.shape)//2\n",
    "image[pad_width[0]:-pad_width[0]].shape"
   ]
  },
  {
   "cell_type": "code",
   "execution_count": null,
   "metadata": {},
   "outputs": [],
   "source": [
    "np.array((ker.shape//2))"
   ]
  },
  {
   "cell_type": "code",
   "execution_count": null,
   "metadata": {},
   "outputs": [],
   "source": [
    "pad[pad_width[0]:-pad_width[0]] = image"
   ]
  },
  {
   "cell_type": "code",
   "execution_count": null,
   "metadata": {},
   "outputs": [],
   "source": [
    "pad.shape"
   ]
  },
  {
   "cell_type": "code",
   "execution_count": null,
   "metadata": {},
   "outputs": [],
   "source": [
    "pad[pad_width[0]:-pad_width[0]].shape"
   ]
  },
  {
   "cell_type": "code",
   "execution_count": null,
   "metadata": {},
   "outputs": [],
   "source": [
    "pad_width[0]"
   ]
  },
  {
   "cell_type": "code",
   "execution_count": null,
   "metadata": {},
   "outputs": [],
   "source": [
    "import ctypes\n",
    "array_shape = np.array(image.shape, dtype=ctypes.c_size_t, order='C')\n",
    "kernel_shape = np.array(ker.shape, dtype=ctypes.c_size_t, order='C')\n",
    "pad_width = np.array(kernel_shape//2, dtyp) \n",
    "padded_array = np.full(array_shape + 2*pad_width, fill_value=0., dtype=float, order='C')\n",
    "print(pad_width, padded_array.shape, padded_array[pad_width[0]:-pad_width[0]].shape)\n",
    "padded_array[pad_width[0]:-pad_width[0]] = image        "
   ]
  },
  {
   "cell_type": "code",
   "execution_count": null,
   "metadata": {},
   "outputs": [],
   "source": [
    "(int)pad_width[0].dtype"
   ]
  },
  {
   "cell_type": "code",
   "execution_count": null,
   "metadata": {},
   "outputs": [],
   "source": [
    "image.dtype"
   ]
  },
  {
   "cell_type": "code",
   "execution_count": null,
   "metadata": {},
   "outputs": [],
   "source": [
    "np.float_t"
   ]
  },
  {
   "cell_type": "code",
   "execution_count": null,
   "metadata": {},
   "outputs": [],
   "source": [
    "a = np.array([1,2], dtype=np.float_)"
   ]
  },
  {
   "cell_type": "code",
   "execution_count": null,
   "metadata": {},
   "outputs": [],
   "source": [
    "a.dtype"
   ]
  },
  {
   "cell_type": "code",
   "execution_count": null,
   "metadata": {},
   "outputs": [],
   "source": [
    "import numpy as np\n",
    "import dask.array as da\n",
    "import sys\n",
    "sys.path.insert(0, '/Users/jnoss/dev/astropy/build/')\n",
    "\n",
    "from astropy.convolution import convolve, Gaussian2DKernel, convolve_dev\n",
    "import astropy\n",
    "print(astropy.version)\n",
    "sys.stdout.flush()\n",
    "\n",
    "Nz,Ny,Nx = (10,10000,10000)\n",
    "shape = (Nz,Ny,Nx)\n",
    "big_numpy_array = np.random.rand(*shape)\n",
    "\n",
    "cs = (1,Ny,Nx)\n",
    "big_dask_array = da.from_array(big_numpy_array, chunks=cs)\n",
    "\n",
    "def filter_func_ap(b):\n",
    "    ker = Gaussian2DKernel(20, x_size=11, y_size=11)\n",
    "    return convolve(b.squeeze(), ker, boundary=None)[np.newaxis,:,:]\n",
    "def filter_func_ap_dev(b):\n",
    "    ker = Gaussian2DKernel(20, x_size=11, y_size=11)\n",
    "    return convolve_dev(b.squeeze(), ker, boundary=None, n_threads=1)[np.newaxis,:,:]"
   ]
  },
  {
   "cell_type": "code",
   "execution_count": null,
   "metadata": {},
   "outputs": [],
   "source": [
    "#%time res = big_dask_array.map_blocks(filter_func_ap).compute()\n",
    "%time res_dev = big_dask_array.map_blocks(filter_func_ap_dev).compute()"
   ]
  },
  {
   "cell_type": "code",
   "execution_count": null,
   "metadata": {},
   "outputs": [],
   "source": [
    "d = res_dev2 - res\n",
    "np.isclose(d, 0, atol=1e-8).all()"
   ]
  },
  {
   "cell_type": "code",
   "execution_count": null,
   "metadata": {},
   "outputs": [],
   "source": [
    "import gc\n",
    "gc.collect()"
   ]
  },
  {
   "cell_type": "code",
   "execution_count": null,
   "metadata": {},
   "outputs": [],
   "source": [
    "import numpy as np\n",
    "import dask.array as da\n",
    "import sys\n",
    "sys.path.insert(0, '/Users/jnoss/dev/astropy/build/')\n",
    "\n",
    "from astropy.convolution import convolve, Gaussian2DKernel, convolve_dev\n",
    "import astropy\n",
    "print(astropy.version)\n",
    "sys.stdout.flush()\n",
    "\n",
    "Nz,Ny,Nx = (10,10000,10000)\n",
    "shape = (Nz,Ny,Nx)\n",
    "big_numpy_array = np.random.rand(*shape)\n",
    "\n",
    "res_dev2 = np.empty_like(big_numpy_array)\n",
    "ker = Gaussian2DKernel(20, x_size=11, y_size=11)"
   ]
  },
  {
   "cell_type": "code",
   "execution_count": null,
   "metadata": {},
   "outputs": [],
   "source": [
    "%time for i in range(10): res_dev2[i,:,:] = convolve_dev(big_numpy_array[i,:,:], ker, boundary=None, n_threads=1)"
   ]
  },
  {
   "cell_type": "code",
   "execution_count": null,
   "metadata": {},
   "outputs": [],
   "source": [
    "ker = Gaussian2DKernel(20, x_size=10, y_size=11)\n",
    "any(not axes_size % 2 for axes_size in ker.shape)"
   ]
  },
  {
   "cell_type": "code",
   "execution_count": null,
   "metadata": {},
   "outputs": [],
   "source": [
    "ker = Gaussian2DKernel(20, x_size=10, y_size=11)\n",
    "ker.array.ndim"
   ]
  },
  {
   "cell_type": "code",
   "execution_count": null,
   "metadata": {},
   "outputs": [],
   "source": [
    "import sys\n",
    "sys.path.insert(0, '/Users/jnoss/dev/astropy/build/')\n",
    "import numpy as np\n",
    "import astropy\n",
    "print(astropy.version)\n",
    "sys.stdout.flush()\n",
    "from astropy.convolution import convolve\n",
    "from numpy.testing import assert_array_almost_equal_nulp, assert_array_almost_equal, assert_almost_equal\n",
    "\n",
    "from astropy.convolution import convolve, convolve_fft, convolve_models\n",
    "from astropy.modeling import models, fitting\n",
    "from astropy.utils.misc import NumpyRNGContext\n",
    "\n",
    "def test_fitting_convolve_models(mode):\n",
    "        \"\"\"\n",
    "        test that a convolve model can be fitted\n",
    "        \"\"\"\n",
    "        b1 = models.Box1D()\n",
    "        g1 = models.Gaussian1D()\n",
    "\n",
    "        x = np.linspace(-5, 5, 99)\n",
    "        fake_model = models.Gaussian1D(amplitude=10)\n",
    "        with NumpyRNGContext(123):\n",
    "            fake_data = fake_model(x) + np.random.normal(size=len(x))\n",
    "\n",
    "        init_model = convolve_models(b1, g1, mode=mode, normalize_kernel=False)\n",
    "        fitter = fitting.LevMarLSQFitter()\n",
    "        fitted_model = fitter(init_model, x, fake_data)\n",
    "\n",
    "        me = np.mean(fitted_model(x) - fake_data)\n",
    "        assert_almost_equal(me, 0.0, decimal=2)\n",
    "\n",
    "test_fitting_convolve_models('convolve')"
   ]
  },
  {
   "cell_type": "code",
   "execution_count": null,
   "metadata": {},
   "outputs": [],
   "source": [
    "x = np.array([1., np.nan, 3.], dtype='>f8')\n",
    "n = np.isnan(x)\n",
    "z[n] = np.nan\n",
    "z"
   ]
  },
  {
   "cell_type": "code",
   "execution_count": null,
   "metadata": {},
   "outputs": [],
   "source": [
    "test_uniform_3_withnan('fill', 'interpolate'')"
   ]
  },
  {
   "cell_type": "code",
   "execution_count": null,
   "metadata": {},
   "outputs": [],
   "source": [
    "x = np.array([1., np.nan, 3.], dtype='>f8')\n",
    "\n",
    "y = np.array([1., 1., 1.], dtype='>f8')\n",
    "\n",
    "z = convolve(x, y, boundary='fill', nan_treatment='interpolate',\n",
    "             normalize_kernel=True,\n",
    "             preserve_nan=False)\n",
    "z"
   ]
  },
  {
   "cell_type": "code",
   "execution_count": null,
   "metadata": {},
   "outputs": [],
   "source": [
    "from astropy.convolution.kernels import Gaussian1DKernel\n",
    "import  astropy.convolution.tests.test_kernel_class\n",
    "test = astropy.convolution.tests.test_kernel_class.TestKernels()\n",
    "test.test_random_data(kernel_type=Gaussian1DKernel, width=9)"
   ]
  },
  {
   "cell_type": "code",
   "execution_count": null,
   "metadata": {},
   "outputs": [],
   "source": [
    "import  astropy.convolution.tests.test_convolve_models as Test\n",
    "test = Test.TestConvolve1DModels()\n",
    "test.test_fitting_convolve_models('convolve')"
   ]
  },
  {
   "cell_type": "code",
   "execution_count": null,
   "metadata": {},
   "outputs": [],
   "source": [
    "import numpy as np\n",
    "x = np.array([1., 3, 3.], dtype='>f8')\n",
    "y = np.array([1., 3, 4.], dtype='>f8')"
   ]
  },
  {
   "cell_type": "code",
   "execution_count": null,
   "metadata": {},
   "outputs": [],
   "source": [
    "x.shape < y.shape"
   ]
  },
  {
   "cell_type": "code",
   "execution_count": null,
   "metadata": {},
   "outputs": [],
   "source": [
    "for axis in x.shape:\n",
    "    print(axis)"
   ]
  },
  {
   "cell_type": "code",
   "execution_count": null,
   "metadata": {},
   "outputs": [],
   "source": [
    "any(x < y)"
   ]
  },
  {
   "cell_type": "code",
   "execution_count": null,
   "metadata": {},
   "outputs": [],
   "source": [
    "import sys\n",
    "sys.path.insert(0, '/Users/jnoss/dev/astropy/build/')\n",
    "import numpy as np\n",
    "import astropy\n",
    "print(astropy.version)\n",
    "sys.stdout.flush()\n",
    "from astropy.convolution import convolve, \n",
    "x = np.array([1., 3, 3.], dtype='>f8')\n",
    "y = np.array([1., 3, 4, ], dtype='>f8')\n",
    "\n",
    "res = convolve(box, gauss)\n",
    "print(res.array)"
   ]
  },
  {
   "cell_type": "code",
   "execution_count": null,
   "metadata": {},
   "outputs": [],
   "source": [
    "box.shape"
   ]
  },
  {
   "cell_type": "code",
   "execution_count": null,
   "metadata": {},
   "outputs": [],
   "source": [
    "1//2 < 1//2"
   ]
  },
  {
   "cell_type": "code",
   "execution_count": null,
   "metadata": {},
   "outputs": [],
   "source": [
    "import sys\n",
    "sys.path.insert(0, '/Users/jnoss/dev/astropy/build/lib.macosx-10.7-x86_64-3.6/')\n",
    "import astropy\n",
    "print(astropy.version)\n",
    "import faulthandler\n",
    "\n",
    "faulthandler.enable()\n",
    "import astropy.convolution as astroconv\n",
    "import numpy as np\n",
    "\n",
    "iLength = 11\n",
    "jLength = iLength\n",
    "image = np.random.random(iLength)#, jLength)\n",
    "\n",
    "#image[50, 50] = np.nan\n",
    "\n",
    "size = 41#iLength#11#1%time res = astroconv.convolve(image, ker, boundary='fill', normalize_kernel=False)\n",
    "\n",
    "ker = astroconv.Gaussian1DKernel(20,x_size=size)"
   ]
  },
  {
   "cell_type": "code",
   "execution_count": null,
   "metadata": {},
   "outputs": [],
   "source": [
    "%time res = astroconv.convolve(image, ker, boundary=None)#, n_threads=1)\n"
   ]
  },
  {
   "cell_type": "code",
   "execution_count": null,
   "metadata": {},
   "outputs": [],
   "source": [
    "int(2 ** 9 - 1)"
   ]
  },
  {
   "cell_type": "code",
   "execution_count": null,
   "metadata": {},
   "outputs": [],
   "source": [
    "import faulthandler\n",
    "import astropy.convolution\n",
    "import numpy as np\n",
    "\n",
    "faulthandler.enable()\n",
    "\n",
    "image = np.random.random(11)\n",
    "ker = astropy.convolution.Gaussian1DKernel(20,x_size=41)\n",
    "\n",
    "astropy.convolution.convolve(image, ker, boundary=None)"
   ]
  },
  {
   "cell_type": "code",
   "execution_count": null,
   "metadata": {},
   "outputs": [],
   "source": [
    "nx = 11\n",
    "wkx = 41//2\n",
    "for i in range(wkx, nx - wkx):\n",
    "    print(i)"
   ]
  },
  {
   "cell_type": "code",
   "execution_count": null,
   "metadata": {},
   "outputs": [],
   "source": [
    "import os\n",
    "os.environ['CFLAGS']"
   ]
  },
  {
   "cell_type": "code",
   "execution_count": null,
   "metadata": {},
   "outputs": [],
   "source": [
    "from distutils.sysconfig import customize_compiler, get_config_var\n",
    "\n",
    "get_config_var('CFLAGS')"
   ]
  },
  {
   "cell_type": "code",
   "execution_count": null,
   "metadata": {},
   "outputs": [],
   "source": [
    "import distutils\n",
    "distutils.sysconfig.get_config_var('CFLAGS')"
   ]
  },
  {
   "cell_type": "code",
   "execution_count": null,
   "metadata": {},
   "outputs": [],
   "source": [
    "a = [1,2,3]\n",
    "b = [2,3]\n",
    "c = {'a':a, 'b':b}"
   ]
  },
  {
   "cell_type": "code",
   "execution_count": null,
   "metadata": {},
   "outputs": [],
   "source": [
    "c['a']"
   ]
  },
  {
   "cell_type": "code",
   "execution_count": null,
   "metadata": {},
   "outputs": [],
   "source": [
    "a = ''\n",
    "os.path.join('.', *a.split('.'))"
   ]
  },
  {
   "cell_type": "code",
   "execution_count": null,
   "metadata": {},
   "outputs": [],
   "source": [
    "import sys\n",
    "sys.path.insert(0, '/Users/jnoss/dev/astropy-helpers/build/lib/')\n",
    "import astropy_helpers\n",
    "print(astropy_helpers.version)"
   ]
  },
  {
   "cell_type": "code",
   "execution_count": null,
   "metadata": {},
   "outputs": [],
   "source": [
    "from astropy_helpers.openmp_helpers import test_openmp_support, generate_openmp_enabled_py\n",
    "from astropy_helpers.setup_helpers import _module_state, register_commands\n",
    "#test_generate_openmp_enabled_py()"
   ]
  },
  {
   "cell_type": "code",
   "execution_count": null,
   "metadata": {},
   "outputs": [],
   "source": [
    "def test_generate_openmp_enabled_py():\n",
    "\n",
    "    register_commands('openmp_testing', '0.0', False)\n",
    "\n",
    "    # Test file generation\n",
    "    generate_openmp_enabled_py('')\n",
    "    from openmp_enabled import is_openmp_enabled\n",
    "\n",
    "    is_openmp_enabled = is_openmp_enabled()\n",
    "    try:\n",
    "        os.remove('openmp_enabled.py', )\n",
    "    except:\n",
    "        pass\n",
    "\n",
    "    # test is_openmp_enabled()\n",
    "    assert isinstance(is_openmp_enabled, bool)"
   ]
  },
  {
   "cell_type": "code",
   "execution_count": null,
   "metadata": {},
   "outputs": [],
   "source": [
    "test_generate_openmp_enabled_py()"
   ]
  },
  {
   "cell_type": "code",
   "execution_count": null,
   "metadata": {},
   "outputs": [],
   "source": [
    "pwd"
   ]
  },
  {
   "cell_type": "code",
   "execution_count": null,
   "metadata": {},
   "outputs": [],
   "source": [
    "ls"
   ]
  },
  {
   "cell_type": "code",
   "execution_count": null,
   "metadata": {},
   "outputs": [],
   "source": [
    "import openmp_enabled"
   ]
  },
  {
   "cell_type": "code",
   "execution_count": null,
   "metadata": {},
   "outputs": [],
   "source": [
    "import  astropy_helpers.openmp_helpers as oh"
   ]
  },
  {
   "cell_type": "code",
   "execution_count": null,
   "metadata": {},
   "outputs": [],
   "source": [
    "oh.get_openmp_flags()"
   ]
  },
  {
   "cell_type": "code",
   "execution_count": null,
   "metadata": {},
   "outputs": [],
   "source": [
    "import sys\n",
    "import numpy as np\n",
    "from numpy.testing import assert_array_almost_equal_nulp, assert_array_almost_equal\n",
    "\n",
    "sys.path.insert(0, '/Users/jnoss/dev/astropy/build/lib.macosx-10.7-x86_64-3.6/')\n",
    "import astropy\n",
    "print(astropy.version)\n",
    "from astropy.convolution import convolve\n",
    "import pandas\n",
    "wave = np.array((np.linspace(5000, 5100, 10)))\n",
    "boxcar = 3\n",
    "nonseries_result = convolve(wave, np.ones((boxcar,))/boxcar)\n",
    "\n",
    "wave_series = pandas.Series(wave)\n",
    "series_result  = convolve(wave_series, np.ones((boxcar,))/boxcar)\n",
    "\n",
    "assert_array_almost_equal(nonseries_result, series_result)"
   ]
  },
  {
   "cell_type": "code",
   "execution_count": null,
   "metadata": {},
   "outputs": [],
   "source": [
    "import numpy as np\n",
    "\n",
    "class myarray(np.ndarray):\n",
    "    \n",
    "    def func1(self):\n",
    "        print('you fool')\n",
    "        \n"
   ]
  },
  {
   "cell_type": "code",
   "execution_count": null,
   "metadata": {},
   "outputs": [],
   "source": [
    "a = np.array([1,1,1])\n",
    "b = myarray(a)"
   ]
  },
  {
   "cell_type": "code",
   "execution_count": null,
   "metadata": {},
   "outputs": [],
   "source": [
    "a"
   ]
  },
  {
   "cell_type": "code",
   "execution_count": null,
   "metadata": {},
   "outputs": [],
   "source": [
    "b"
   ]
  },
  {
   "cell_type": "code",
   "execution_count": null,
   "metadata": {},
   "outputs": [],
   "source": [
    "b.func1()"
   ]
  },
  {
   "cell_type": "code",
   "execution_count": null,
   "metadata": {},
   "outputs": [],
   "source": [
    "aa = np.asanyarray(a)\n",
    "bb=np.asanyarray(b)"
   ]
  },
  {
   "cell_type": "code",
   "execution_count": null,
   "metadata": {},
   "outputs": [],
   "source": [
    "bb.func1()"
   ]
  },
  {
   "cell_type": "code",
   "execution_count": null,
   "metadata": {},
   "outputs": [],
   "source": [
    "b is b3"
   ]
  },
  {
   "cell_type": "code",
   "execution_count": null,
   "metadata": {},
   "outputs": [],
   "source": [
    "b3 = np.array(b, copy=False, subok=True)"
   ]
  },
  {
   "cell_type": "code",
   "execution_count": null,
   "metadata": {},
   "outputs": [],
   "source": []
  },
  {
   "cell_type": "code",
   "execution_count": null,
   "metadata": {},
   "outputs": [],
   "source": []
  },
  {
   "cell_type": "code",
   "execution_count": null,
   "metadata": {},
   "outputs": [],
   "source": []
  },
  {
   "cell_type": "code",
   "execution_count": null,
   "metadata": {},
   "outputs": [],
   "source": [
    "import numpy.ma as ma\n",
    "x = np.array([1, 2, 3, -1, 5])\n",
    "mx = ma.masked_array(x, mask=[0, 0, 0, 1, 0])\n",
    "mxfilled = mx.filled(0)"
   ]
  },
  {
   "cell_type": "code",
   "execution_count": null,
   "metadata": {},
   "outputs": [],
   "source": [
    "mx is mxfilled"
   ]
  },
  {
   "cell_type": "code",
   "execution_count": null,
   "metadata": {},
   "outputs": [],
   "source": [
    "import sys\n",
    "sys.path.insert(0, '/Users/jnoss/dev/astropy/build/lib.macosx-10.7-x86_64-3.6/')\n",
    "import astropy\n",
    "print(astropy.version)\n",
    "import numpy as np\n",
    "import matplotlib.pyplot as plt\n",
    "\n",
    "from astropy.io import fits\n",
    "from astropy.utils.data import get_pkg_data_filename\n",
    "from astropy.convolution import CustomKernel\n",
    "from scipy.signal import convolve as scipy_convolve\n",
    "from astropy.convolution import convolve, convolve_fft\n",
    "\n",
    "\n",
    "# Load the data from data.astropy.org\n",
    "filename = get_pkg_data_filename('galactic_center/gc_msx_e.fits')\n",
    "hdu = fits.open(filename)[0]\n",
    "\n",
    "# Scale the file to have reasonable numbers\n",
    "# (this is mostly so that colorbars don't have too many digits)\n",
    "# Also, we crop it so you can see individual pixels\n",
    "img = hdu.data[50:90, 60:100] * 1e5\n",
    "\n",
    "kernel = CustomKernel([[-1,-1,-1], [-1, 8, -1], [-1,-1,-1]])\n",
    "\n",
    "astropy_conv = convolve(img, kernel, normalize_kernel=False, nan_treatment='fill')"
   ]
  },
  {
   "cell_type": "code",
   "execution_count": null,
   "metadata": {},
   "outputs": [],
   "source": [
    "from astropy.convolution import Kernel\n",
    "isinstance(kernel,Kernel)"
   ]
  },
  {
   "cell_type": "code",
   "execution_count": null,
   "metadata": {},
   "outputs": [],
   "source": [
    "import sys\n",
    "sys.path.insert(0, '/Users/jnoss/dev/astropy/build/lib.macosx-10.7-x86_64-3.6/')\n",
    "import astropy\n",
    "print(astropy.version)\n",
    "\n",
    "import numpy as np\n",
    "from astropy.convolution import convolve\n",
    "\n",
    "kernel = [-1,-1,-1, -1, 8, -1, -1,-1,-1]\n",
    "array = [1,2,3,4,5,6,7,8,9]\n",
    "\n",
    "convolve(array,kernel, normalize_kernel=False, boundary='extend')"
   ]
  },
  {
   "cell_type": "code",
   "execution_count": null,
   "metadata": {},
   "outputs": [],
   "source": [
    "import sys\n",
    "sys.path.insert(0, '/Users/jnoss/dev/astropy/build/lib.macosx-10.7-x86_64-3.6/')\n",
    "import astropy\n",
    "print(astropy.version)\n",
    "\n",
    "astropy.test(package='convolution')"
   ]
  },
  {
   "cell_type": "code",
   "execution_count": null,
   "metadata": {},
   "outputs": [],
   "source": [
    "import numpy as np\n",
    "\n",
    "a = np.array([-1, -1, -1, -1, 8, -1, -1, -1, -1])\n",
    "a.sum()"
   ]
  },
  {
   "cell_type": "code",
   "execution_count": null,
   "metadata": {},
   "outputs": [],
   "source": [
    "y = ma.array([-1, -1, -1, -1, 8, -1, -1, -1, -1], mask=[0, 0, 0, 0, 1, 0, 0, 0, 0,], fill_value=100)"
   ]
  },
  {
   "cell_type": "code",
   "execution_count": null,
   "metadata": {},
   "outputs": [],
   "source": [
    "import numpy.ma as ma\n",
    "y.view(ma.MaskedArray)"
   ]
  },
  {
   "cell_type": "code",
   "execution_count": null,
   "metadata": {},
   "outputs": [],
   "source": [
    "z = y.filled()"
   ]
  },
  {
   "cell_type": "code",
   "execution_count": null,
   "metadata": {},
   "outputs": [],
   "source": [
    "z"
   ]
  },
  {
   "cell_type": "code",
   "execution_count": null,
   "metadata": {},
   "outputs": [],
   "source": [
    "import sys\n",
    "sys.path.insert(0, '/Users/jnoss/dev/astropy/build/lib.macosx-10.7-x86_64-3.6/')\n",
    "import astropy\n",
    "print(astropy.version)\n",
    "\n",
    "#astropy.test(package='convolution')\n",
    "import numpy as np\n",
    "import numpy.ma as ma\n",
    "from astropy.convolution import convolve\n",
    "x = [1, 2, 3, 4, 5, 6, 7, 8, 9]\n",
    "y = ma.array([-1, -1, -1, -1, 8, -1, -1, -1, -1], mask=[1, 0, 0, 0, 0, 0, 0, 0, 0], fill_value=0.)\n",
    "np.ma.is_masked(y)\n",
    "#y.sum()\n",
    "\n",
    "#convolve(x,y,normalize_kernel=False, boundary=None)"
   ]
  },
  {
   "cell_type": "code",
   "execution_count": null,
   "metadata": {},
   "outputs": [],
   "source": [
    "y = ma.array([-1, -1, -1, -1, 7, -1, -1, -1, -1], mask=[1, 0, 0, 0, 0, 0, 0, 0, 0])\n",
    "z = y.filled(dtype=float)"
   ]
  },
  {
   "cell_type": "code",
   "execution_count": null,
   "metadata": {},
   "outputs": [],
   "source": [
    "isinstance(y.astype(float), float)"
   ]
  },
  {
   "cell_type": "code",
   "execution_count": null,
   "metadata": {},
   "outputs": [],
   "source": [
    "y.astype(float).dtype"
   ]
  },
  {
   "cell_type": "code",
   "execution_count": null,
   "metadata": {},
   "outputs": [],
   "source": [
    "y.filled().sum()"
   ]
  },
  {
   "cell_type": "code",
   "execution_count": null,
   "metadata": {},
   "outputs": [],
   "source": [
    "y.sum()"
   ]
  },
  {
   "cell_type": "code",
   "execution_count": null,
   "metadata": {},
   "outputs": [],
   "source": [
    "isinstance(y, np.ndarray)"
   ]
  },
  {
   "cell_type": "code",
   "execution_count": null,
   "metadata": {},
   "outputs": [],
   "source": [
    "np.ma.is_masked(y)"
   ]
  },
  {
   "cell_type": "code",
   "execution_count": null,
   "metadata": {},
   "outputs": [],
   "source": [
    "y[1] = np.nan"
   ]
  },
  {
   "cell_type": "code",
   "execution_count": null,
   "metadata": {},
   "outputs": [],
   "source": [
    "import numpy as np\n",
    "import sys\n",
    "sys.path.insert(0, '/Users/jnoss/dev/astropy/build/lib.macosx-10.7-x86_64-3.6/')\n",
    "import astropy\n",
    "print(astropy.version)\n",
    "from astropy.convolution import convolve\n",
    "\n",
    "\n",
    "x = (1, np.nan, 3, 4, 5, 6, 7, 8, 9)\n",
    "y = (-1, 2, -1, -1, 8, -1, -1, -1, -1)\n",
    "convolve(x,y,normalize_kernel=False, boundary=None, nan_treatment='fill')"
   ]
  },
  {
   "cell_type": "code",
   "execution_count": null,
   "metadata": {},
   "outputs": [],
   "source": [
    "np.isclose(sum(x), 0, atol=1e-8)"
   ]
  },
  {
   "cell_type": "code",
   "execution_count": null,
   "metadata": {},
   "outputs": [],
   "source": [
    "y.mask.any()"
   ]
  },
  {
   "cell_type": "code",
   "execution_count": null,
   "metadata": {},
   "outputs": [],
   "source": [
    "import sys\n",
    "sys.path.insert(0, '/Users/jnoss/dev/astropy/build/lib.macosx-10.7-x86_64-3.6/')\n",
    "import astropy\n",
    "print(astropy.version)\n",
    "import astropy.convolution\n",
    "\n",
    "import numpy as np\n",
    "import copy\n",
    "\n",
    "def convolve(x, y, *args, **kargs):\n",
    "    x_hash = x.__hash__()\n",
    "    y_hash = copy.deepcopy(y.__hash__)\n",
    "\n",
    "    ret = convolve_actual(x, y, *args, **kargs)\n",
    "\n",
    "    assert(x_hash == x.__hash__)\n",
    "    assert(y_hash == y.__hash__)\n",
    "\n",
    "    return ret\n",
    "\n",
    "x = np.array([1, 2, 2, 4, 5, 6, 7, 8, 9])\n",
    "\n",
    "y = [-1, -1, -1, -1, 8, -1, -1, -1, 0]\n",
    "\n",
    "convolve(x,y,normalize_kernel=False, boundary=None, nan_treatment='fill')"
   ]
  },
  {
   "cell_type": "code",
   "execution_count": null,
   "metadata": {},
   "outputs": [],
   "source": [
    "print(hash(x))"
   ]
  },
  {
   "cell_type": "code",
   "execution_count": null,
   "metadata": {},
   "outputs": [],
   "source": [
    "x == x"
   ]
  },
  {
   "cell_type": "code",
   "execution_count": null,
   "metadata": {},
   "outputs": [],
   "source": [
    "x"
   ]
  },
  {
   "cell_type": "code",
   "execution_count": null,
   "metadata": {},
   "outputs": [],
   "source": [
    "np.nan == np.nan"
   ]
  },
  {
   "cell_type": "code",
   "execution_count": null,
   "metadata": {},
   "outputs": [],
   "source": [
    "import hashlib\n",
    "hashlib.sha1(x).hexdigest()"
   ]
  },
  {
   "cell_type": "code",
   "execution_count": null,
   "metadata": {},
   "outputs": [],
   "source": [
    "x_c = copy.deepcopy(x)\n",
    "hashlib.sha1(x_c).hexdigest()"
   ]
  },
  {
   "cell_type": "code",
   "execution_count": null,
   "metadata": {},
   "outputs": [],
   "source": [
    "x_c.flags['WRITEABLE']=False\n",
    "hashlib.sha1(x_c).hexdigest()"
   ]
  },
  {
   "cell_type": "code",
   "execution_count": null,
   "metadata": {},
   "outputs": [],
   "source": [
    "x_c == x"
   ]
  },
  {
   "cell_type": "code",
   "execution_count": null,
   "metadata": {},
   "outputs": [],
   "source": [
    "import collections\n",
    "im_x = collections.namedtuple(\"Immutable\", x)\n"
   ]
  },
  {
   "cell_type": "code",
   "execution_count": null,
   "metadata": {},
   "outputs": [],
   "source": [
    "\n",
    "immutable_types = set((int, str))\n",
    "\n",
    "class Immutable(object):\n",
    "    def __init__(self, value):\n",
    "        self._value = value\n",
    "        #super(Immutable, self).__setattr__('_value', value)\n",
    "\n",
    "    def __getattribute__(self, name):\n",
    "        if name == '_value':\n",
    "            return super(Immutable, self).__getattribute__(name)\n",
    "        v = getattr(self._value, name)\n",
    "        return v if v.__class__ in immutable_types else freeze(v)\n",
    "\n",
    "    def __setattr__(self, name, value):\n",
    "        if name == '_value': super(Immutable, self).__setattr__(name, value)\n",
    "        else: raise Exception(\"Can't modify frozen object\")\n",
    "\n",
    "    #__slots__ = []\n",
    "\n",
    "def freeze(object):\n",
    "  return Immutable(object)"
   ]
  },
  {
   "cell_type": "code",
   "execution_count": null,
   "metadata": {},
   "outputs": [],
   "source": [
    "import numpy as np\n",
    "x = np.array([1, 2, 2, 4, 5, 6, 7, np.nan, np.nan])\n",
    "print(np.isnan(x))"
   ]
  },
  {
   "cell_type": "code",
   "execution_count": null,
   "metadata": {},
   "outputs": [],
   "source": [
    "x = ((9, 3, 1), (1,1,1), (1,1,1))\n",
    "np.asanyarray(x, dtype=float)"
   ]
  },
  {
   "cell_type": "code",
   "execution_count": null,
   "metadata": {},
   "outputs": [],
   "source": [
    "def t1():\n",
    "    print('t1')\n",
    "    \n",
    "class T:\n",
    "    @staticmethod\n",
    "    def t1():\n",
    "        print('t2')\n",
    "        \n",
    "    def test(self):\n",
    "        self.t1()\n",
    "\n",
    "a = T()\n",
    "a.test()"
   ]
  },
  {
   "cell_type": "code",
   "execution_count": null,
   "metadata": {},
   "outputs": [],
   "source": [
    "import astropy\n",
    "from astropy.convolution import convolve_fft\n",
    "x = [1,2,3,4,5,6]\n",
    "y = [1,2,3]\n",
    "convolve_fft(x,y)\n"
   ]
  },
  {
   "cell_type": "code",
   "execution_count": null,
   "metadata": {},
   "outputs": [],
   "source": [
    "a = {'a':[1,3], 'b':2}\n",
    "list(a.values())"
   ]
  },
  {
   "cell_type": "code",
   "execution_count": null,
   "metadata": {},
   "outputs": [],
   "source": [
    "def foo(a,b,c):\n",
    "    pass\n",
    "\n",
    "foo.__code__.co_varnames"
   ]
  },
  {
   "cell_type": "code",
   "execution_count": null,
   "metadata": {},
   "outputs": [],
   "source": [
    "inter = set(foo.__code__.co_varnames).intersection(set(a))"
   ]
  },
  {
   "cell_type": "code",
   "execution_count": null,
   "metadata": {},
   "outputs": [],
   "source": [
    "a[inter]"
   ]
  },
  {
   "cell_type": "code",
   "execution_count": null,
   "metadata": {},
   "outputs": [],
   "source": [
    "nl = []\n",
    "for arg in inter:\n",
    "    nl.append(a[arg])"
   ]
  },
  {
   "cell_type": "code",
   "execution_count": null,
   "metadata": {},
   "outputs": [],
   "source": [
    "nl"
   ]
  },
  {
   "cell_type": "code",
   "execution_count": null,
   "metadata": {},
   "outputs": [],
   "source": [
    "[a[arg] for arg in inter]"
   ]
  },
  {
   "cell_type": "code",
   "execution_count": null,
   "metadata": {},
   "outputs": [],
   "source": [
    "import itertools\n",
    "\n",
    "a = ['a','b','c']\n",
    "b = ['d','e','f']\n",
    "print(list(itertools.product(a,a)))"
   ]
  },
  {
   "cell_type": "code",
   "execution_count": null,
   "metadata": {},
   "outputs": [],
   "source": [
    "VALID_DTYPES = []\n",
    "for dtype_array in ['>f4', '<f4', '>f8', '<f8']:\n",
    "    for dtype_kernel in ['>f4', '<f4', '>f8', '<f8']:\n",
    "        VALID_DTYPES.append((dtype_array, dtype_kernel))\n",
    "VALID_DTYPES"
   ]
  },
  {
   "cell_type": "code",
   "execution_count": null,
   "metadata": {},
   "outputs": [],
   "source": [
    "t = ['>f4', '<f4', '>f8', '<f8']\n",
    "list(itertools.product(t,t))"
   ]
  },
  {
   "cell_type": "code",
   "execution_count": null,
   "metadata": {},
   "outputs": [],
   "source": [
    "list(itertools.product(t,a))"
   ]
  },
  {
   "cell_type": "code",
   "execution_count": null,
   "metadata": {},
   "outputs": [],
   "source": [
    "t.extend(a)\n",
    "t"
   ]
  },
  {
   "cell_type": "code",
   "execution_count": null,
   "metadata": {},
   "outputs": [],
   "source": [
    "import sys\n",
    "sys.path.insert(0, '/Users/jnoss/dev/astropy/build/lib.macosx-10.7-x86_64-3.6/')\n",
    "import astropy\n",
    "print(astropy.version)\n",
    "\n",
    "from astropy.convolution.tests.convolution_test_classes import Parameterizer\n",
    "from astropy.convolution.tests.test_convolve import TestConvolve1D\n",
    "\n",
    "import itertools\n",
    "obj = TestConvolve1D()\n",
    "\n",
    "parameter_space = obj.parameter_space\n",
    "func_arg_names = obj.test_dtype.__code__.co_varnames\n",
    "argnames = list(set(func_arg_names) & set(parameter_space.keys()))\n",
    "\n",
    "\n",
    "value_space = [parameter_space[arg] for arg in argnames]\n",
    "\n",
    "\n",
    "para = itertools.product(*value_space)\n",
    "list(para)"
   ]
  },
  {
   "cell_type": "code",
   "execution_count": null,
   "metadata": {},
   "outputs": [],
   "source": [
    "list(itertools.product(value_space, repeat= len(argnames)))"
   ]
  },
  {
   "cell_type": "code",
   "execution_count": null,
   "metadata": {},
   "outputs": [],
   "source": [
    "list(argnames)"
   ]
  },
  {
   "cell_type": "code",
   "execution_count": null,
   "metadata": {},
   "outputs": [],
   "source": [
    "import sys\n",
    "import numpy as np\n",
    "from numpy.testing import assert_array_almost_equal_nulp, assert_array_almost_equal\n",
    "sys.path.insert(0, '/Users/jnoss/dev/astropy/build/lib.macosx-10.7-x86_64-3.6/')\n",
    "import astropy\n",
    "print(astropy.version)\n",
    "inlist = [1, 4, 5, 6, 5, 7, 8]\n",
    "x = np.array(inlist)\n",
    "y = [0.2, 0.6, 0.2]\n",
    "z = astropy.convolution.convolve(x, y, boundary='fill')\n",
    "z"
   ]
  },
  {
   "cell_type": "code",
   "execution_count": null,
   "metadata": {},
   "outputs": [],
   "source": [
    "import itertools\n",
    "\n",
    "VALID_DTYPES = ('>f4', '<f4', '>f8', '<f8')\n",
    "VALID_DTYPE_MATRIX = list(itertools.product(VALID_DTYPES, VALID_DTYPES))"
   ]
  },
  {
   "cell_type": "code",
   "execution_count": null,
   "metadata": {},
   "outputs": [],
   "source": [
    "VALID_DTYPE_MATRIX"
   ]
  },
  {
   "cell_type": "code",
   "execution_count": null,
   "metadata": {},
   "outputs": [],
   "source": [
    "import sys\n",
    "import numpy as np\n",
    "import numpy.ma as ma\n",
    "from numpy.testing import assert_array_almost_equal_nulp, assert_array_almost_equal\n",
    "sys.path.insert(0, '/Users/jnoss/dev/astropy/build/lib.macosx-10.7-x86_64-3.6/')\n",
    "import astropy\n",
    "from astropy.convolution import convolve\n",
    "print(astropy.version)\n",
    "x = [3, 5, 7, 11, 13]\n",
    "#x = ma.array([3, 5, 7, 11, 13], mask=[0, 0, 1, 0, 0], fill_value=0.)#,  dtype='>f8')\n",
    "y = np.array([1., 1., 1.], dtype='>f8')\n",
    "\n",
    "convolve(x, y, preserve_nan=False)"
   ]
  },
  {
   "cell_type": "code",
   "execution_count": null,
   "metadata": {},
   "outputs": [],
   "source": [
    "8/3"
   ]
  },
  {
   "cell_type": "code",
   "execution_count": null,
   "metadata": {},
   "outputs": [],
   "source": [
    "len(\"             HSTIO error 114:  Filename /Users/jnoss/dev/test/issuexxx/jd0q14cwq_flc.fits EXTNAME SCI EXTVER 3 CFITSIO status 301ffopen could not move to the specified extension: extension with EXTNAME = SCI,           and with EXTVERS = 3, doesn't exist or couldn't be opened.\")"
   ]
  },
  {
   "cell_type": "code",
   "execution_count": null,
   "metadata": {},
   "outputs": [],
   "source": [
    "a = [1,1,1]\n",
    "isinstance(a, (list, tuple))"
   ]
  },
  {
   "cell_type": "code",
   "execution_count": null,
   "metadata": {},
   "outputs": [],
   "source": [
    "import sys\n",
    "import numpy as np\n",
    "import numpy.ma as ma\n",
    "from numpy.testing import assert_array_almost_equal_nulp, assert_array_almost_equal\n",
    "sys.path.insert(0, '/Users/jnoss/dev/astropy/build/lib.macosx-10.7-x86_64-3.6/')\n",
    "import astropy\n",
    "from astropy.openmp_enabled import is_openmp_enabled\n",
    "is_openmp_enabled()"
   ]
  },
  {
   "cell_type": "code",
   "execution_count": null,
   "metadata": {},
   "outputs": [],
   "source": [
    "import subprocess\n",
    "from distutils.errors import CompileError, LinkError\n",
    "try:\n",
    "    subprocess.check_output(\"/Users/jnoss/Desktop/a.out\")\n",
    "except (CompileError, LinkError):\n",
    "    raise\n",
    "except subprocess.CalledProcessError as error:\n",
    "        print(error)\n",
    "print(\"still here\")"
   ]
  },
  {
   "cell_type": "code",
   "execution_count": null,
   "metadata": {},
   "outputs": [],
   "source": [
    "word = \"blah\"\n",
    "print(\"I said\", word)\n"
   ]
  },
  {
   "cell_type": "code",
   "execution_count": null,
   "metadata": {},
   "outputs": [],
   "source": [
    "from scipy.ndimage import filters"
   ]
  },
  {
   "cell_type": "code",
   "execution_count": 3,
   "metadata": {},
   "outputs": [
    {
     "name": "stdout",
     "output_type": "stream",
     "text": [
      "<module 'astropy.version' from '/Users/jnoss/dev/astropy/build/lib.macosx-10.7-x86_64-3.6/astropy/version.py'>\n"
     ]
    }
   ],
   "source": [
    "import sys\n",
    "import numpy as np\n",
    "from numpy.testing import assert_array_almost_equal_nulp, assert_array_almost_equal\n",
    "sys.path.insert(0, '/Users/jnoss/dev/astropy/build/lib.macosx-10.7-x86_64-3.6/')\n",
    "import astropy\n",
    "print(astropy.version)\n",
    "\n",
    "from astropy.convolution import convolve_fft, convolve\n",
    "\n",
    "from numpy.testing import assert_allclose\n",
    "\n",
    "\n",
    "array = [1, 2, 3]\n",
    "kernel = [3, 3, 3]\n",
    "fill = convolve_fft(array, kernel, normalize_kernel=np.max, nan_treatment='fill')\n",
    "interpolate = convolve_fft(array, kernel, normalize_kernel=np.max, nan_treatment='interpolate')\n",
    "\n",
    "from astropy.convolution.tests.test_convolve_fft import assert_floatclose\n",
    "\n",
    "\n",
    "assert_floatclose(fill, interpolate)"
   ]
  },
  {
   "cell_type": "code",
   "execution_count": 12,
   "metadata": {},
   "outputs": [],
   "source": [
    " def test_nan_interpolate():\n",
    "        # Test masked array\n",
    "        array = np.array([1., np.nan, 3.], dtype='float64')\n",
    "        kernel = np.array([1, 1, 1])\n",
    "\n",
    "        result = convolve_fft(array, kernel, boundary='fill',\n",
    "                                  nan_treatment='fill',\n",
    "                                  fill_value=1)  \n",
    "        assert_floatclose(result, [1., 5/3., 5/3.])\n"
   ]
  },
  {
   "cell_type": "code",
   "execution_count": 11,
   "metadata": {},
   "outputs": [],
   "source": [
    "test_nan_interpolate()"
   ]
  },
  {
   "cell_type": "code",
   "execution_count": null,
   "metadata": {},
   "outputs": [],
   "source": []
  }
 ],
 "metadata": {
  "anaconda-cloud": {},
  "gist_id": "3e2c3645d4666674cf2b",
  "kernelspec": {
   "display_name": "Python [default]",
   "language": "python",
   "name": "python3"
  },
  "language_info": {
   "codemirror_mode": {
    "name": "ipython",
    "version": 3
   },
   "file_extension": ".py",
   "mimetype": "text/x-python",
   "name": "python",
   "nbconvert_exporter": "python",
   "pygments_lexer": "ipython3",
   "version": "3.6.4"
  }
 },
 "nbformat": 4,
 "nbformat_minor": 1
}
