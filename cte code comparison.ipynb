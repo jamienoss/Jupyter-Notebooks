{
 "cells": [
  {
   "cell_type": "code",
   "execution_count": 1,
   "metadata": {
    "collapsed": false
   },
   "outputs": [],
   "source": [
    "\n",
    "from astropy.io import fits\n",
    "import matplotlib\n",
    "import matplotlib.pyplot as plt\n",
    "#%matplotlib inline\n",
    "%matplotlib qt5\n",
    "import numpy as np\n",
    "from astropy.table import Table, Column"
   ]
  },
  {
   "cell_type": "code",
   "execution_count": 3,
   "metadata": {
    "collapsed": false
   },
   "outputs": [
    {
     "ename": "FileNotFoundError",
     "evalue": "[Errno 2] No such file or directory: '/Users/jnoss/dev/test/cte/wf3/fullframe/iacr51ojq_rac_tmp.fits-removed'",
     "output_type": "error",
     "traceback": [
      "\u001b[0;31m---------------------------------------------------------------------------\u001b[0m",
      "\u001b[0;31mFileNotFoundError\u001b[0m                         Traceback (most recent call last)",
      "\u001b[0;32m<ipython-input-3-48d62e2d197b>\u001b[0m in \u001b[0;36m<module>\u001b[0;34m()\u001b[0m\n\u001b[1;32m      9\u001b[0m \u001b[0;34m\u001b[0m\u001b[0m\n\u001b[1;32m     10\u001b[0m \u001b[0;31m#dev = fits.open('/Users/jnoss/dev/test/cte/wf3/ic0q01ynq_rac_tmp.fits')[1].data\u001b[0m\u001b[0;34m\u001b[0m\u001b[0;34m\u001b[0m\u001b[0m\n\u001b[0;32m---> 11\u001b[0;31m \u001b[0mdev\u001b[0m \u001b[0;34m=\u001b[0m \u001b[0mfits\u001b[0m\u001b[0;34m.\u001b[0m\u001b[0mopen\u001b[0m\u001b[0;34m(\u001b[0m\u001b[0;34m'/Users/jnoss/dev/test/cte/wf3/fullframe/iacr51ojq_rac_tmp.fits-removed'\u001b[0m\u001b[0;34m)\u001b[0m\u001b[0;34m[\u001b[0m\u001b[0;36m1\u001b[0m\u001b[0;34m]\u001b[0m\u001b[0;34m.\u001b[0m\u001b[0mdata\u001b[0m\u001b[0;34m\u001b[0m\u001b[0m\n\u001b[0m\u001b[1;32m     12\u001b[0m \u001b[0;34m\u001b[0m\u001b[0m\n\u001b[1;32m     13\u001b[0m \u001b[0mtruthCorr\u001b[0m \u001b[0;34m=\u001b[0m \u001b[0mtruth\u001b[0m \u001b[0;34m-\u001b[0m \u001b[0mraw\u001b[0m\u001b[0;34m\u001b[0m\u001b[0m\n",
      "\u001b[0;32m//anaconda/envs/astroconda/lib/python3.5/site-packages/astropy/io/fits/hdu/hdulist.py\u001b[0m in \u001b[0;36mfitsopen\u001b[0;34m(name, mode, memmap, save_backup, cache, lazy_load_hdus, **kwargs)\u001b[0m\n\u001b[1;32m    164\u001b[0m \u001b[0;34m\u001b[0m\u001b[0m\n\u001b[1;32m    165\u001b[0m     return HDUList.fromfile(name, mode, memmap, save_backup, cache,\n\u001b[0;32m--> 166\u001b[0;31m                             lazy_load_hdus, **kwargs)\n\u001b[0m\u001b[1;32m    167\u001b[0m \u001b[0;34m\u001b[0m\u001b[0m\n\u001b[1;32m    168\u001b[0m \u001b[0;34m\u001b[0m\u001b[0m\n",
      "\u001b[0;32m//anaconda/envs/astroconda/lib/python3.5/site-packages/astropy/io/fits/hdu/hdulist.py\u001b[0m in \u001b[0;36mfromfile\u001b[0;34m(cls, fileobj, mode, memmap, save_backup, cache, lazy_load_hdus, **kwargs)\u001b[0m\n\u001b[1;32m    402\u001b[0m         return cls._readfrom(fileobj=fileobj, mode=mode, memmap=memmap,\n\u001b[1;32m    403\u001b[0m                              \u001b[0msave_backup\u001b[0m\u001b[0;34m=\u001b[0m\u001b[0msave_backup\u001b[0m\u001b[0;34m,\u001b[0m \u001b[0mcache\u001b[0m\u001b[0;34m=\u001b[0m\u001b[0mcache\u001b[0m\u001b[0;34m,\u001b[0m\u001b[0;34m\u001b[0m\u001b[0m\n\u001b[0;32m--> 404\u001b[0;31m                              lazy_load_hdus=lazy_load_hdus, **kwargs)\n\u001b[0m\u001b[1;32m    405\u001b[0m \u001b[0;34m\u001b[0m\u001b[0m\n\u001b[1;32m    406\u001b[0m     \u001b[0;34m@\u001b[0m\u001b[0mclassmethod\u001b[0m\u001b[0;34m\u001b[0m\u001b[0m\n",
      "\u001b[0;32m//anaconda/envs/astroconda/lib/python3.5/site-packages/astropy/io/fits/hdu/hdulist.py\u001b[0m in \u001b[0;36m_readfrom\u001b[0;34m(cls, fileobj, data, mode, memmap, save_backup, cache, lazy_load_hdus, **kwargs)\u001b[0m\n\u001b[1;32m   1013\u001b[0m             \u001b[0;32mif\u001b[0m \u001b[0;32mnot\u001b[0m \u001b[0misinstance\u001b[0m\u001b[0;34m(\u001b[0m\u001b[0mfileobj\u001b[0m\u001b[0;34m,\u001b[0m \u001b[0m_File\u001b[0m\u001b[0;34m)\u001b[0m\u001b[0;34m:\u001b[0m\u001b[0;34m\u001b[0m\u001b[0m\n\u001b[1;32m   1014\u001b[0m                 \u001b[0;31m# instantiate a FITS file object (ffo)\u001b[0m\u001b[0;34m\u001b[0m\u001b[0;34m\u001b[0m\u001b[0m\n\u001b[0;32m-> 1015\u001b[0;31m                 \u001b[0mfileobj\u001b[0m \u001b[0;34m=\u001b[0m \u001b[0m_File\u001b[0m\u001b[0;34m(\u001b[0m\u001b[0mfileobj\u001b[0m\u001b[0;34m,\u001b[0m \u001b[0mmode\u001b[0m\u001b[0;34m=\u001b[0m\u001b[0mmode\u001b[0m\u001b[0;34m,\u001b[0m \u001b[0mmemmap\u001b[0m\u001b[0;34m=\u001b[0m\u001b[0mmemmap\u001b[0m\u001b[0;34m,\u001b[0m \u001b[0mcache\u001b[0m\u001b[0;34m=\u001b[0m\u001b[0mcache\u001b[0m\u001b[0;34m)\u001b[0m\u001b[0;34m\u001b[0m\u001b[0m\n\u001b[0m\u001b[1;32m   1016\u001b[0m             \u001b[0;31m# The pyfits mode is determined by the _File initializer if the\u001b[0m\u001b[0;34m\u001b[0m\u001b[0;34m\u001b[0m\u001b[0m\n\u001b[1;32m   1017\u001b[0m             \u001b[0;31m# supplied mode was None\u001b[0m\u001b[0;34m\u001b[0m\u001b[0;34m\u001b[0m\u001b[0m\n",
      "\u001b[0;32m//anaconda/envs/astroconda/lib/python3.5/site-packages/astropy/utils/decorators.py\u001b[0m in \u001b[0;36mwrapper\u001b[0;34m(*args, **kwargs)\u001b[0m\n\u001b[1;32m    505\u001b[0m                         \u001b[0;31m# one with the name of the new argument to the function\u001b[0m\u001b[0;34m\u001b[0m\u001b[0;34m\u001b[0m\u001b[0m\n\u001b[1;32m    506\u001b[0m                         \u001b[0mkwargs\u001b[0m\u001b[0;34m[\u001b[0m\u001b[0mnew_name\u001b[0m\u001b[0;34m[\u001b[0m\u001b[0mi\u001b[0m\u001b[0;34m]\u001b[0m\u001b[0;34m]\u001b[0m \u001b[0;34m=\u001b[0m \u001b[0mvalue\u001b[0m\u001b[0;34m\u001b[0m\u001b[0m\n\u001b[0;32m--> 507\u001b[0;31m             \u001b[0;32mreturn\u001b[0m \u001b[0mfunction\u001b[0m\u001b[0;34m(\u001b[0m\u001b[0;34m*\u001b[0m\u001b[0margs\u001b[0m\u001b[0;34m,\u001b[0m \u001b[0;34m**\u001b[0m\u001b[0mkwargs\u001b[0m\u001b[0;34m)\u001b[0m\u001b[0;34m\u001b[0m\u001b[0m\n\u001b[0m\u001b[1;32m    508\u001b[0m \u001b[0;34m\u001b[0m\u001b[0m\n\u001b[1;32m    509\u001b[0m         \u001b[0;32mreturn\u001b[0m \u001b[0mwrapper\u001b[0m\u001b[0;34m\u001b[0m\u001b[0m\n",
      "\u001b[0;32m//anaconda/envs/astroconda/lib/python3.5/site-packages/astropy/io/fits/file.py\u001b[0m in \u001b[0;36m__init__\u001b[0;34m(self, fileobj, mode, memmap, overwrite, cache)\u001b[0m\n\u001b[1;32m    142\u001b[0m             \u001b[0mself\u001b[0m\u001b[0;34m.\u001b[0m\u001b[0m_open_fileobj\u001b[0m\u001b[0;34m(\u001b[0m\u001b[0mfileobj\u001b[0m\u001b[0;34m,\u001b[0m \u001b[0mmode\u001b[0m\u001b[0;34m,\u001b[0m \u001b[0moverwrite\u001b[0m\u001b[0;34m)\u001b[0m\u001b[0;34m\u001b[0m\u001b[0m\n\u001b[1;32m    143\u001b[0m         \u001b[0;32melif\u001b[0m \u001b[0misinstance\u001b[0m\u001b[0;34m(\u001b[0m\u001b[0mfileobj\u001b[0m\u001b[0;34m,\u001b[0m \u001b[0mstring_types\u001b[0m\u001b[0;34m)\u001b[0m\u001b[0;34m:\u001b[0m\u001b[0;34m\u001b[0m\u001b[0m\n\u001b[0;32m--> 144\u001b[0;31m             \u001b[0mself\u001b[0m\u001b[0;34m.\u001b[0m\u001b[0m_open_filename\u001b[0m\u001b[0;34m(\u001b[0m\u001b[0mfileobj\u001b[0m\u001b[0;34m,\u001b[0m \u001b[0mmode\u001b[0m\u001b[0;34m,\u001b[0m \u001b[0moverwrite\u001b[0m\u001b[0;34m)\u001b[0m\u001b[0;34m\u001b[0m\u001b[0m\n\u001b[0m\u001b[1;32m    145\u001b[0m         \u001b[0;32melse\u001b[0m\u001b[0;34m:\u001b[0m\u001b[0;34m\u001b[0m\u001b[0m\n\u001b[1;32m    146\u001b[0m             \u001b[0mself\u001b[0m\u001b[0;34m.\u001b[0m\u001b[0m_open_filelike\u001b[0m\u001b[0;34m(\u001b[0m\u001b[0mfileobj\u001b[0m\u001b[0;34m,\u001b[0m \u001b[0mmode\u001b[0m\u001b[0;34m,\u001b[0m \u001b[0moverwrite\u001b[0m\u001b[0;34m)\u001b[0m\u001b[0;34m\u001b[0m\u001b[0m\n",
      "\u001b[0;32m//anaconda/envs/astroconda/lib/python3.5/site-packages/astropy/io/fits/file.py\u001b[0m in \u001b[0;36m_open_filename\u001b[0;34m(self, filename, mode, overwrite)\u001b[0m\n\u001b[1;32m    497\u001b[0m             \u001b[0mself\u001b[0m\u001b[0;34m.\u001b[0m\u001b[0m_file\u001b[0m \u001b[0;34m=\u001b[0m \u001b[0mbz2\u001b[0m\u001b[0;34m.\u001b[0m\u001b[0mBZ2File\u001b[0m\u001b[0;34m(\u001b[0m\u001b[0mself\u001b[0m\u001b[0;34m.\u001b[0m\u001b[0mname\u001b[0m\u001b[0;34m,\u001b[0m \u001b[0mbzip2_mode\u001b[0m\u001b[0;34m)\u001b[0m\u001b[0;34m\u001b[0m\u001b[0m\n\u001b[1;32m    498\u001b[0m         \u001b[0;32melse\u001b[0m\u001b[0;34m:\u001b[0m\u001b[0;34m\u001b[0m\u001b[0m\n\u001b[0;32m--> 499\u001b[0;31m             \u001b[0mself\u001b[0m\u001b[0;34m.\u001b[0m\u001b[0m_file\u001b[0m \u001b[0;34m=\u001b[0m \u001b[0mfileobj_open\u001b[0m\u001b[0;34m(\u001b[0m\u001b[0mself\u001b[0m\u001b[0;34m.\u001b[0m\u001b[0mname\u001b[0m\u001b[0;34m,\u001b[0m \u001b[0mIO_FITS_MODES\u001b[0m\u001b[0;34m[\u001b[0m\u001b[0mmode\u001b[0m\u001b[0;34m]\u001b[0m\u001b[0;34m)\u001b[0m\u001b[0;34m\u001b[0m\u001b[0m\n\u001b[0m\u001b[1;32m    500\u001b[0m \u001b[0;34m\u001b[0m\u001b[0m\n\u001b[1;32m    501\u001b[0m         \u001b[0;31m# Make certain we're back at the beginning of the file\u001b[0m\u001b[0;34m\u001b[0m\u001b[0;34m\u001b[0m\u001b[0m\n",
      "\u001b[0;32m//anaconda/envs/astroconda/lib/python3.5/site-packages/astropy/io/fits/util.py\u001b[0m in \u001b[0;36mfileobj_open\u001b[0;34m(filename, mode)\u001b[0m\n\u001b[1;32m    405\u001b[0m         \"\"\"\n\u001b[1;32m    406\u001b[0m \u001b[0;34m\u001b[0m\u001b[0m\n\u001b[0;32m--> 407\u001b[0;31m         \u001b[0;32mreturn\u001b[0m \u001b[0mopen\u001b[0m\u001b[0;34m(\u001b[0m\u001b[0mfilename\u001b[0m\u001b[0;34m,\u001b[0m \u001b[0mmode\u001b[0m\u001b[0;34m,\u001b[0m \u001b[0mbuffering\u001b[0m\u001b[0;34m=\u001b[0m\u001b[0;36m0\u001b[0m\u001b[0;34m)\u001b[0m\u001b[0;34m\u001b[0m\u001b[0m\n\u001b[0m\u001b[1;32m    408\u001b[0m \u001b[0;34m\u001b[0m\u001b[0m\n\u001b[1;32m    409\u001b[0m \u001b[0;34m\u001b[0m\u001b[0m\n",
      "\u001b[0;31mFileNotFoundError\u001b[0m: [Errno 2] No such file or directory: '/Users/jnoss/dev/test/cte/wf3/fullframe/iacr51ojq_rac_tmp.fits-removed'"
     ]
    }
   ],
   "source": [
    "#raw = fits.open('/Users/jnoss/dev/test/cte/wf3/truth/ic0q01ynq_raw.fits')[1].data\n",
    "raw = fits.open('/Users/jnoss/dev/test/cte/wf3/fullframe/truth/iacr51ojq_raw.fits')[1].data\n",
    "\n",
    "#truthfile = fits.open('/Users/jnoss/dev/test/cte/wf3/truth/ic0q01ynq_rac_tmp.fits')\n",
    "truthfile = fits.open('/Users/jnoss/dev/test/cte/wf3/critical-bug-tests/fullframe/iacr51ojq_rac_tmp.fits-removed-everything')\n",
    "\n",
    "#truthfile.info()\n",
    "truth = truthfile[1].data\n",
    "\n",
    "#dev = fits.open('/Users/jnoss/dev/test/cte/wf3/ic0q01ynq_rac_tmp.fits')[1].data\n",
    "dev = fits.open('/Users/jnoss/dev/test/cte/wf3/fullframe/iacr51ojq_rac_tmp.fits-removed')[1].data\n",
    "\n",
    "truthCorr = truth - raw\n",
    "devCorr = dev - raw\n",
    "\n",
    "delta = truthCorr - devCorr\n",
    "\n",
    "minscale = np.min(delta)\n",
    "maxscale = np.max(delta)\n",
    "ave = np.average(delta)\n",
    "print(minscale, maxscale, ave)\n",
    "\n",
    "\n",
    "plt.imshow(delta, cmap='gray', vmin = -1, vmax = 1)\n",
    "plt.colorbar()"
   ]
  },
  {
   "cell_type": "code",
   "execution_count": 112,
   "metadata": {
    "collapsed": false
   },
   "outputs": [
    {
     "name": "stdout",
     "output_type": "stream",
     "text": [
      "0.0 0.0 0.0\n"
     ]
    },
    {
     "data": {
      "text/plain": [
       "<matplotlib.colorbar.Colorbar at 0x2422b10b8>"
      ]
     },
     "execution_count": 112,
     "metadata": {},
     "output_type": "execute_result"
    }
   ],
   "source": [
    "#FULLFRAME\n",
    "\n",
    "ext = 1\n",
    "\n",
    "raw = fits.open('/Users/jnoss/dev/test/cte/wf3/fullframe/iacr51ojq_raw.fits')[ext].data\n",
    "\n",
    "truthfile = fits.open('/Users/jnoss/dev/test/cte/wf3/critical-bug-tests/fullframe/iacr51ojq_rac_tmp.fits')\n",
    "truth = truthfile[ext].data\n",
    "\n",
    "dev = fits.open('/Users/jnoss/dev/test/cte/wf3/fullframe/iacr51ojq_rac_tmp.fits')[ext].data\n",
    "\n",
    "\n",
    "truthCorr = truth - raw\n",
    "devCorr = dev - raw\n",
    "\n",
    "a=0#19\n",
    "b = 2070#-19\n",
    "c =2048+60#+2048+30+30\n",
    "d = c + 2048\n",
    "delta = dev[a:b, c:d] - truth[a:b, c:d]\n",
    "#delta = truthCorr[a:b, c:d] - devCorr[a:b, c:d]\n",
    "#delta = truthCorr - devCorr\n",
    "#delta = dev - truth#raw - dev\n",
    "\n",
    "minscale = np.min(delta)\n",
    "maxscale = np.max(delta)\n",
    "ave = np.average(delta)\n",
    "print(minscale, maxscale, ave)\n",
    "\n",
    "\n",
    "plt.imshow(delta, cmap='gray', vmin = -1, vmax = 1)\n",
    "#plt.imshow(delta, cmap='gray', vmin = ave - 50, vmax = ave+50)\n",
    "\n",
    "plt.colorbar()"
   ]
  },
  {
   "cell_type": "code",
   "execution_count": null,
   "metadata": {
    "collapsed": false
   },
   "outputs": [],
   "source": [
    "#SUBARRAY\n",
    "\n",
    "ext = 1\n",
    "\n",
    "raw = fits.open('/Users/jnoss/dev/test/cte/wf3//truth/ic0q01ynq_raw.fits')[ext].data\n",
    "truth = fits.open('/Users/jnoss/dev/test/cte/wf3/pre-cte-master.fits')[ext].data\n",
    "dev = fits.open('/Users/jnoss/dev/test/cte/wf3/ic0q01ynq_rac_tmp.fits')[ext].data\n",
    "\n",
    "truthCorr = truth - raw\n",
    "devCorr = dev - raw\n",
    "\n",
    "a = 0\n",
    "b = 2070-19\n",
    "c = 25\n",
    "d = 2048+25\n",
    "delta = truthCorr[a:b, c:d] - devCorr[a:b, c:d]\n",
    "#delta = truthCorr - devCorr\n",
    "\n",
    "minscale = np.min(delta)\n",
    "maxscale = np.max(delta)\n",
    "ave = np.average(delta)\n",
    "print(minscale, maxscale, ave)\n",
    "\n",
    "\n",
    "plt.imshow(delta, cmap='gray', vmin = -1, vmax = 1)\n",
    "plt.colorbar()\n"
   ]
  },
  {
   "cell_type": "code",
   "execution_count": 146,
   "metadata": {
    "collapsed": false
   },
   "outputs": [
    {
     "name": "stdout",
     "output_type": "stream",
     "text": [
      "-157.801 81.3013 0.000940108\n"
     ]
    },
    {
     "data": {
      "text/plain": [
       "<matplotlib.colorbar.Colorbar at 0x1230e68d0>"
      ]
     },
     "execution_count": 146,
     "metadata": {},
     "output_type": "execute_result"
    }
   ],
   "source": [
    "#FULLFRAME ACS\n",
    "\n",
    "ext = 4\n",
    "\n",
    "raw = fits.open('/Users/jnoss/dev/test/cte/acs/home/jbdf08unq_blv_tmp.fits')[ext].data\n",
    "\n",
    "truthfile = fits.open('/Users/jnoss/dev/test/cte/acs/home/jbdf08unq_blc_tmp-gen2.fits')\n",
    "truth = truthfile[ext].data\n",
    "\n",
    "dev = fits.open('/Users/jnoss/dev/test/cte/acs/home/jbdf08unq_blc_tmp.fits')[ext].data\n",
    "\n",
    "\n",
    "truthCorr = truth - raw\n",
    "devCorr = dev - raw\n",
    "\n",
    "a=19-19\n",
    "b = 2070-19\n",
    "c =25#+2048+30+30\n",
    "d = c + 2048\n",
    "#delta = truthCorr[a:b, c:d] - devCorr[a:b, c:d]\n",
    "delta = dev - truth\n",
    "#delta =  dev - raw\n",
    "\n",
    "minscale = np.min(delta)\n",
    "maxscale = np.max(delta)\n",
    "ave = np.average(delta)\n",
    "print(minscale, maxscale, ave)\n",
    "\n",
    "\n",
    "plt.imshow(delta, cmap='gray', vmin = -1, vmax = 1)\n",
    "#plt.imshow(dev, cmap='gray', vmin = ave - 50, vmax = ave+50)\n",
    "\n",
    "plt.colorbar()"
   ]
  },
  {
   "cell_type": "code",
   "execution_count": 145,
   "metadata": {
    "collapsed": false
   },
   "outputs": [
    {
     "name": "stdout",
     "output_type": "stream",
     "text": [
      "611048 3.509180581685698 243.6930959503957\n"
     ]
    }
   ],
   "source": [
    "nOverPixs = 25*4*2051 + 30*4*2051 + 19* 8412\n",
    "frac = nOverPixs/8412/2070\n",
    "print(nOverPixs, frac*100, frac*10*1e6/60/24)"
   ]
  },
  {
   "cell_type": "code",
   "execution_count": null,
   "metadata": {
    "collapsed": false
   },
   "outputs": [],
   "source": [
    "ext = 4\n",
    "\n",
    "raw = fits.open('/Users/jnoss/dev/test/cte/wf3/ic0q01ynq_raw.fits')[ext].data\n",
    "dev = fits.open('/Users/jnoss/dev/test/cte/wf3/ic0q01ynq_rac_tmp.fits')[ext].data\n",
    "\n",
    "delta = dev - raw\n",
    "\n",
    "minscale = np.min(delta)\n",
    "maxscale = np.max(delta)\n",
    "ave = np.average(delta)\n",
    "print(minscale, maxscale, ave)\n",
    "\n",
    "\n",
    "plt.imshow(delta, cmap='gray', vmin = -1, vmax = 1)\n",
    "plt.colorbar()"
   ]
  },
  {
   "cell_type": "code",
   "execution_count": null,
   "metadata": {
    "collapsed": false
   },
   "outputs": [],
   "source": [
    "ext = 1\n",
    "\n",
    "raw = fits.open('/Users/jnoss/dev/test/cte/wf3/fullframe/truth/iacr51ojq_raw.fits')[ext].data\n",
    "truth = fits.open('/Users/jnoss/dev/test/cte/wf3/fullframe/pre-cte-master.fits')[ext].data\n",
    "dev = fits.open('/Users/jnoss/dev/test/cte/wf3/fullframe/iacr51ojq_rac_tmp.fits')[ext].data\n",
    "\n",
    "delta = dev - raw;\n",
    "\n",
    "c = 0#2103\n",
    "b = 20\n",
    "print(delta[0:b,c])\n",
    "print(dev[0:b,c])\n",
    "print(raw[2070-b:2070,c])"
   ]
  },
  {
   "cell_type": "code",
   "execution_count": null,
   "metadata": {
    "collapsed": false
   },
   "outputs": [],
   "source": [
    "raw = fits.open('dev/test/cte/wf3/truth/ic0q01ynq_raw.fits')[1].data\n",
    "truth = fits.open('dev/test/cte/wf3/truth/ic0q01ynq_rac_tmp.fits')[1].data\n",
    "dev = fits.open('dev/test/cte/wf3/ic0q01ynq_rac_tmp.fits')[1].data\n",
    "\n",
    "rawSum = np.sum(raw)\n",
    "masterSum = np.sum(truth)\n",
    "devSum = np.sum(dev)\n",
    "\n",
    "print(masterSum- rawSum, (devSum- rawSum), masterSum- rawSum - (devSum- rawSum) )"
   ]
  },
  {
   "cell_type": "code",
   "execution_count": null,
   "metadata": {
    "collapsed": false
   },
   "outputs": [],
   "source": [
    "np.max(devCorr)"
   ]
  },
  {
   "cell_type": "code",
   "execution_count": null,
   "metadata": {
    "collapsed": false
   },
   "outputs": [],
   "source": [
    "dqfile = fits.open('dev/test/cte/wf3/iaao01k8q_rac_tmp.fits')\n",
    "dqfile.info()\n",
    "\n",
    "dq = dqfile[3].data\n",
    "\n",
    "minscale = np.min(dq)\n",
    "maxscale = np.max(dq)\n",
    "print(minscale, maxscale)\n"
   ]
  },
  {
   "cell_type": "code",
   "execution_count": null,
   "metadata": {
    "collapsed": true
   },
   "outputs": [],
   "source": []
  },
  {
   "cell_type": "markdown",
   "metadata": {},
   "source": []
  },
  {
   "cell_type": "code",
   "execution_count": null,
   "metadata": {
    "collapsed": false
   },
   "outputs": [],
   "source": [
    "minscale = np.min(truth)\n",
    "maxscale = np.max(truth)\n",
    "print(minscale, maxscale)\n",
    "plt.imshow(truth[1000:1500, 1000:2000], cmap='gray', vmin = minscale, vmax = minscale+ 200)\n"
   ]
  },
  {
   "cell_type": "code",
   "execution_count": null,
   "metadata": {
    "collapsed": false
   },
   "outputs": [],
   "source": [
    "minscale = np.min(dev)\n",
    "maxscale = np.max(dev)\n",
    "ave = np.average(dev)\n",
    "print(minscale, maxscale, ave)\n",
    "plt.imshow(dev, cmap='gray', vmin = ave-10, vmax = ave + 10)"
   ]
  },
  {
   "cell_type": "code",
   "execution_count": null,
   "metadata": {
    "collapsed": false
   },
   "outputs": [],
   "source": [
    "plt.imshow(devCorr, cmap='gray', vmin = -1, vmax = 1)"
   ]
  },
  {
   "cell_type": "code",
   "execution_count": null,
   "metadata": {
    "collapsed": false
   },
   "outputs": [],
   "source": [
    "dev1 = fits.open('dev/test/cte/wf3/b4-iaao01k8q_rac_tmp.fits')[1].data\n",
    "dev = fits.open('dev/test/cte/wf3/dev1-iaao01k8q_rac_tmp.fits')[1].data\n",
    "\n",
    "delta = dev1 - dev\n",
    "\n",
    "minscale = np.min(delta)\n",
    "maxscale = np.max(delta)\n",
    "print(minscale, maxscale)\n"
   ]
  },
  {
   "cell_type": "code",
   "execution_count": null,
   "metadata": {
    "collapsed": false
   },
   "outputs": [],
   "source": [
    "raw = fits.open('dev/test/cte/wf3/truth/orig-iaao01k8q_raw.fits')[1].data\n",
    "\n",
    "truthfile = fits.open('dev/test/cte/wf3/issue47/master-iaao01k8q_rac_tmp.fits')\n",
    "truthfile.info()\n",
    "truth = truthfile[1].data\n",
    "\n",
    "dev = fits.open('dev/test/cte/wf3/issue47/iaao01k8q_rac_tmp.fits')[1].data\n",
    "\n",
    "truthCorr = truth - raw\n",
    "devCorr = dev - raw\n",
    "\n",
    "delta = truthCorr - devCorr\n",
    "\n",
    "minscale = np.min(delta)\n",
    "maxscale = np.max(delta)\n",
    "ave = np.average(delta)\n",
    "print(minscale, maxscale, ave)\n",
    "\n",
    "       \n",
    "plt.imshow(delta, cmap='gray', vmin = -1, vmax = 1)\n",
    "plt.colorbar()"
   ]
  },
  {
   "cell_type": "code",
   "execution_count": null,
   "metadata": {
    "collapsed": false
   },
   "outputs": [],
   "source": [
    "raw = fits.open('dev/test/cte/wf3/truth/orig-iaao01k8q_raw.fits')[1].data\n",
    "\n",
    "dev = fits.open('dev/test/cte/wf3/issue47/iaao01k8q_rac_tmp.fits')[1].data\n",
    "\n",
    "delta = dev - raw\n",
    "\n",
    "minscale = np.min(delta)\n",
    "maxscale = np.max(delta)\n",
    "ave = np.average(delta)\n",
    "print(minscale, maxscale, ave)\n",
    "\n",
    "       \n",
    "plt.imshow(delta, cmap='gray', vmin = -1, vmax = 1)\n",
    "plt.colorbar()"
   ]
  },
  {
   "cell_type": "code",
   "execution_count": null,
   "metadata": {
    "collapsed": false
   },
   "outputs": [],
   "source": [
    "#raw = fits.open('dev/test/cte/wf3/truth/orig-iaao01k8q_raw.fits')[1].data\n",
    "\n",
    "raw = fits.open('dev/test/cte/wf3/truth/orig-iaao01k8q_raw.fits')[1].data\n",
    "\n",
    "minscale = np.min(raw)\n",
    "maxscale = np.max(raw)\n",
    "ave = np.average(raw)\n",
    "print(minscale, maxscale, raw)\n",
    "depth = 50\n",
    "plt.imshow(np.log(raw), cmap='gray')#, vmin = ave-depth, vmax = ave+depth)\n",
    "plt.colorbar()"
   ]
  },
  {
   "cell_type": "code",
   "execution_count": null,
   "metadata": {
    "collapsed": false
   },
   "outputs": [],
   "source": [
    "raw = fits.open('/Users/jnoss/dev/data/bethan/ic0q01ynq_raw.fits')[0].header\n",
    "#raw['pctecorr']\n",
    "raw"
   ]
  },
  {
   "cell_type": "code",
   "execution_count": null,
   "metadata": {
    "collapsed": false
   },
   "outputs": [],
   "source": [
    "master = fits.open('dev/data/bethan/test/master-ic0q01ynq_rac_tmp.fits')[1].data\n",
    "dev = fits.open('dev/data/bethan/test/ic0q01ynq_rac_tmp.fits')[1].data\n",
    "\n",
    "delta = master - dev\n",
    "\n",
    "minscale = np.min(delta)\n",
    "maxscale = np.max(delta)\n",
    "ave = np.average(delta)\n",
    "print(minscale, maxscale, ave)\n",
    "\n",
    "       \n",
    "plt.imshow(delta, cmap='gray', vmin = -1, vmax = 1)\n",
    "plt.colorbar()"
   ]
  },
  {
   "cell_type": "code",
   "execution_count": null,
   "metadata": {
    "collapsed": false
   },
   "outputs": [],
   "source": [
    "table = fits.open('/grp/hst/cdbs/iref/zcv2057mi_cte.fits')\n",
    "table.info()\n",
    "table[2].data[10]\n",
    "\n",
    "#s = table[2].data.columns[4]\n",
    "##print(s)\n",
    "#np.average(s.array)\n",
    "\n",
    "#plt.imshow(table[3].data)"
   ]
  },
  {
   "cell_type": "markdown",
   "metadata": {
    "collapsed": true
   },
   "source": [
    "new = fits.open('/Users/jnoss/dev/ref.fits')\n",
    "new.info()\n",
    "np.average(new[1].data[1][1])"
   ]
  },
  {
   "cell_type": "code",
   "execution_count": null,
   "metadata": {
    "collapsed": false
   },
   "outputs": [],
   "source": [
    "table = fits.open('/Users/jnoss/dev/cte-ref-files/ref_test.2017.04.13B.fits')\n",
    "table.info()\n",
    "#plt.imshow(table[4].data)\n",
    "#table[2].data[4]"
   ]
  },
  {
   "cell_type": "code",
   "execution_count": 16,
   "metadata": {
    "collapsed": false
   },
   "outputs": [
    {
     "data": {
      "text/plain": [
       "<Time object: scale='utc' format='mjd' value=57710.44601019679>"
      ]
     },
     "execution_count": 16,
     "metadata": {},
     "output_type": "execute_result"
    }
   ],
   "source": [
    "from astropy.time import Time\n",
    "t = 2016.881\n",
    "mjd = Time(t, format='decimalyear')\n",
    "mjd.format = 'mjd'\n",
    "mjd"
   ]
  },
  {
   "cell_type": "code",
   "execution_count": 147,
   "metadata": {
    "collapsed": false
   },
   "outputs": [
    {
     "name": "stdout",
     "output_type": "stream",
     "text": [
      "-1203.25 340.258 -3.803\n"
     ]
    }
   ],
   "source": [
    "#FULLFRAME JAYS (RAZ)\n",
    "\n",
    "ext = 1\n",
    "\n",
    "acs = fits.open('/Users/jnoss/dev/test/cte/acs/home/jbdf08unq_blc_tmp-gen2.fits')[ext].data\n",
    "acsdev = fits.open('/Users/jnoss/dev/test/cte/acs/home/jbdf08unq_blc_tmp.fits')[ext].data\n",
    "\n",
    "jraw = fits.open('/Users/jnoss/dev/test/cte/acs/jays/jbdf08unq_raz.fits')[0].data\n",
    "jdev = fits.open('/Users/jnoss/dev/test/cte/acs/jays/jbdf08unq_rzc.fits')[0].data\n",
    "\n",
    "\n",
    "#delta = raw - dev\n",
    "\n",
    "delta = acsdev[0:2048, 0:2048] - jdev[0:2048, 24:2048+24]#amp C\n",
    "#delta = acsdev[0:2048, 2048:2048*2] - jdev[0:2048, 24+2048+24:(2048+24)*2]#amp D\n",
    "\n",
    "plt.imshow(delta[0:2048, 0:2048], cmap='gray', vmin = -1, vmax = 1)\n",
    "#plt.imshow(delta, cmap='gray', vmin = ave - 50, vmax = ave+50)\n",
    "\n",
    "plt.colorbar()\n",
    "minscale = np.min(delta)\n",
    "maxscale = np.max(delta)\n",
    "ave = np.average(delta)\n",
    "print(minscale, maxscale, ave)"
   ]
  },
  {
   "cell_type": "code",
   "execution_count": 122,
   "metadata": {
    "collapsed": false
   },
   "outputs": [
    {
     "data": {
      "text/plain": [
       "SIMPLE  =                    T / Fits standard                                  \n",
       "BITPIX  =                   16 / Bits per pixel                                 \n",
       "NAXIS   =                    0 / Number of axes                                 \n",
       "EXTEND  =                    T / File may contain extensions                    \n",
       "DATE    = '2013-09-20T14:16:24' / Date FITS file was generated                  \n",
       "IRAF-TLM= '2013-10-04T14:31:37' / Time of last modification                     \n",
       "COMMENT = 'Updated by P.L. Lim and ACS Team'                                    \n",
       "ORIGIN  = 'STScI-STSDAS/TABLES'                                                 \n",
       "FILENAME= 'xa81724cj_cte.fits'                                                  \n",
       "FILETYPE= 'PIXCTE  '                                                            \n",
       "TELESCOP= 'HST     '                                                            \n",
       "USEAFTER= 'Mar 01 2002 00:00:00'                                                \n",
       "PEDIGREE= 'INFLIGHT 01/03/2002 22/07/2010'                                      \n",
       "DESCRIP = 'Parameters needed for pixel-based CTE correction ------------------' \n",
       "NCHGLEAK=                    2 / number of chg_leak extensions                  \n",
       "INSTRUME= 'ACS     '                                                            \n",
       "DETECTOR= 'WFC     '                                                            \n",
       "SIM_NIT =                    7 / number of readout simulations done per column  \n",
       "SHFT_NIT=                    7 / num shifts col readout sim is broken up into   \n",
       "RN_CLIP =                  5.0 / Read noise level in electrons.                 \n",
       "NSEMODEL=                    1 / Read noise smoothing algorithm.                \n",
       "SUBTHRSH=                -10.0 / Over-subtraction correction threshold.         \n",
       "HISTORY JUL 2010 J. Anderson defined original PHI and PSI.                      \n",
       "HISTORY AUG 2010 P. L. Lim entered original PHI and PSI into FITS.              \n",
       "HISTORY NOV 2010 P. L. Lim added RN2_NIT keyword value.                         \n",
       "HISTORY APR 2011 J. Anderson updated CTE algorithm.                             \n",
       "HISTORY APR 2011 M. Davis updated reference file code with new parameters.      \n",
       "HISTORY MAY 2011 M. Davis changed RN2_NIT parameter to RN_CLIP.                 \n",
       "HISTORY JUL 2011 M. Davis added time dependent CHG_LEAK# extensions             \n",
       "HISTORY JUL 2011 M. Davis added time dependent CTE scaling extension            \n",
       "HISTORY NOV 2011 M. Davis updated parameters for CTE algorithm version 3.0      \n",
       "HISTORY JAN 2012 M. Davis updated parameters for CTE algorithm version 3.1      \n",
       "HISTORY AUG 2013 P. L. Lim removed overscan from COL_SCALE for CALACS 8.2       \n",
       "HISTORY                                                                         \n",
       "HISTORY CALACS 8.2 will change the way the CTE correction is applied to ACS     \n",
       "HISTORY data; it will be run as a separate step (ACSCTE) instead of being       \n",
       "HISTORY run as part of the ACSCCD step.  As a result, this new PCTETAB will     \n",
       "HISTORY be needed. The only change to the PCTETAB is the removal of the         \n",
       "HISTORY overscan columns from the COL_SCALE extension, everything else in       \n",
       "HISTORY the file remains the same.                                              \n",
       "HISTORY                                                                         \n",
       "HISTORY Regression tests by SSB between the new version of CALACS (8.2.0),      \n",
       "HISTORY which used the new version of the file, and version 8.1.2/3 only        \n",
       "HISTORY showed differences for a row/column along the trimmed overscans         \n",
       "HISTORY (<0.1% of the pixels).                                                  \n",
       "HISTORY forcalacs820_cte.fits renamed to xa81724cj_cte.fits on Oct 8 2013       "
      ]
     },
     "execution_count": 122,
     "metadata": {},
     "output_type": "execute_result"
    }
   ],
   "source": [
    "ref = fits.open('/Users/jnoss/dev/cte-ref-files/xa81724cj_cte.fits')\n",
    "ref[0].header\n"
   ]
  },
  {
   "cell_type": "code",
   "execution_count": 132,
   "metadata": {
    "collapsed": false
   },
   "outputs": [],
   "source": [
    "file = '/Users/jnoss/dev/test/cte/acs/home/jbdf08unq_blv_tmp.fits'\n",
    "f = fits.open(file)\n",
    "h = f[0].header\n",
    "h.set('FIXROCR', 0)\n",
    "f.close()\n"
   ]
  },
  {
   "cell_type": "code",
   "execution_count": 134,
   "metadata": {
    "collapsed": false
   },
   "outputs": [
    {
     "ename": "KeyError",
     "evalue": "\"Keyword 'FIXROCR' not found.\"",
     "output_type": "error",
     "traceback": [
      "\u001b[0;31m---------------------------------------------------------------------------\u001b[0m",
      "\u001b[0;31mKeyError\u001b[0m                                  Traceback (most recent call last)",
      "\u001b[0;32m<ipython-input-134-92bec5ec2a96>\u001b[0m in \u001b[0;36m<module>\u001b[0;34m()\u001b[0m\n\u001b[1;32m      2\u001b[0m \u001b[0mf\u001b[0m \u001b[0;34m=\u001b[0m \u001b[0mfits\u001b[0m\u001b[0;34m.\u001b[0m\u001b[0mopen\u001b[0m\u001b[0;34m(\u001b[0m\u001b[0mfile\u001b[0m\u001b[0;34m)\u001b[0m\u001b[0;34m\u001b[0m\u001b[0m\n\u001b[1;32m      3\u001b[0m \u001b[0mh\u001b[0m \u001b[0;34m=\u001b[0m \u001b[0mf\u001b[0m\u001b[0;34m[\u001b[0m\u001b[0;36m0\u001b[0m\u001b[0;34m]\u001b[0m\u001b[0;34m.\u001b[0m\u001b[0mheader\u001b[0m\u001b[0;34m\u001b[0m\u001b[0m\n\u001b[0;32m----> 4\u001b[0;31m \u001b[0mh\u001b[0m\u001b[0;34m[\u001b[0m\u001b[0;34m'FIXROCR'\u001b[0m\u001b[0;34m]\u001b[0m\u001b[0;34m\u001b[0m\u001b[0m\n\u001b[0m\u001b[1;32m      5\u001b[0m \u001b[0mf\u001b[0m\u001b[0;34m.\u001b[0m\u001b[0mclose\u001b[0m\u001b[0;34m(\u001b[0m\u001b[0;34m)\u001b[0m\u001b[0;34m\u001b[0m\u001b[0m\n",
      "\u001b[0;32m//anaconda/envs/astroconda/lib/python3.5/site-packages/astropy/io/fits/header.py\u001b[0m in \u001b[0;36m__getitem__\u001b[0;34m(self, key)\u001b[0m\n\u001b[1;32m    148\u001b[0m         \u001b[0;32melse\u001b[0m\u001b[0;34m:\u001b[0m\u001b[0;34m\u001b[0m\u001b[0m\n\u001b[1;32m    149\u001b[0m             \u001b[0mkeyword\u001b[0m \u001b[0;34m=\u001b[0m \u001b[0mkey\u001b[0m\u001b[0;34m\u001b[0m\u001b[0m\n\u001b[0;32m--> 150\u001b[0;31m         \u001b[0mcard\u001b[0m \u001b[0;34m=\u001b[0m \u001b[0mself\u001b[0m\u001b[0;34m.\u001b[0m\u001b[0m_cards\u001b[0m\u001b[0;34m[\u001b[0m\u001b[0mself\u001b[0m\u001b[0;34m.\u001b[0m\u001b[0m_cardindex\u001b[0m\u001b[0;34m(\u001b[0m\u001b[0mkey\u001b[0m\u001b[0;34m)\u001b[0m\u001b[0;34m]\u001b[0m\u001b[0;34m\u001b[0m\u001b[0m\n\u001b[0m\u001b[1;32m    151\u001b[0m         \u001b[0;32mif\u001b[0m \u001b[0mcard\u001b[0m\u001b[0;34m.\u001b[0m\u001b[0mfield_specifier\u001b[0m \u001b[0;32mis\u001b[0m \u001b[0;32mnot\u001b[0m \u001b[0;32mNone\u001b[0m \u001b[0;32mand\u001b[0m \u001b[0mkeyword\u001b[0m \u001b[0;34m==\u001b[0m \u001b[0mcard\u001b[0m\u001b[0;34m.\u001b[0m\u001b[0mrawkeyword\u001b[0m\u001b[0;34m:\u001b[0m\u001b[0;34m\u001b[0m\u001b[0m\n\u001b[1;32m    152\u001b[0m             \u001b[0;31m# This is RVKC; if only the top-level keyword was specified return\u001b[0m\u001b[0;34m\u001b[0m\u001b[0;34m\u001b[0m\u001b[0m\n",
      "\u001b[0;32m//anaconda/envs/astroconda/lib/python3.5/site-packages/astropy/io/fits/header.py\u001b[0m in \u001b[0;36m_cardindex\u001b[0;34m(self, key)\u001b[0m\n\u001b[1;32m   1675\u001b[0m \u001b[0;34m\u001b[0m\u001b[0m\n\u001b[1;32m   1676\u001b[0m         \u001b[0;32mif\u001b[0m \u001b[0;32mnot\u001b[0m \u001b[0mindices\u001b[0m\u001b[0;34m:\u001b[0m\u001b[0;34m\u001b[0m\u001b[0m\n\u001b[0;32m-> 1677\u001b[0;31m             \u001b[0;32mraise\u001b[0m \u001b[0mKeyError\u001b[0m\u001b[0;34m(\u001b[0m\u001b[0;34m\"Keyword {!r} not found.\"\u001b[0m\u001b[0;34m.\u001b[0m\u001b[0mformat\u001b[0m\u001b[0;34m(\u001b[0m\u001b[0mkeyword\u001b[0m\u001b[0;34m)\u001b[0m\u001b[0;34m)\u001b[0m\u001b[0;34m\u001b[0m\u001b[0m\n\u001b[0m\u001b[1;32m   1678\u001b[0m \u001b[0;34m\u001b[0m\u001b[0m\n\u001b[1;32m   1679\u001b[0m         \u001b[0;32mtry\u001b[0m\u001b[0;34m:\u001b[0m\u001b[0;34m\u001b[0m\u001b[0m\n",
      "\u001b[0;31mKeyError\u001b[0m: \"Keyword 'FIXROCR' not found.\""
     ]
    }
   ],
   "source": [
    "file = '/Users/jnoss/dev/test/cte/acs/home/jbdf08unq_blv_tmp.fits'\n",
    "f = fits.open(file)\n",
    "h = f[0].header\n",
    "h['FIXROCR']\n",
    "f.close()"
   ]
  },
  {
   "cell_type": "code",
   "execution_count": 138,
   "metadata": {
    "collapsed": false
   },
   "outputs": [],
   "source": [
    "fits.setval('/Users/jnoss/dev/test/cte/acs/home/jbdf08unq_blv_tmp.fits', 'FIXROCR', value=1)"
   ]
  },
  {
   "cell_type": "code",
   "execution_count": 9,
   "metadata": {
    "collapsed": false
   },
   "outputs": [
    {
     "name": "stdout",
     "output_type": "stream",
     "text": [
      "-0.193588 0.291401 6.63589e-06\n"
     ]
    },
    {
     "data": {
      "text/plain": [
       "<matplotlib.colorbar.Colorbar at 0x126476eb8>"
      ]
     },
     "execution_count": 9,
     "metadata": {},
     "output_type": "execute_result"
    }
   ],
   "source": [
    "#FULLFRAME ACS\n",
    "\n",
    "ext = 2\n",
    "\n",
    "\n",
    "truthfile = fits.open('/Users/jnoss/dev/test/cte/acs/j6lq01naq_blc_tmp-err-bug-fixed.fits')\n",
    "truth = truthfile[ext].data\n",
    "\n",
    "dev = fits.open('/Users/jnoss/dev/test/cte/acs/j6lq01naq_blc_tmp.fits')[ext].data\n",
    "\n",
    "\n",
    "\n",
    "a=19-19\n",
    "b = 2070-19\n",
    "c =25#+2048+30+30\n",
    "d = c + 2048\n",
    "#delta = truthCorr[a:b, c:d] - devCorr[a:b, c:d]\n",
    "delta = dev - truth\n",
    "#delta =  dev - raw\n",
    "\n",
    "minscale = np.min(delta)\n",
    "maxscale = np.max(delta)\n",
    "ave = np.average(delta)\n",
    "print(minscale, maxscale, ave)\n",
    "\n",
    "\n",
    "plt.imshow(delta, cmap='gray', vmin = -1, vmax = 1)\n",
    "#plt.imshow(dev, cmap='gray', vmin = ave - 50, vmax = ave+50)\n",
    "\n",
    "plt.colorbar()"
   ]
  },
  {
   "cell_type": "code",
   "execution_count": 17,
   "metadata": {
    "collapsed": false
   },
   "outputs": [
    {
     "ename": "TypeError",
     "evalue": "unsupported operand type(s) for /: 'NoneType' and 'int'",
     "output_type": "error",
     "traceback": [
      "\u001b[0;31m---------------------------------------------------------------------------\u001b[0m",
      "\u001b[0;31mTypeError\u001b[0m                                 Traceback (most recent call last)",
      "\u001b[0;32m<ipython-input-17-93ad73f5b58a>\u001b[0m in \u001b[0;36m<module>\u001b[0;34m()\u001b[0m\n\u001b[1;32m     21\u001b[0m \u001b[0mminscale\u001b[0m \u001b[0;34m=\u001b[0m \u001b[0mnp\u001b[0m\u001b[0;34m.\u001b[0m\u001b[0mmin\u001b[0m\u001b[0;34m(\u001b[0m\u001b[0mdelta\u001b[0m\u001b[0;34m)\u001b[0m\u001b[0;34m\u001b[0m\u001b[0m\n\u001b[1;32m     22\u001b[0m \u001b[0mmaxscale\u001b[0m \u001b[0;34m=\u001b[0m \u001b[0mnp\u001b[0m\u001b[0;34m.\u001b[0m\u001b[0mmax\u001b[0m\u001b[0;34m(\u001b[0m\u001b[0mdelta\u001b[0m\u001b[0;34m)\u001b[0m\u001b[0;34m\u001b[0m\u001b[0m\n\u001b[0;32m---> 23\u001b[0;31m \u001b[0mave\u001b[0m \u001b[0;34m=\u001b[0m \u001b[0mnp\u001b[0m\u001b[0;34m.\u001b[0m\u001b[0maverage\u001b[0m\u001b[0;34m(\u001b[0m\u001b[0mdelta\u001b[0m\u001b[0;34m)\u001b[0m\u001b[0;34m\u001b[0m\u001b[0m\n\u001b[0m\u001b[1;32m     24\u001b[0m \u001b[0mprint\u001b[0m\u001b[0;34m(\u001b[0m\u001b[0mminscale\u001b[0m\u001b[0;34m,\u001b[0m \u001b[0mmaxscale\u001b[0m\u001b[0;34m,\u001b[0m \u001b[0mave\u001b[0m\u001b[0;34m)\u001b[0m\u001b[0;34m\u001b[0m\u001b[0m\n\u001b[1;32m     25\u001b[0m \u001b[0;34m\u001b[0m\u001b[0m\n",
      "\u001b[0;32m//anaconda/envs/astroconda/lib/python3.5/site-packages/numpy/lib/function_base.py\u001b[0m in \u001b[0;36maverage\u001b[0;34m(a, axis, weights, returned)\u001b[0m\n\u001b[1;32m    933\u001b[0m \u001b[0;34m\u001b[0m\u001b[0m\n\u001b[1;32m    934\u001b[0m     \u001b[0;32mif\u001b[0m \u001b[0mweights\u001b[0m \u001b[0;32mis\u001b[0m \u001b[0;32mNone\u001b[0m\u001b[0;34m:\u001b[0m\u001b[0;34m\u001b[0m\u001b[0m\n\u001b[0;32m--> 935\u001b[0;31m         \u001b[0mavg\u001b[0m \u001b[0;34m=\u001b[0m \u001b[0ma\u001b[0m\u001b[0;34m.\u001b[0m\u001b[0mmean\u001b[0m\u001b[0;34m(\u001b[0m\u001b[0maxis\u001b[0m\u001b[0;34m)\u001b[0m\u001b[0;34m\u001b[0m\u001b[0m\n\u001b[0m\u001b[1;32m    936\u001b[0m         \u001b[0mscl\u001b[0m \u001b[0;34m=\u001b[0m \u001b[0mavg\u001b[0m\u001b[0;34m.\u001b[0m\u001b[0mdtype\u001b[0m\u001b[0;34m.\u001b[0m\u001b[0mtype\u001b[0m\u001b[0;34m(\u001b[0m\u001b[0ma\u001b[0m\u001b[0;34m.\u001b[0m\u001b[0msize\u001b[0m\u001b[0;34m/\u001b[0m\u001b[0mavg\u001b[0m\u001b[0;34m.\u001b[0m\u001b[0msize\u001b[0m\u001b[0;34m)\u001b[0m\u001b[0;34m\u001b[0m\u001b[0m\n\u001b[1;32m    937\u001b[0m     \u001b[0;32melse\u001b[0m\u001b[0;34m:\u001b[0m\u001b[0;34m\u001b[0m\u001b[0m\n",
      "\u001b[0;32m//anaconda/envs/astroconda/lib/python3.5/site-packages/numpy/core/_methods.py\u001b[0m in \u001b[0;36m_mean\u001b[0;34m(a, axis, dtype, out, keepdims)\u001b[0m\n\u001b[1;32m     70\u001b[0m         \u001b[0mret\u001b[0m \u001b[0;34m=\u001b[0m \u001b[0mret\u001b[0m\u001b[0;34m.\u001b[0m\u001b[0mdtype\u001b[0m\u001b[0;34m.\u001b[0m\u001b[0mtype\u001b[0m\u001b[0;34m(\u001b[0m\u001b[0mret\u001b[0m \u001b[0;34m/\u001b[0m \u001b[0mrcount\u001b[0m\u001b[0;34m)\u001b[0m\u001b[0;34m\u001b[0m\u001b[0m\n\u001b[1;32m     71\u001b[0m     \u001b[0;32melse\u001b[0m\u001b[0;34m:\u001b[0m\u001b[0;34m\u001b[0m\u001b[0m\n\u001b[0;32m---> 72\u001b[0;31m         \u001b[0mret\u001b[0m \u001b[0;34m=\u001b[0m \u001b[0mret\u001b[0m \u001b[0;34m/\u001b[0m \u001b[0mrcount\u001b[0m\u001b[0;34m\u001b[0m\u001b[0m\n\u001b[0m\u001b[1;32m     73\u001b[0m \u001b[0;34m\u001b[0m\u001b[0m\n\u001b[1;32m     74\u001b[0m     \u001b[0;32mreturn\u001b[0m \u001b[0mret\u001b[0m\u001b[0;34m\u001b[0m\u001b[0m\n",
      "\u001b[0;31mTypeError\u001b[0m: unsupported operand type(s) for /: 'NoneType' and 'int'"
     ]
    }
   ],
   "source": [
    "#FULLFRAME wf3 err\n",
    "\n",
    "ext = 2\n",
    "\n",
    "\n",
    "truthfile = fits.open('/Users/jnoss/dev/test/cte/wf3/fullframe/iacr51ojq_raw.fits')\n",
    "truth = truthfile[ext].data\n",
    "\n",
    "dev = fits.open('/Users/jnoss/dev/test/cte/wf3/fullframe/iacr51ojq_rac_tmp-with-errors.fits')[ext].data\n",
    "\n",
    "\n",
    "\n",
    "a=19-19\n",
    "b = 2070-19\n",
    "c =25#+2048+30+30\n",
    "d = c + 2048\n",
    "#delta = truthCorr[a:b, c:d] - devCorr[a:b, c:d]\n",
    "delta = truth#dev - truth\n",
    "#delta =  dev - raw\n",
    "\n",
    "minscale = np.min(delta)\n",
    "maxscale = np.max(delta)\n",
    "ave = np.average(delta)\n",
    "print(minscale, maxscale, ave)\n",
    "\n",
    "\n",
    "plt.imshow(delta, cmap='gray', vmin = -1, vmax = 1)\n",
    "#plt.imshow(dev, cmap='gray', vmin = ave - 50, vmax = ave+50)\n",
    "\n",
    "plt.colorbar()"
   ]
  },
  {
   "cell_type": "code",
   "execution_count": 2,
   "metadata": {
    "collapsed": false
   },
   "outputs": [
    {
     "name": "stdout",
     "output_type": "stream",
     "text": [
      "-0.331543 2.72119 2.28253e-05\n"
     ]
    },
    {
     "data": {
      "text/plain": [
       "<matplotlib.colorbar.Colorbar at 0x1285dc198>"
      ]
     },
     "execution_count": 2,
     "metadata": {},
     "output_type": "execute_result"
    }
   ],
   "source": [
    "#raw = fits.open('/Users/jnoss/dev/test/cte/wf3/truth/ic0q01ynq_raw.fits')[1].data\n",
    "raw = fits.open('/Users/jnoss/dev/test/cte/wf3/fullframe/1.2.0/iacr51ojq_rac_tmp.fits')[1].data\n",
    "\n",
    "\n",
    "#dev = fits.open('/Users/jnoss/dev/test/cte/wf3/ic0q01ynq_rac_tmp.fits')[1].data\n",
    "dev = fits.open('/Users/jnoss/dev/test/cte/wf3/fullframe/dev/iacr51ojq_rac_tmp.fits')[1].data\n",
    "\n",
    "\n",
    "\n",
    "delta = raw - dev\n",
    "\n",
    "minscale = np.min(delta)\n",
    "maxscale = np.max(delta)\n",
    "ave = np.average(delta)\n",
    "print(minscale, maxscale, ave)\n",
    "\n",
    "\n",
    "plt.imshow(delta, cmap='gray', vmin = -1, vmax = 1)\n",
    "plt.colorbar()"
   ]
  },
  {
   "cell_type": "code",
   "execution_count": null,
   "metadata": {
    "collapsed": true
   },
   "outputs": [],
   "source": []
  }
 ],
 "metadata": {
  "anaconda-cloud": {},
  "kernelspec": {
   "display_name": "Python [conda env:astroconda]",
   "language": "python",
   "name": "conda-env-astroconda-py"
  },
  "language_info": {
   "codemirror_mode": {
    "name": "ipython",
    "version": 3
   },
   "file_extension": ".py",
   "mimetype": "text/x-python",
   "name": "python",
   "nbconvert_exporter": "python",
   "pygments_lexer": "ipython3",
   "version": "3.5.3"
  }
 },
 "nbformat": 4,
 "nbformat_minor": 1
}
