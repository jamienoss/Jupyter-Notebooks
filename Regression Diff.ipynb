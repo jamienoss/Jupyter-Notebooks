{
 "cells": [
  {
   "cell_type": "code",
   "execution_count": 22,
   "metadata": {
    "collapsed": true
   },
   "outputs": [],
   "source": [
    "from astropy.io import fits\n",
    "import os\n",
    "import subprocess\n",
    "import sys\n",
    "#from os import system\n",
    "#from os import spawn*\n",
    "import shutil\n",
    "import time"
   ]
  },
  {
   "cell_type": "code",
   "execution_count": null,
   "metadata": {
    "collapsed": true
   },
   "outputs": [],
   "source": [
    "from shutil import move, copystat\n",
    "\n",
    "def movetree(src, dst, symlinks=False, ignore=None, move_function=move,\n",
    "             ignore_dangling_symlinks=False):\n",
    "    \"\"\"Recursively copy a directory tree.\n",
    "\n",
    "    The destination directory must not already exist.\n",
    "    If exception(s) occur, an Error is raised with a list of reasons.\n",
    "\n",
    "    If the optional symlinks flag is true, symbolic links in the\n",
    "    source tree result in symbolic links in the destination tree; if\n",
    "    it is false, the contents of the files pointed to by symbolic\n",
    "    links are copied. If the file pointed by the symlink doesn't\n",
    "    exist, an exception will be added in the list of errors raised in\n",
    "    an Error exception at the end of the copy process.\n",
    "\n",
    "    You can set the optional ignore_dangling_symlinks flag to true if you\n",
    "    want to silence this exception. Notice that this has no effect on\n",
    "    platforms that don't support os.symlink.\n",
    "\n",
    "    The optional ignore argument is a callable. If given, it\n",
    "    is called with the `src` parameter, which is the directory\n",
    "    being visited by copytree(), and `names` which is the list of\n",
    "    `src` contents, as returned by os.listdir():\n",
    "\n",
    "        callable(src, names) -> ignored_names\n",
    "\n",
    "    Since copytree() is called recursively, the callable will be\n",
    "    called once for each directory that is copied. It returns a\n",
    "    list of names relative to the `src` directory that should\n",
    "    not be copied.\n",
    "\n",
    "    The optional copy_function argument is a callable that will be used\n",
    "    to copy each file. It will be called with the source path and the\n",
    "    destination path as arguments. By default, copy2() is used, but any\n",
    "    function that supports the same signature (like copy()) can be used.\n",
    "\n",
    "    \"\"\"\n",
    "    names = os.listdir(src)\n",
    "    if ignore is not None:\n",
    "        ignored_names = ignore(src, names)\n",
    "    else:\n",
    "        ignored_names = set()\n",
    "\n",
    "    os.makedirs(dst)\n",
    "    errors = []\n",
    "    for name in names:\n",
    "        if name in ignored_names:\n",
    "            continue\n",
    "        srcname = os.path.join(src, name)\n",
    "        dstname = os.path.join(dst, name)\n",
    "        try:\n",
    "            if os.path.islink(srcname):\n",
    "                linkto = os.readlink(srcname)\n",
    "                if symlinks:\n",
    "                    os.symlink(linkto, dstname)\n",
    "                else:\n",
    "                    # ignore dangling symlink if the flag is on\n",
    "                    if not os.path.exists(linkto) and ignore_dangling_symlinks:\n",
    "                        continue\n",
    "                    # otherwise let the copy occurs. copy2 will raise an error\n",
    "                    move_function(srcname, dstname)\n",
    "            elif os.path.isdir(srcname):\n",
    "                movetree(srcname, dstname, symlinks, ignore, move_function)\n",
    "            else:\n",
    "                # Will raise a SpecialFileError for unsupported file types\n",
    "                move_function(srcname, dstname)\n",
    "        # catch the Error from the recursive copytree so that we can\n",
    "        # continue with other files\n",
    "        except Error as err:\n",
    "            errors.extend(err.args[0])\n",
    "        except EnvironmentError as why:\n",
    "            errors.append((srcname, dstname, str(why)))\n",
    "    try:\n",
    "        copystat(src, dst) #Noss: this can stay\n",
    "    except OSError as why:\n",
    "        if WindowsError is not None and isinstance(why, WindowsError):\n",
    "            # Copying file access times may fail on Windows\n",
    "            pass\n",
    "        else:\n",
    "            errors.append((src, dst, str(why)))\n",
    "    if errors:\n",
    "        raise Error(errors)"
   ]
  },
  {
   "cell_type": "code",
   "execution_count": 11,
   "metadata": {
    "collapsed": false
   },
   "outputs": [
    {
     "name": "stdout",
     "output_type": "stream",
     "text": [
      "Path containing test data: \"/Users/jamie/dev/regression/regress\"\n",
      "Path containing executables: \"/Users/jamie/dev/builds/master\"\n",
      "Path to dump all output: \"/Users/jamie/dev/regression/master/\"\n",
      "\n",
      "\n",
      "24 acs input files found.\n",
      "4 stis input files found.\n",
      "490 wf3 input files found.\n",
      "\n",
      "Time taken to walk directory tree: 27.648819000000003\n",
      "\n",
      "Processing CTE corrections only:\n",
      "\n",
      "5 wf3cte input files found.\n",
      "\n",
      "\n",
      "Processing \"/Users/jamie/dev/regression/regress/wf3/uvis/iaao01k8q_raw.fits\"...\n",
      "Process succeded\n",
      "\n",
      "Processing \"/Users/jamie/dev/regression/regress/wf3/uvis/iacr51ohq_raw.fits\"...\n",
      "Process succeded\n",
      "\n",
      "Processing \"/Users/jamie/dev/regression/regress/wf3/uvis/iacr51ojq_raw.fits\"...\n",
      "Process succeded\n",
      "\n",
      "Processing \"/Users/jamie/dev/regression/regress/wf3/uvis/iacr51okq_raw.fits\"...\n",
      "Process succeded\n",
      "\n",
      "Processing \"/Users/jamie/dev/regression/regress/wf3/uvis/iacr51omq_raw.fits\"...\n",
      "Process succeded\n",
      "\n",
      "Total time taken: 31.387382000000002 (seconds)\n"
     ]
    }
   ],
   "source": [
    "startTime = time.time()\n",
    "\n",
    "regressionPath = '/Users/jamie/dev/regression/regress'\n",
    "execPath = '/Users/jamie/dev/builds/master'\n",
    "outPath = '/Users/jamie/dev/regression/master/'\n",
    "\n",
    "print('Path containing test data: \"{0}\"'.format(regressionPath))\n",
    "print('Path containing executables: \"{0}\"'.format(execPath))\n",
    "print('Path to dump all output: \"{0}\"'.format(outPath))\n",
    "print('\\n')\n",
    "\n",
    "cteOnly = True\n",
    "compareOnTheFly = False\n",
    "compareOnly = False\n",
    "\n",
    "#create output dir and/or move old one to outPath + '-old'\n",
    "try:\n",
    "    os.mkdir(outPath)\n",
    "except FileExistsError:\n",
    "    sys.exit('uh oh, that was a close one! The output path \"{0}\" already exists, please delete or use another path'.format(outPath))\n",
    "logPath = os.path.join(outPath, 'logs')\n",
    "os.mkdir(logPath)\n",
    "\n",
    "wf3Input = []\n",
    "acsInput = []\n",
    "stisInput = []\n",
    "\n",
    "tree = os.walk(regressionPath, topdown = True, followlinks = False)\n",
    "for root, dir, files in tree:\n",
    "    for fname in files:\n",
    "        if 'raw.fits' in fname and 'raw.fits.svn-base' not in fname:\n",
    "            fullFilePath = os.path.join(root, fname)\n",
    "            hdu = fits.open(fullFilePath)\n",
    "            instrument = hdu[0].header['instrume']\n",
    "            hdu.close()\n",
    "            if 'WFC3' in instrument:\n",
    "                wf3Input.append(fullFilePath)\n",
    "            elif 'ACS' in instrument:\n",
    "                acsInput.append(fullFilePath)\n",
    "            elif 'STIS' in instrument:\n",
    "                stisInput.append(fullFilePath)\n",
    "\n",
    "print('{0} acs input files found.'.format(str(len(acsInput))))\n",
    "print('{0} stis input files found.'.format(str(len(stisInput))))\n",
    "print('{0} wf3 input files found.\\n'.format(str(len(wf3Input))))\n",
    "\n",
    "print('Time taken to walk directory tree: {0}\\n'.format(str(time.time() - startTime)))\n",
    "\n",
    "if cteOnly:\n",
    "    print('Processing CTE corrections only:\\n')\n",
    "\n",
    "    wf3CTEInput = []\n",
    "    for entry in wf3Input:\n",
    "        hdu = fits.open(entry)\n",
    "        try:\n",
    "            cteCorrect = hdu[0].header['PCTECORR']\n",
    "        except KeyError:\n",
    "            #print('Missing \"PCTECORR\" keyword, skipping ' + entry)\n",
    "            continue\n",
    "        hdu.close()\n",
    "        if 'PERFORM' in cteCorrect:\n",
    "            wf3CTEInput.append(entry)\n",
    "    \n",
    "    print('{0} wf3cte input files found.\\n'.format(str(len(wf3CTEInput))))\n",
    "    \n",
    "    cmd = os.path.join(execPath, 'wf3cte.e')\n",
    "    if os.path.exists(cmd) == False:\n",
    "        sys.exit('ERROR: The required executable \"{0}\" does not exist!'.format(cmd))\n",
    "    \n",
    "    #Acquire version\n",
    "    version = subprocess.run([cmd, \"--version\"], shell=False, check=False, stdout=subprocess.PIPE, universal_newlines=True).stdout\n",
    "       \n",
    "    os.chdir(outPath)\n",
    "    for entry in wf3CTEInput:\n",
    "        print('\\nProcessing \"{0}\"...'.format(entry))\n",
    "        #Run wf3cte on relevant files (one at a ime)\n",
    "        results = subprocess.run(['time', cmd, \"-v\", entry], shell=False, check=False, universal_newlines=True, stdout=subprocess.PIPE, stderr=subprocess.PIPE)\n",
    "        \n",
    "        #Now look at results and write them to a log file in outPath\n",
    "        logFile = os.path.basename(entry) + '.log'\n",
    "        logFile = os.path.join(logPath, logFile)\n",
    "        try:\n",
    "            fid = open(logFile, mode='w')\n",
    "        except OSError as err:\n",
    "            print('ERROR: Cannot write log file \"{0}\" due to:'.format(logFile))\n",
    "            print('\"{0}\"'.format(err))\n",
    "        else:\n",
    "            fid.write('Input file: \"{0}\"\\n'.format(entry))\n",
    "            fid.write('Program: \"{0}\"\\n'.format(cmd))\n",
    "            fid.write('Version: {0}\\n'.format(str(version)))\n",
    "            fid.write('return code:{0}\\n\\n'.format(str(results.returncode)))\n",
    "            fid.write('stdout results:\\n {0}\\n\\n'.format(str(results.stdout)))\n",
    "            fid.write('stderr results:\\n {0}\\n\\n'.format(str(results.stderr)))\n",
    "            fid.close()\n",
    "        \n",
    "        if results.returncode:\n",
    "            print('Process failed')\n",
    "        else:\n",
    "            print('Process succeded')         \n",
    "            \n",
    "            #Check each test on the fly\n",
    "            if compareOnTheFly:\n",
    "                print('Comparing results...')\n",
    "                #do comparison with FITSDiff\n",
    "            \n",
    "#move generated files to outPath/results (add 'results' so that copytree can be used)\n",
    "movetree(regressionPath, os.path.join(outPath, 'results'), ignore=shutil.ignore_patterns('*raw.fits'))\n",
    "\n",
    "\n",
    "\n",
    "print('\\nTotal time taken: {0} (seconds)'.format(str(time.time() - startTime)))\n",
    "\n"
   ]
  },
  {
   "cell_type": "code",
   "execution_count": 8,
   "metadata": {
    "collapsed": true
   },
   "outputs": [
    {
     "name": "stderr",
     "output_type": "stream",
     "text": [
      "ERROR:root:Internal Python error in the inspect module.\n",
      "Below is the traceback from this internal error.\n",
      "\n"
     ]
    },
    {
     "name": "stdout",
     "output_type": "stream",
     "text": [
      "Traceback (most recent call last):\n",
      "  File \"//anaconda/envs/astroconda/lib/python3.5/site-packages/IPython/core/interactiveshell.py\", line 2881, in run_code\n",
      "    exec(code_obj, self.user_global_ns, self.user_ns)\n",
      "  File \"<ipython-input-8-e565318b6a94>\", line 1, in <module>\n",
      "    rawfile = fits.open('dev/test/cte/wf3/truth/ic0q01ynq_raw.fits')\n",
      "  File \"//anaconda/envs/astroconda/lib/python3.5/site-packages/astropy/io/fits/hdu/hdulist.py\", line 166, in fitsopen\n",
      "    lazy_load_hdus, **kwargs)\n",
      "  File \"//anaconda/envs/astroconda/lib/python3.5/site-packages/astropy/io/fits/hdu/hdulist.py\", line 404, in fromfile\n",
      "    lazy_load_hdus=lazy_load_hdus, **kwargs)\n",
      "  File \"//anaconda/envs/astroconda/lib/python3.5/site-packages/astropy/io/fits/hdu/hdulist.py\", line 1015, in _readfrom\n",
      "    fileobj = _File(fileobj, mode=mode, memmap=memmap, cache=cache)\n",
      "  File \"//anaconda/envs/astroconda/lib/python3.5/site-packages/astropy/utils/decorators.py\", line 493, in wrapper\n",
      "    return function(*args, **kwargs)\n",
      "  File \"//anaconda/envs/astroconda/lib/python3.5/site-packages/astropy/io/fits/file.py\", line 144, in __init__\n",
      "    self._open_filename(fileobj, mode, overwrite)\n",
      "  File \"//anaconda/envs/astroconda/lib/python3.5/site-packages/astropy/io/fits/file.py\", line 499, in _open_filename\n",
      "    self._file = fileobj_open(self.name, IO_FITS_MODES[mode])\n",
      "  File \"//anaconda/envs/astroconda/lib/python3.5/site-packages/astropy/io/fits/util.py\", line 407, in fileobj_open\n",
      "    return open(filename, mode, buffering=0)\n",
      "FileNotFoundError: [Errno 2] No such file or directory: 'dev/test/cte/wf3/truth/ic0q01ynq_raw.fits'\n",
      "\n",
      "During handling of the above exception, another exception occurred:\n",
      "\n",
      "Traceback (most recent call last):\n",
      "  File \"//anaconda/envs/astroconda/lib/python3.5/site-packages/IPython/core/interactiveshell.py\", line 1821, in showtraceback\n",
      "    stb = value._render_traceback_()\n",
      "AttributeError: 'FileNotFoundError' object has no attribute '_render_traceback_'\n",
      "\n",
      "During handling of the above exception, another exception occurred:\n",
      "\n",
      "Traceback (most recent call last):\n",
      "  File \"//anaconda/envs/astroconda/lib/python3.5/site-packages/IPython/core/ultratb.py\", line 1132, in get_records\n",
      "    return _fixed_getinnerframes(etb, number_of_lines_of_context, tb_offset)\n",
      "  File \"//anaconda/envs/astroconda/lib/python3.5/site-packages/IPython/core/ultratb.py\", line 313, in wrapped\n",
      "    return f(*args, **kwargs)\n",
      "  File \"//anaconda/envs/astroconda/lib/python3.5/site-packages/IPython/core/ultratb.py\", line 358, in _fixed_getinnerframes\n",
      "    records = fix_frame_records_filenames(inspect.getinnerframes(etb, context))\n",
      "  File \"//anaconda/envs/astroconda/lib/python3.5/inspect.py\", line 1453, in getinnerframes\n",
      "    frameinfo = (tb.tb_frame,) + getframeinfo(tb, context)\n",
      "  File \"//anaconda/envs/astroconda/lib/python3.5/inspect.py\", line 1410, in getframeinfo\n",
      "    filename = getsourcefile(frame) or getfile(frame)\n",
      "  File \"//anaconda/envs/astroconda/lib/python3.5/inspect.py\", line 672, in getsourcefile\n",
      "    if getattr(getmodule(object, filename), '__loader__', None) is not None:\n",
      "  File \"//anaconda/envs/astroconda/lib/python3.5/inspect.py\", line 701, in getmodule\n",
      "    file = getabsfile(object, _filename)\n",
      "  File \"//anaconda/envs/astroconda/lib/python3.5/inspect.py\", line 685, in getabsfile\n",
      "    return os.path.normcase(os.path.abspath(_filename))\n",
      "  File \"//anaconda/envs/astroconda/lib/python3.5/posixpath.py\", line 361, in abspath\n",
      "    cwd = os.getcwd()\n",
      "FileNotFoundError: [Errno 2] No such file or directory\n"
     ]
    },
    {
     "ename": "FileNotFoundError",
     "evalue": "[Errno 2] No such file or directory: 'dev/test/cte/wf3/truth/ic0q01ynq_raw.fits'",
     "output_type": "error",
     "traceback": [
      "\u001b[0;31m---------------------------------------------------------------------------\u001b[0m"
     ]
    }
   ],
   "source": [
    "rawfile = fits.open('dev/test/cte/wf3/truth/ic0q01ynq_raw.fits')\n",
    "truthfile = fits.open('dev/test/cte/wf3/truth/ic0q01ynq_rac_tmp.fits')\n",
    "devfile = fits.open('dev/test/cte/wf3/ic0q01ynq_rac_tmp.fits')\n",
    "\n",
    "diff = fits.FITSDiff(devfile, truthfile, ignore_keywords=['date'])\n",
    "diff.identical\n",
    "\n",
    "pixDiff = fits.ImageDataDiff(rawfile[1].data, truthfile[1].data, tolerance=0.0, numdiffs=10)\n",
    "print(pixDiff.identical)\n",
    "pixDiff.diff_pixels\n",
    "#diff.report()"
   ]
  },
  {
   "cell_type": "code",
   "execution_count": 16,
   "metadata": {
    "collapsed": false
   },
   "outputs": [
    {
     "ename": "NotADirectoryError",
     "evalue": "[Errno 20] Not a directory: '/Users/jamie/dev/regression/regress/wf3/uvis/iaao01k8q.tra'",
     "output_type": "error",
     "traceback": [
      "\u001b[0;31m---------------------------------------------------------------------------\u001b[0m",
      "\u001b[0;31mNotADirectoryError\u001b[0m                        Traceback (most recent call last)",
      "\u001b[0;32m<ipython-input-16-17f9abe3bbc6>\u001b[0m in \u001b[0;36m<module>\u001b[0;34m()\u001b[0m\n\u001b[1;32m      3\u001b[0m         \u001b[0;32mif\u001b[0m \u001b[0;34m'raw.fits'\u001b[0m \u001b[0;32mnot\u001b[0m \u001b[0;32min\u001b[0m \u001b[0mfname\u001b[0m\u001b[0;34m:\u001b[0m\u001b[0;34m\u001b[0m\u001b[0m\n\u001b[1;32m      4\u001b[0m             \u001b[0mfullFilePath\u001b[0m \u001b[0;34m=\u001b[0m \u001b[0mos\u001b[0m\u001b[0;34m.\u001b[0m\u001b[0mpath\u001b[0m\u001b[0;34m.\u001b[0m\u001b[0mjoin\u001b[0m\u001b[0;34m(\u001b[0m\u001b[0mroot\u001b[0m\u001b[0;34m,\u001b[0m \u001b[0mfname\u001b[0m\u001b[0;34m)\u001b[0m\u001b[0;34m\u001b[0m\u001b[0m\n\u001b[0;32m----> 5\u001b[0;31m             \u001b[0mshutil\u001b[0m\u001b[0;34m.\u001b[0m\u001b[0mcopytree\u001b[0m\u001b[0;34m(\u001b[0m\u001b[0mfullFilePath\u001b[0m\u001b[0;34m,\u001b[0m \u001b[0moutPath\u001b[0m\u001b[0;34m,\u001b[0m \u001b[0mignore\u001b[0m\u001b[0;34m=\u001b[0m\u001b[0mshutil\u001b[0m\u001b[0;34m.\u001b[0m\u001b[0mignore_patterns\u001b[0m\u001b[0;34m(\u001b[0m\u001b[0;34m'*raw.fits'\u001b[0m\u001b[0;34m)\u001b[0m\u001b[0;34m)\u001b[0m\u001b[0;34m\u001b[0m\u001b[0m\n\u001b[0m\u001b[1;32m      6\u001b[0m \u001b[0;34m\u001b[0m\u001b[0m\n",
      "\u001b[0;32m//anaconda/envs/astroconda/lib/python3.5/shutil.py\u001b[0m in \u001b[0;36mcopytree\u001b[0;34m(src, dst, symlinks, ignore, copy_function, ignore_dangling_symlinks)\u001b[0m\n\u001b[1;32m    301\u001b[0m \u001b[0;34m\u001b[0m\u001b[0m\n\u001b[1;32m    302\u001b[0m     \"\"\"\n\u001b[0;32m--> 303\u001b[0;31m     \u001b[0mnames\u001b[0m \u001b[0;34m=\u001b[0m \u001b[0mos\u001b[0m\u001b[0;34m.\u001b[0m\u001b[0mlistdir\u001b[0m\u001b[0;34m(\u001b[0m\u001b[0msrc\u001b[0m\u001b[0;34m)\u001b[0m\u001b[0;34m\u001b[0m\u001b[0m\n\u001b[0m\u001b[1;32m    304\u001b[0m     \u001b[0;32mif\u001b[0m \u001b[0mignore\u001b[0m \u001b[0;32mis\u001b[0m \u001b[0;32mnot\u001b[0m \u001b[0;32mNone\u001b[0m\u001b[0;34m:\u001b[0m\u001b[0;34m\u001b[0m\u001b[0m\n\u001b[1;32m    305\u001b[0m         \u001b[0mignored_names\u001b[0m \u001b[0;34m=\u001b[0m \u001b[0mignore\u001b[0m\u001b[0;34m(\u001b[0m\u001b[0msrc\u001b[0m\u001b[0;34m,\u001b[0m \u001b[0mnames\u001b[0m\u001b[0;34m)\u001b[0m\u001b[0;34m\u001b[0m\u001b[0m\n",
      "\u001b[0;31mNotADirectoryError\u001b[0m: [Errno 20] Not a directory: '/Users/jamie/dev/regression/regress/wf3/uvis/iaao01k8q.tra'"
     ]
    }
   ],
   "source": []
  },
  {
   "cell_type": "code",
   "execution_count": 18,
   "metadata": {
    "collapsed": false
   },
   "outputs": [
    {
     "name": "stdout",
     "output_type": "stream",
     "text": [
      "acs\n",
      "stis\n",
      "wf3\n"
     ]
    }
   ],
   "source": []
  },
  {
   "cell_type": "code",
   "execution_count": 22,
   "metadata": {
    "collapsed": false
   },
   "outputs": [
    {
     "data": {
      "text/plain": [
       "'/Users/jamie/dev/regression/master/results'"
      ]
     },
     "execution_count": 22,
     "metadata": {},
     "output_type": "execute_result"
    }
   ],
   "source": [
    "shutil.copytree(regressionPath, os.path.join(outPath, 'results'), ignore=shutil.ignore_patterns('*raw.fits'))\n"
   ]
  },
  {
   "cell_type": "code",
   "execution_count": 34,
   "metadata": {
    "collapsed": false
   },
   "outputs": [],
   "source": [
    "compare = True\n",
    "\n",
    "masterPath = '/Users/jamie/dev/regression/regress/master'\n",
    "devPath = '/Users/jamie/dev/regression/regress/dev'\n",
    "\n",
    "#compare results\n",
    "if compare:\n",
    "    masterPath = comparePath\n",
    "    devPath = outPath\n",
    "    #check both dir to compare exist\n",
    "    isMaster = os.path.exists(masterPath)\n",
    "    isDev = os.path.exists(devPath)\n",
    "    if isMaster == False and isDev == False\n",
    "        sys.exit('ERROR: The Paths, \"{0}\" and \"{1}\", do not exist to compare')\n",
    "    if isMaster == False\n",
    "        sys.exit('ERROR: comparison not possible, \"{0}\" doesn\\'t exist'.format(masterPath))\n",
    "    if isDev == False\n",
    "        sys.exit('ERROR: comparison not possible, \"{0}\" doesn\\'t exist'.format(devPath))\n",
    "        \n",
    "    "
   ]
  },
  {
   "cell_type": "code",
   "execution_count": 35,
   "metadata": {
    "collapsed": false
   },
   "outputs": [],
   "source": []
  },
  {
   "cell_type": "code",
   "execution_count": null,
   "metadata": {
    "collapsed": true
   },
   "outputs": [],
   "source": []
  }
 ],
 "metadata": {
  "anaconda-cloud": {},
  "kernelspec": {
   "display_name": "Python [conda env:astroconda]",
   "language": "python",
   "name": "conda-env-astroconda-py"
  },
  "language_info": {
   "codemirror_mode": {
    "name": "ipython",
    "version": 3
   },
   "file_extension": ".py",
   "mimetype": "text/x-python",
   "name": "python",
   "nbconvert_exporter": "python",
   "pygments_lexer": "ipython3",
   "version": "3.5.2"
  }
 },
 "nbformat": 4,
 "nbformat_minor": 1
}
