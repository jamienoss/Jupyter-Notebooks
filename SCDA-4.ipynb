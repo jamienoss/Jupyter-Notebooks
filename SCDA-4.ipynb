{
 "cells": [
  {
   "cell_type": "code",
   "execution_count": 6,
   "metadata": {},
   "outputs": [],
   "source": [
    "import numpy as np\n",
    "import matplotlib.pyplot as plt\n",
    "#mport matplotlib\n",
    "%matplotlib qt5\n",
    "import os\n",
    "from astropy.io import fits"
   ]
  },
  {
   "cell_type": "code",
   "execution_count": null,
   "metadata": {},
   "outputs": [],
   "source": []
  },
  {
   "cell_type": "code",
   "execution_count": null,
   "metadata": {},
   "outputs": [],
   "source": [
    "def boost(old, new):\n",
    "    return (old - new)/old*100"
   ]
  },
  {
   "cell_type": "code",
   "execution_count": 49,
   "metadata": {},
   "outputs": [
    {
     "data": {
      "text/plain": [
       "<function matplotlib.pyplot.show>"
      ]
     },
     "execution_count": 49,
     "metadata": {},
     "output_type": "execute_result"
    }
   ],
   "source": [
    "orig = np.genfromtxt('/Users/jamie/dev/makidon-labs/SCDA-4/orig/48-test/mprofile_20190114170632.dat', delimiter=' ', skip_header=100,skip_footer=5)\n",
    "perf = np.genfromtxt('/Users/jamie/dev/makidon-labs/SCDA-4/perf/48-test/mprofile_20190114163948.dat', delimiter=' ', skip_header=100,skip_footer=5)\n",
    "\n",
    "orig_rt = (orig[-1,2]-orig[0,2])\n",
    "perf_rt = (perf[-1,2]-perf[0,2])\n",
    "\n",
    "post_ft = 1547501990.5670567 -  perf[0,2]\n",
    "optimize = 1547502004.3054442 - perf[0,2]\n",
    "\n",
    "orig_mem = max(orig[:,1])/1024\n",
    "perf_mem = max(perf[:,1])/1024\n",
    "\n",
    "plt.plot((orig[:,2]-orig[0,2]), orig[:,1]/1024, 'k-.',\n",
    "         label='before: rt={0:.2f}s, max={1:.2f}GB'.format(orig_rt, orig_mem))\n",
    "plt.plot((perf[:,2]-perf[0,2]), perf[:,1]/1024, 'r-',\n",
    "         label='after: rt={0:.2f}s, max={1:.2f}GB'.format(perf_rt, perf_mem))\n",
    "\n",
    "plt.axvline(x=optimize, label='Solver (after only)')\n",
    "#plt.axvline(x=post_ft)\n",
    "\n",
    "plt.grid(True)\n",
    "plt.ylabel('GB')\n",
    "plt.xlabel('Seconds')\n",
    "plt.title('nPup = 48: {0:.2f}x faster, {1:.2f}% less memory'.format(orig_rt/perf_rt, (1-perf_mem/orig_mem)*100))\n",
    "plt.legend(loc='lower right')\n",
    "plt.show"
   ]
  },
  {
   "cell_type": "code",
   "execution_count": 50,
   "metadata": {},
   "outputs": [
    {
     "data": {
      "text/plain": [
       "<function matplotlib.pyplot.show>"
      ]
     },
     "execution_count": 50,
     "metadata": {},
     "output_type": "execute_result"
    }
   ],
   "source": [
    "orig = np.genfromtxt('/Users/jamie/dev/makidon-labs/SCDA-4/orig/144-test/mprofile_20190114170914.dat', delimiter=' ', skip_header=100,skip_footer=5)\n",
    "perf = np.genfromtxt('/Users/jamie/dev/makidon-labs/SCDA-4/perf/144-test/mprofile_20190114164427.dat', delimiter=' ', skip_header=100,skip_footer=5)\n",
    "\n",
    "\n",
    "optimize = (1547502454.6818483 - perf[0,2])/60\n",
    "\n",
    "orig_rt = (orig[-1,2]-orig[0,2])/60\n",
    "perf_rt = (perf[-1,2]-perf[0,2])/60\n",
    "\n",
    "orig_mem = max(orig[:,1])/1024\n",
    "perf_mem = max(perf[:,1])/1024\n",
    "\n",
    "plt.plot((orig[:,2]-orig[0,2])/60, orig[:,1]/1024, 'k-.',\n",
    "         label='before: rt={0:.2f}Min, max={1:.2f}GB'.format(orig_rt, orig_mem))\n",
    "plt.plot((perf[:,2]-perf[0,2])/60, perf[:,1]/1024, 'r-',\n",
    "         label='after: rt={0:.2f}Min, max={1:.2f}GB'.format(perf_rt, perf_mem))\n",
    "\n",
    "plt.axvline(x=optimize, label='Solver (after only)')\n",
    "\n",
    "\n",
    "plt.grid(True)\n",
    "plt.ylabel('GB')\n",
    "plt.xlabel('Minutes')\n",
    "plt.title('nPup = 144: {0:.2f}x faster, {1:.2f}% less memory'.format(orig_rt/perf_rt, (1-perf_mem/orig_mem)*100))\n",
    "plt.legend()\n",
    "plt.show"
   ]
  },
  {
   "cell_type": "code",
   "execution_count": 30,
   "metadata": {},
   "outputs": [
    {
     "data": {
      "text/plain": [
       "<function matplotlib.pyplot.show>"
      ]
     },
     "execution_count": 30,
     "metadata": {},
     "output_type": "execute_result"
    }
   ],
   "source": [
    "orig = np.genfromtxt('/Users/jamie/dev/makidon-labs/SCDA-4/orig/486-test/mprofile_20190114174104.dat', delimiter=' ', skip_header=100,skip_footer=5)\n",
    "perf = np.genfromtxt('/Users/jamie/dev/makidon-labs/SCDA-4/perf/486-test/mprofile_20190114195506.dat', delimiter=' ', skip_header=100,skip_footer=5)\n",
    "#perf = np.genfromtxt('/Users/jamie/dev/makidon-labs/jnoss/486-test/SCDA2/mprofile_20190111152244.dat', delimiter=' ', skip_header=100,skip_footer=5)\n",
    "\n",
    "orig_rt = 2*24*60#(orig[-1,2]-orig[1,2])/60\n",
    "perf_rt = (perf[-1,2]-perf[1,2])/60\n",
    "\n",
    "orig_mem = max(orig[:,1])/1024\n",
    "perf_mem = max(perf[:,1])/1024\n",
    "\n",
    "plt.plot((orig[:,2]-orig[1,2])/60, orig[:,1]/1024, 'k-.',\n",
    "         label='before: rt=48hr (estimate), max={0:.2f}GB'format(orig_mem))\n",
    "plt.plot((perf[:,2]-perf[1,2])/60, perf[:,1]/1024, 'r-',\n",
    "         label='after: rt={0:.2f}Min, max={1:.2f}GB'.format(perf_rt, perf_mem))\n",
    "\n",
    "\n",
    "plt.grid(True)\n",
    "plt.ylabel('GB')\n",
    "plt.xlabel('Minutes')\n",
    "plt.title('nPup = 486: {0:.2f}x faster, {1:.2f}% less memory'.format(orig_rt/perf_rt, (1-perf_mem/orig_mem)*100))\n",
    "plt.legend()\n",
    "plt.show"
   ]
  },
  {
   "cell_type": "code",
   "execution_count": 29,
   "metadata": {},
   "outputs": [
    {
     "data": {
      "text/plain": [
       "Text(0.5,1,'nPup = 486')"
      ]
     },
     "execution_count": 29,
     "metadata": {},
     "output_type": "execute_result"
    }
   ],
   "source": [
    "apod48 = fits.getdata('/Users/jamie/dev/makidon-labs/SCDA-4/perf/48-test/apodizers/HiCAT/Test_S_jnoss_HiCAT_MaxTau_nPup=0048_nFPM=050_APLC_rMask=4.271_IWA=5.0_OWA=10.0_BW=0.10_nlam=03_C=8.0_LS-Ann-bw-ID345-OD0807_gurobipy.fits')\n",
    "apod144 = fits.getdata('/Users/jamie/dev/makidon-labs/SCDA-4/perf/144-test/apodizers/HiCAT/Test_S_jnoss_HiCAT_MaxTau_nPup=0144_nFPM=050_APLC_rMask=4.271_IWA=5.0_OWA=10.0_BW=0.10_nlam=03_C=8.0_LS-Ann-bw-ID345-OD0807_gurobipy.fits')\n",
    "apod486 = fits.getdata('/Users/jamie/dev/makidon-labs/jnoss/486-test/apodizers/HiCAT/Test_S_jnoss_HiCAT_MaxTau_nPup=0486_nFPM=050_APLC_rMask=4.271_IWA=5.0_OWA=10.0_BW=0.10_nlam=03_C=8.0_LS-Ann-bw-ID345-OD0807_gurobipy.fits')\n",
    "\n",
    "plt.subplot(1,3,1)\n",
    "plt.imshow(apod48, cmap='gray')\n",
    "plt.title('nPup = 48')\n",
    "\n",
    "plt.subplot(1,3,2)\n",
    "plt.imshow(apod144, cmap='gray')\n",
    "plt.title('nPup = 144')\n",
    "\n",
    "plt.subplot(1,3,3)\n",
    "plt.imshow(apod486, cmap='gray')\n",
    "plt.title('nPup = 486')"
   ]
  },
  {
   "cell_type": "code",
   "execution_count": 34,
   "metadata": {},
   "outputs": [
    {
     "data": {
      "text/plain": [
       "1547502000.4053"
      ]
     },
     "execution_count": 34,
     "metadata": {},
     "output_type": "execute_result"
    }
   ],
   "source": [
    "w"
   ]
  },
  {
   "cell_type": "code",
   "execution_count": null,
   "metadata": {},
   "outputs": [],
   "source": []
  }
 ],
 "metadata": {
  "kernelspec": {
   "display_name": "Python [default]",
   "language": "python",
   "name": "python3"
  },
  "language_info": {
   "codemirror_mode": {
    "name": "ipython",
    "version": 3
   },
   "file_extension": ".py",
   "mimetype": "text/x-python",
   "name": "python",
   "nbconvert_exporter": "python",
   "pygments_lexer": "ipython3",
   "version": "3.6.8"
  }
 },
 "nbformat": 4,
 "nbformat_minor": 2
}
