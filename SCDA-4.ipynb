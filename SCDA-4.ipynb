{
 "cells": [
  {
   "cell_type": "code",
   "execution_count": 12,
   "metadata": {},
   "outputs": [],
   "source": [
    "import numpy as np\n",
    "import matplotlib.pyplot as plt\n",
    "#mport matplotlib\n",
    "#%matplotlib qt5\n",
    "import os\n",
    "from astropy.io import fits"
   ]
  },
  {
   "cell_type": "code",
   "execution_count": null,
   "metadata": {},
   "outputs": [],
   "source": [
    "import numpy as np\n",
    "import gurobipy\n",
    "import pickle\n",
    "import dill\n",
    "\n",
    "\n",
    "class PickleModel(gurobipy.Model):\n",
    "\n",
    "    # check if __getstate__ already exists, if so, don't redefine\n",
    "\n",
    "    def __getstate__(self):\n",
    "    #    return self._Model__constrs\n",
    "        return {'vars':self.getVars(), 'objs':self.getObjective(), 'constrs':self.getConstrs()}\n",
    "\n",
    "    \n",
    "n = 10\n",
    "\n",
    "m = PickleModel()\n",
    "\n",
    "data = np.ones((n))\n",
    "\n",
    "\n",
    "mVars = m.addVars(n, lb=0.0, ub=1.0)\n",
    "\n",
    "obj_expr = gurobipy.LinExpr(data, mVars.values())\n",
    "m.setObjective(obj_expr, sense=gurobipy.GRB.MINIMIZE)\n",
    "m.update()\n",
    "\n",
    "mVars = m.getVars()\n",
    "terms = np.ones((10))/2\n",
    "lhs = gurobipy.LinExpr(terms, mVars)\n",
    "m.addLConstr(lhs=lhs, sense=gurobipy.GRB.LESS_EQUAL, rhs=0)\n",
    "m.update()\n",
    "\n",
    "#m.__getstate__()\n",
    "\n",
    "\n",
    "with open('test.pkl', 'wb') as f:\n",
    "    pickle.dump(m, f)"
   ]
  },
  {
   "cell_type": "code",
   "execution_count": null,
   "metadata": {},
   "outputs": [],
   "source": []
  },
  {
   "cell_type": "code",
   "execution_count": null,
   "metadata": {},
   "outputs": [],
   "source": [
    "def boost(old, new):\n",
    "    return (old - new)/old*100"
   ]
  },
  {
   "cell_type": "code",
   "execution_count": null,
   "metadata": {},
   "outputs": [],
   "source": [
    "orig = np.genfromtxt('/Users/jamie/dev/makidon-labs/SCDA-4/orig/48-test/mprofile_20190114170632.dat', delimiter=' ', skip_header=100,skip_footer=5)\n",
    "perf = np.genfromtxt('/Users/jamie/dev/makidon-labs/SCDA-4/perf/48-test/mprofile_20190114163948.dat', delimiter=' ', skip_header=100,skip_footer=5)\n",
    "\n",
    "orig_rt = (orig[-1,2]-orig[0,2])\n",
    "perf_rt = (perf[-1,2]-perf[0,2])\n",
    "\n",
    "post_ft = 1547501990.5670567 -  perf[0,2]\n",
    "optimize = 1547502004.3054442 - perf[0,2]\n",
    "\n",
    "orig_mem = max(orig[:,1])/1024\n",
    "perf_mem = max(perf[:,1])/1024\n",
    "\n",
    "plt.plot((orig[:,2]-orig[0,2]), orig[:,1]/1024, 'k-.',\n",
    "         label='before: rt={0:.2f}s, max={1:.2f}GB'.format(orig_rt, orig_mem))\n",
    "plt.plot((perf[:,2]-perf[0,2]), perf[:,1]/1024, 'r-',\n",
    "         label='after: rt={0:.2f}s, max={1:.2f}GB'.format(perf_rt, perf_mem))\n",
    "\n",
    "plt.axvline(x=optimize, label='Solver (after only)')\n",
    "#plt.axvline(x=post_ft)\n",
    "\n",
    "plt.grid(True)\n",
    "plt.ylabel('GB')\n",
    "plt.xlabel('Seconds')\n",
    "plt.title('nPup = 48: {0:.2f}x faster, {1:.2f}% less memory'.format(orig_rt/perf_rt, (1-perf_mem/orig_mem)*100))\n",
    "plt.legend(loc='lower right')\n",
    "plt.show"
   ]
  },
  {
   "cell_type": "code",
   "execution_count": null,
   "metadata": {},
   "outputs": [],
   "source": [
    "orig = np.genfromtxt('/Users/jamie/dev/makidon-labs/SCDA-4/orig/144-test/mprofile_20190114170914.dat', delimiter=' ', skip_header=100,skip_footer=5)\n",
    "perf = np.genfromtxt('/Users/jamie/dev/makidon-labs/SCDA-4/perf/144-test/mprofile_20190114164427.dat', delimiter=' ', skip_header=100,skip_footer=5)\n",
    "\n",
    "\n",
    "optimize = (1547502454.6818483 - perf[0,2])/60\n",
    "\n",
    "orig_rt = (orig[-1,2]-orig[0,2])/60\n",
    "perf_rt = (perf[-1,2]-perf[0,2])/60\n",
    "\n",
    "orig_mem = max(orig[:,1])/1024\n",
    "perf_mem = max(perf[:,1])/1024\n",
    "\n",
    "plt.plot((orig[:,2]-orig[0,2])/60, orig[:,1]/1024, 'k-.',\n",
    "         label='before: rt={0:.2f}Min, max={1:.2f}GB'.format(orig_rt, orig_mem))\n",
    "plt.plot((perf[:,2]-perf[0,2])/60, perf[:,1]/1024, 'r-',\n",
    "         label='after: rt={0:.2f}Min, max={1:.2f}GB'.format(perf_rt, perf_mem))\n",
    "\n",
    "plt.axvline(x=optimize, label='Solver (after only)')\n",
    "\n",
    "\n",
    "plt.grid(True)\n",
    "plt.ylabel('GB')\n",
    "plt.xlabel('Minutes')\n",
    "plt.title('nPup = 144: {0:.2f}x faster, {1:.2f}% less memory'.format(orig_rt/perf_rt, (1-perf_mem/orig_mem)*100))\n",
    "plt.legend()\n",
    "plt.show"
   ]
  },
  {
   "cell_type": "code",
   "execution_count": null,
   "metadata": {},
   "outputs": [],
   "source": [
    "orig = np.genfromtxt('/Users/jnoss/dev/makidon-labs/SCDA-4/orig/486-test/mprofile_20190114174104.dat', delimiter=' ', skip_header=100,skip_footer=5)\n",
    "perf = np.genfromtxt('/Users/jnoss/dev/makidon-labs/SCDA-4/perf/486-test/mprofile_20190114215323.dat', delimiter=' ', skip_header=100,skip_footer=5)\n",
    "\n",
    "#orig = np.genfromtxt('/Users/jamie/dev/makidon-labs/SCDA-4/orig/486-test/mprofile_20190114174104.dat', delimiter=' ', skip_header=100,skip_footer=5)\n",
    "#perf = np.genfromtxt('/Users/jamie/dev/makidon-labs/SCDA-4/perf/486-test/mprofile_20190114195506.dat', delimiter=' ', skip_header=100,skip_footer=5)\n",
    "#perf = np.genfromtxt('/Users/jamie/dev/makidon-labs/jnoss/486-test/SCDA2/mprofile_20190111152244.dat', delimiter=' ', skip_header=100,skip_footer=5)\n",
    "\n",
    "optimize = (1547525330.6178353 - perf[0,2])/60\n",
    "\n",
    "orig_rt = 2*24*60#(orig[-1,2]-orig[1,2])/60\n",
    "perf_rt = (perf[-1,2]-perf[0,2])/60\n",
    "\n",
    "orig_mem = max(orig[:,1])/1024\n",
    "perf_mem = max(perf[:,1])/1024\n",
    "\n",
    "plt.plot((orig[:,2]-orig[0,2])/60, orig[:,1]/1024, 'k-.',\n",
    "         label='before: rt=48hr (estimate), max={0:.2f}GB'.format(orig_mem))\n",
    "plt.plot((perf[:,2]-perf[0,2])/60, perf[:,1]/1024, 'r-',\n",
    "         label='after: rt={0:.2f}Min, max={1:.2f}GB'.format(perf_rt, perf_mem))\n",
    "\n",
    "plt.axvline(x=optimize, label='Solver (after only) ~34GB pre optimize()')\n",
    "\n",
    "plt.grid(True)\n",
    "plt.ylabel('GB')\n",
    "plt.xlabel('Minutes')\n",
    "plt.title('nPup = 486: {0:.2f}x faster, {1:.2f}% less memory'.format(orig_rt/perf_rt, (1-perf_mem/orig_mem)*100))\n",
    "plt.legend()\n",
    "plt.show"
   ]
  },
  {
   "cell_type": "code",
   "execution_count": null,
   "metadata": {},
   "outputs": [],
   "source": [
    "apod48 = fits.getdata('/Users/jamie/dev/makidon-labs/SCDA-4/perf/48-test/apodizers/HiCAT/Test_S_jnoss_HiCAT_MaxTau_nPup=0048_nFPM=050_APLC_rMask=4.271_IWA=5.0_OWA=10.0_BW=0.10_nlam=03_C=8.0_LS-Ann-bw-ID345-OD0807_gurobipy.fits')\n",
    "apod144 = fits.getdata('/Users/jamie/dev/makidon-labs/SCDA-4/perf/144-test/apodizers/HiCAT/Test_S_jnoss_HiCAT_MaxTau_nPup=0144_nFPM=050_APLC_rMask=4.271_IWA=5.0_OWA=10.0_BW=0.10_nlam=03_C=8.0_LS-Ann-bw-ID345-OD0807_gurobipy.fits')\n",
    "apod486 = fits.getdata('/Users/jamie/dev/makidon-labs/jnoss/486-test/apodizers/HiCAT/Test_S_jnoss_HiCAT_MaxTau_nPup=0486_nFPM=050_APLC_rMask=4.271_IWA=5.0_OWA=10.0_BW=0.10_nlam=03_C=8.0_LS-Ann-bw-ID345-OD0807_gurobipy.fits')\n",
    "\n",
    "plt.subplot(1,3,1)\n",
    "plt.imshow(apod48, cmap='gray')\n",
    "plt.title('nPup = 48')\n",
    "\n",
    "plt.subplot(1,3,2)\n",
    "plt.imshow(apod144, cmap='gray')\n",
    "plt.title('nPup = 144')\n",
    "\n",
    "plt.subplot(1,3,3)\n",
    "plt.imshow(apod486, cmap='gray')\n",
    "plt.title('nPup = 486')"
   ]
  },
  {
   "cell_type": "code",
   "execution_count": null,
   "metadata": {},
   "outputs": [],
   "source": [
    "apod144 = fits.getdata('/Users/jnoss/dev/makidon-labs/SCDA-4/perf/144-test/apodizers/HiCAT/Test_S_jnoss_HiCAT_MaxTau_nPup=0144_nFPM=050_APLC_rMask=4.271_IWA=5.0_OWA=10.0_BW=0.10_nlam=03_C=8.0_LS-Ann-bw-ID345-OD0807_gurobipy.fits')\n",
    "apod144_robust = fits.getdata('/Users/jnoss/dev/makidon-labs/SCDA-4/perf/144-test-robust/apodizers/HiCAT/Test_S_jnoss_HiCAT_MaxTau_nPup=0144_nFPM=050_APLC_rMask=4.271_IWA=5.0_OWA=10.0_BW=0.10_nlam=03_C=8.0_LS-Ann-bw-ID345-OD0807_LSRobustness=1_PixMax=01gurobipy.fits')\n",
    "\n",
    "plt.subplot(1,2,1)\n",
    "plt.imshow(apod144, cmap='gray')\n",
    "plt.title('nPup = 144')\n",
    "\n",
    "plt.subplot(1,2,2)\n",
    "plt.imshow(apod144_robust, cmap='gray')\n",
    "plt.title('nPup = 144 robust')\n"
   ]
  },
  {
   "cell_type": "code",
   "execution_count": null,
   "metadata": {},
   "outputs": [],
   "source": [
    "orig = np.genfromtxt('/Users/jnoss/dev/makidon-labs/SCDA-4/perf/144-test/mprofile_20190114164427.dat', delimiter=' ', skip_header=100,skip_footer=5)\n",
    "perf = np.genfromtxt('/Users/jnoss/dev/makidon-labs/SCDA-4/perf/144-test-robust/mprofile_20190111152324.dat', delimiter=' ', skip_header=100,skip_footer=5)\n",
    "\n",
    "\n",
    "optimize = (1547502454.6818483 - orig[0,2])/60\n",
    "\n",
    "orig_rt = (orig[-1,2]-orig[0,2])/60\n",
    "perf_rt = (perf[-1,2]-perf[0,2])/60\n",
    "\n",
    "orig_mem = max(orig[:,1])/1024\n",
    "perf_mem = max(perf[:,1])/1024\n",
    "\n",
    "plt.plot((orig[:,2]-orig[0,2])/60, orig[:,1]/1024, 'k-.',\n",
    "         label='before: rt={0:.2f}Min, max={1:.2f}GB'.format(orig_rt, orig_mem))\n",
    "plt.plot((perf[:,2]-perf[0,2])/60, perf[:,1]/1024, 'r-',\n",
    "         label='after: rt={0:.2f}Min, max={1:.2f}GB'.format(perf_rt, perf_mem))\n",
    "\n",
    "plt.axvline(x=optimize, label='Solver (after only)')\n",
    "\n",
    "\n",
    "plt.grid(True)\n",
    "plt.ylabel('GB')\n",
    "plt.xlabel('Minutes')\n",
    "plt.title('nPup = 144: {0:.2f}x faster, {1:.2f}% less memory'.format(orig_rt/perf_rt, (1-perf_mem/orig_mem)*100))\n",
    "plt.legend()\n",
    "plt.show"
   ]
  },
  {
   "cell_type": "code",
   "execution_count": null,
   "metadata": {},
   "outputs": [],
   "source": [
    "orig = np.genfromtxt('/Users/jnoss/dev/makidon-labs/SCDA-4/perf/48-test/mprofile_20190114163948.dat', delimiter=' ', skip_header=100,skip_footer=5)\n",
    "perf = np.genfromtxt('/Users/jnoss/dev/makidon-labs/SCDA2/mprofile_20190116145349.dat', delimiter=' ', skip_header=100,skip_footer=5)\n",
    "\n",
    "orig_rt = (orig[-1,2]-orig[0,2])\n",
    "perf_rt = (perf[-1,2]-perf[0,2])\n",
    "\n",
    "optimize = 1547502004.3054442 - orig[0,2]\n",
    "\n",
    "orig_mem = max(orig[:,1])/1024\n",
    "perf_mem = max(perf[:,1])/1024\n",
    "\n",
    "plt.plot((orig[:,2]-orig[0,2]), orig[:,1]/1024, 'k-.',\n",
    "         label='before: rt={0:.2f}s, max={1:.2f}GB'.format(orig_rt, orig_mem))\n",
    "plt.plot((perf[:,2]-perf[0,2]), perf[:,1]/1024, 'r-',\n",
    "         label='after: rt={0:.2f}s, max={1:.2f}GB'.format(perf_rt, perf_mem))\n",
    "\n",
    "plt.axvline(x=optimize, label='Solver (after only)')\n",
    "#plt.axvline(x=post_ft)\n",
    "\n",
    "plt.grid(True)\n",
    "plt.ylabel('GB')\n",
    "plt.xlabel('Seconds')\n",
    "plt.title('nPup = 48: {0:.2f}x faster, {1:.2f}% less memory'.format(orig_rt/perf_rt, (1-perf_mem/orig_mem)*100))\n",
    "plt.legend(loc='lower right')\n",
    "plt.show"
   ]
  },
  {
   "cell_type": "code",
   "execution_count": null,
   "metadata": {},
   "outputs": [],
   "source": [
    "perf = np.genfromtxt('/Users/jnoss/dev/makidon-labs/SCDA-4/perf/486-test-robust/mprofile_20190116210009.dat', delimiter=' ', skip_header=100,skip_footer=5)\n",
    "\n",
    "optimize = (1547712431.4537406 - perf[0,2])/60**2\n",
    "\n",
    "plt.plot((perf[:,2]-perf[0,2])/60**2, perf[:,1]*1.024/1e3, 'k-', label='Memory')\n",
    "\n",
    "plt.axvline(x=optimize, label='gurobipy.Model.optimize()', color='r')\n",
    "\n",
    "plt.axvline(x=5.1, label='gurobi model construction', color='b')\n",
    "\n",
    "plt.grid(True)\n",
    "plt.ylabel('GB')\n",
    "plt.xlabel('Hours')\n",
    "plt.title('nPup = 486: Robust w/ 5 Lyot stop configurations')\n",
    "plt.legend()\n",
    "plt.show"
   ]
  },
  {
   "cell_type": "code",
   "execution_count": null,
   "metadata": {},
   "outputs": [],
   "source": [
    "(3652 + 18368)/60**2"
   ]
  },
  {
   "cell_type": "code",
   "execution_count": null,
   "metadata": {},
   "outputs": [],
   "source": [
    "18368/60**2"
   ]
  },
  {
   "cell_type": "code",
   "execution_count": null,
   "metadata": {},
   "outputs": [],
   "source": [
    "perf = np.genfromtxt('/Users/jnoss/dev/makidon-labs/SCDA-4/presolve-thread-test/mprofile_20190118142850.dat', delimiter=' ')\n",
    "perf1 = np.genfromtxt('/Users/jnoss/dev/makidon-labs/SCDA-4/presolve-thread-test/mprofile_20190118143113.dat', delimiter=' ')\n",
    "perf2 = np.genfromtxt('/Users/jnoss/dev/makidon-labs/SCDA-4/presolve-thread-test/mprofile_20190118143221.dat', delimiter=' ')\n",
    "\n",
    "plt.plot((perf[:,2]-perf[0,2]), perf[:,1]*1.024/1e3, 'b-', label='No presolve, 6 threads')\n",
    "plt.plot((perf1[:,2]-perf1[0,2]), perf1[:,1]*1.024/1e3, 'k-', label='Presolve, 6 threads')\n",
    "plt.plot((perf2[:,2]-perf2[0,2]), perf2[:,1]*1.024/1e3, 'r-', label='No presolve, 1 thread')\n",
    "\n",
    "\n",
    "\n",
    "\n",
    "plt.grid(True)\n",
    "plt.ylabel('GB')\n",
    "plt.xlabel('Seconds')\n",
    "plt.title('nPup = 48: 22efc82c1956ff7e7a8a1915e6fbcce17ca199ce')\n",
    "plt.legend()\n",
    "plt.show"
   ]
  },
  {
   "cell_type": "code",
   "execution_count": null,
   "metadata": {},
   "outputs": [],
   "source": [
    "start"
   ]
  },
  {
   "cell_type": "code",
   "execution_count": null,
   "metadata": {},
   "outputs": [],
   "source": [
    "field_constr"
   ]
  },
  {
   "cell_type": "code",
   "execution_count": null,
   "metadata": {},
   "outputs": [],
   "source": [
    "orig = np.genfromtxt('/Users/jnoss/dev/makidon-labs/SCDA-4/perf/144-test/mprofile_20190114164427.dat', delimiter=' ', skip_header=100,skip_footer=5)\n",
    "perf = np.genfromtxt('/Users/jnoss/dev/makidon-labs/SCDA-4/perf/144-test/mprofile_20190117145526.dat', delimiter=' ', skip_header=100,skip_footer=5)\n",
    "\n",
    "\n",
    "optimize = (1547502454.6818483 - perf[0,2])/60\n",
    "\n",
    "orig_rt = (orig[-1,2]-orig[0,2])/60\n",
    "perf_rt = (perf[-1,2]-perf[0,2])/60\n",
    "\n",
    "orig_mem = max(orig[:,1])*1.024/1e3\n",
    "perf_mem = max(perf[:,1])*1.024/1e3\n",
    "\n",
    "plt.plot((orig[:,2]-orig[0,2])/60, orig[:,1]/1024, 'k-.',\n",
    "         label='before: rt={0:.2f}Min, max={1:.2f}GB'.format(orig_rt, orig_mem))\n",
    "plt.plot((perf[:,2]-perf[0,2])/60, perf[:,1]/1024, 'r-',\n",
    "         label='after: rt={0:.2f}Min, max={1:.2f}GB'.format(perf_rt, perf_mem))\n",
    "\n",
    "#plt.axvline(x=optimize, label='Solver (after only)')\n",
    "\n",
    "\n",
    "plt.grid(True)\n",
    "plt.ylabel('GB')\n",
    "plt.xlabel('Minutes')\n",
    "plt.title('nPup = 144: {0:.2f}x faster, {1:.2f}% less memory'.format(orig_rt/perf_rt, (1-perf_mem/orig_mem)*100))\n",
    "plt.legend()\n",
    "plt.show"
   ]
  },
  {
   "cell_type": "code",
   "execution_count": null,
   "metadata": {},
   "outputs": [],
   "source": [
    "1/16"
   ]
  },
  {
   "cell_type": "code",
   "execution_count": null,
   "metadata": {},
   "outputs": [],
   "source": [
    "20383.96/60**2"
   ]
  },
  {
   "cell_type": "code",
   "execution_count": null,
   "metadata": {},
   "outputs": [],
   "source": []
  },
  {
   "cell_type": "code",
   "execution_count": null,
   "metadata": {},
   "outputs": [],
   "source": [
    "endian = '<'\n",
    "if respType in (int):\n",
    "    read_type = 'I'\n",
    "    valView = val[:,4]\n",
    "elif respType in (float):\n",
    "    read_type = 'd'\n",
    "    valView = val\n",
    "else:\n",
    "    raise NotImplementedError\n",
    "    \n",
    "value = struct.unpack(endian+read_type, valView)"
   ]
  },
  {
   "cell_type": "code",
   "execution_count": null,
   "metadata": {},
   "outputs": [],
   "source": [
    "sft = np.genfromtxt('/Users/jnoss/dev/makidon-labs/SCDA2/mprofile_20190122155015.dat', delimiter=' ', skip_header=1)\n",
    "sft2 = np.genfromtxt('/Users/jnoss/dev/makidon-labs/SCDA2/mprofile_20190122161632.dat', delimiter=' ', skip_header=1)\n",
    "\n",
    "dft = np.genfromtxt('/Users/jnoss/dev/makidon-labs/SCDA2/mprofile_20190122155158.dat', delimiter=' ', skip_header=1)\n",
    "dft2 = np.genfromtxt('/Users/jnoss/dev/makidon-labs/SCDA2/mprofile_20190122160952.dat', delimiter=' ', skip_header=1)\n",
    "\n",
    "dft_numexpr = np.genfromtxt('/Users/jnoss/dev/makidon-labs/SCDA2/mprofile_20190122155753.dat', delimiter=' ', skip_header=1)\n",
    "dft_numexpr2 = np.genfromtxt('/Users/jnoss/dev/makidon-labs/SCDA2/mprofile_20190122160601.dat', delimiter=' ', skip_header=1)\n",
    "\n",
    "\n",
    "\n",
    "sft_optimize = (1548181620.612771 - orig[0,2])/60\n",
    "dft_optimize = (1548183086.787127 - perf[0,2])/60\n",
    "\n",
    "print(sft_optimize, dft_optimize, sft_optimize-dft_optimize)\n",
    "\n",
    "\n",
    "\n",
    "plt.plot((sft[:,2]-sft[0,2]), sft[:,1]*1.024e-3, 'k-',\n",
    "         label='SFT')\n",
    "plt.plot((sft2[:,2]-sft2[0,2]), sft2[:,1]*1.024e-3, 'k-',\n",
    "         label='SFT')\n",
    "\n",
    "plt.plot((dft[:,2]-dft[0,2]), dft[:,1]*1.024e-3, 'b-',\n",
    "         label='poppy.matrixDFT.matrix_dft')\n",
    "plt.plot((dft2[:,2]-dft2[0,2]), dft2[:,1]*1.024e-3, 'b-',\n",
    "         label='poppy.matrixDFT.matrix_dft')\n",
    "\n",
    "plt.plot((dft_numexpr[:,2]-dft_numexpr[0,2]), dft_numexpr[:,1]*1.024e-3, 'r-',\n",
    "         label='poppy.matrixDFT.matrix_dft w/ numexpr')\n",
    "plt.plot((dft_numexpr2[:,2]-dft_numexpr2[0,2]), dft_numexpr2[:,1]*1.024e-3, 'r-',\n",
    "         label='poppy.matrixDFT.matrix_dft w/ numexpr')\n",
    "#plt.axvline(x=optimize, label='Solver (after only)')\n",
    "\n",
    "\n",
    "plt.grid(True)\n",
    "plt.ylabel('GB')\n",
    "plt.xlabel('Seconds')\n",
    "plt.title('nPup = 48')\n",
    "plt.legend(loc = 'upper left')\n",
    "plt.show"
   ]
  },
  {
   "cell_type": "code",
   "execution_count": null,
   "metadata": {},
   "outputs": [],
   "source": [
    "sft = np.genfromtxt('/Users/jnoss/dev/makidon-labs/SCDA2/mprofile_20190122201032-144-sft.dat', delimiter=' ', skip_header=1)\n",
    "\n",
    "dft = np.genfromtxt('/Users/jnoss/dev/makidon-labs/SCDA2/mprofile_20190122210448-144-dft.dat', delimiter=' ', skip_header=1)\n",
    "\n",
    "dft_numexpr = np.genfromtxt('/Users/jnoss/dev/makidon-labs/SCDA2/mprofile_20190122220348-144-dft-w-numexpr.dat', delimiter=' ', skip_header=1)\n",
    "\n",
    "\n",
    "\n",
    "sft_optimize = 1548206218.997845\n",
    "dft_optimize = 1548209461.2785869\n",
    "dft_numexpr_optimize = 1548213070.488829\n",
    "\n",
    "\n",
    "sft_pre = len([m for m in sft[:,2] if m <= sft_optimize])\n",
    "dft_pre = len([m for m in dft[:,2] if m <= dft_optimize])\n",
    "dft_numexpr_pre = len([m for m in dft_numexpr[:,2] if m <= dft_numexpr_optimize])\n",
    "\n",
    "\n",
    "print((dft_optimize-dft[0,2]), (dft_numexpr_optimize-dft_numexpr[0,2]))\n",
    "\n",
    "\n",
    "#plt.plot((sft[:sft_pre,2]-sft[0,2])/60, sft[:sft_pre,1]*1.024e-3, 'k-', label='SFT')\n",
    "#plt.plot((dft[:dft_pre,2]-dft[0,2])/60, dft[:dft_pre,1]*1.024e-3, 'b-', label='poppy.matrixDFT.matrix_dft')\n",
    "#plt.plot((dft_numexpr[:dft_numexpr_pre,2]-dft_numexpr[0,2])/60, dft_numexpr[:dft_numexpr_pre,1]*1.024e-3, 'r-', label='poppy.matrixDFT.matrix_dft w/ numexpr')\n",
    "\n",
    "\n",
    "plt.plot((sft[:,2]-sft[0,2])/60, sft[:,1]*1.024e-3, 'k-', label='SFT')\n",
    "plt.plot((dft[:,2]-dft[0,2])/60, dft[:,1]*1.024e-3, 'b-', label='poppy.matrixDFT.matrix_dft')\n",
    "plt.plot((dft_numexpr[:,2]-dft_numexpr[0,2])/60, dft_numexpr[:,1]*1.024e-3, 'r-', label='poppy.matrixDFT.matrix_dft w/ numexpr')\n",
    "\n",
    "#plt.axvline(x=optimize, label='Solver (after only)')\n",
    "\n",
    "\n",
    "plt.grid(True)\n",
    "plt.ylabel('GB')\n",
    "plt.xlabel('Minutes')\n",
    "plt.title('nPup = 144')\n",
    "plt.legend(loc = 'upper left')\n",
    "plt.show"
   ]
  },
  {
   "cell_type": "code",
   "execution_count": null,
   "metadata": {},
   "outputs": [],
   "source": [
    "sft_pre"
   ]
  },
  {
   "cell_type": "code",
   "execution_count": null,
   "metadata": {},
   "outputs": [],
   "source": [
    "print((sft_optimize-sft[0,2]), (dft_optimize-dft[0,2]), (dft_numexpr_optimize-dft_numexpr[0,2]))\n"
   ]
  },
  {
   "cell_type": "code",
   "execution_count": null,
   "metadata": {},
   "outputs": [],
   "source": [
    "(1-(dft_optimize-dft[0,2])/(sft_optimize-sft[0,2]))*100/3"
   ]
  },
  {
   "cell_type": "code",
   "execution_count": null,
   "metadata": {},
   "outputs": [],
   "source": [
    "((dft_numexpr_optimize-dft_numexpr[0,2])/(sft_optimize-sft[0,2])-1)*100/3"
   ]
  },
  {
   "cell_type": "code",
   "execution_count": null,
   "metadata": {},
   "outputs": [],
   "source": [
    "perf = np.genfromtxt('/Users/jnoss/dev/makidon-labs/SCDA2/mprofile_20190123133112.dat', delimiter=' ', skip_header=1)\n",
    "\n",
    "orig = np.genfromtxt('/Users/jnoss/dev/makidon-labs/SCDA2/mprofile_20190123134139.dat', delimiter=' ', skip_header=1)\n",
    "\n",
    "start = perf[0,2]\n",
    "#presolve = 1548267206.7609699 - start\n",
    "#optimize = 1548267217.390469 - start\n",
    "\n",
    "\n",
    "presolve = 1548268314.2333891- start\n",
    "optimize = 1548268324.598443 - start\n",
    "\n",
    "\n",
    "plt.plot((perf[:,2]-perf[0,2]), perf[:,1]*1.024e-3, 'r-', label='explicit presolve')\n",
    "plt.plot((orig[:,2]-orig[0,2]), orig[:,1]*1.024e-3, 'k-', label='presolve called by optimize')\n",
    "\n",
    "\n",
    "#plt.plot((dft[:dft_pre,2]-dft[0,2]), dft[:dft_pre,1]*1.024e-3, 'b-', label='poppy.matrixDFT.matrix_dft')\n",
    "#plt.plot((dft_numexpr[:dft_numexpr_pre,2]-dft_numexpr[0,2])/60, dft_numexpr[:dft_numexpr_pre,1]*1.024e-3, 'r-', label='poppy.matrixDFT.matrix_dft w/ numexpr')\n",
    "\n",
    "plt.axvline(x=presolve, c='g', label='Presolve (explicit presolve)')\n",
    "plt.axvline(x=optimize, c='b', label='Optimize (explicit presolve)')\n",
    "\n",
    "\n",
    "plt.grid(True)\n",
    "plt.ylabel('GB')\n",
    "plt.xlabel('Seconds')\n",
    "plt.title('nPup = 48')\n",
    "plt.legend(loc = 'upper left')\n",
    "plt.show"
   ]
  },
  {
   "cell_type": "code",
   "execution_count": null,
   "metadata": {},
   "outputs": [],
   "source": [
    "perf = np.genfromtxt('/Users/jnoss/dev/makidon-labs/SCDA2/mprofile_20190123150021.dat', delimiter=' ', skip_header=1)\n",
    "\n",
    "#orig = np.genfromtxt('/Users/jnoss/dev/makidon-labs/SCDA2/mprofile_20190123134139.dat', delimiter=' ', skip_header=1)\n",
    "\n",
    "start = perf[0,2]\n",
    "#presolve = 1548267206.7609699 - start\n",
    "#optimize = 1548267217.390469 - start\n",
    "\n",
    "\n",
    "presolve = 1548274035.00201 - start\n",
    "optimize = 1548274166.382781 - start\n",
    "\n",
    "\n",
    "plt.plot((perf[:,2]-perf[0,2])/60, perf[:,1]*1.024e-3, 'r-', label='explicit presolve')\n",
    "#plt.plot((orig[:,2]-orig[0,2]), orig[:,1]*1.024e-3, 'k-', label='presolve called by optimize')\n",
    "\n",
    "\n",
    "#plt.plot((dft[:dft_pre,2]-dft[0,2]), dft[:dft_pre,1]*1.024e-3, 'b-', label='poppy.matrixDFT.matrix_dft')\n",
    "#plt.plot((dft_numexpr[:dft_numexpr_pre,2]-dft_numexpr[0,2])/60, dft_numexpr[:dft_numexpr_pre,1]*1.024e-3, 'r-', label='poppy.matrixDFT.matrix_dft w/ numexpr')\n",
    "\n",
    "plt.axvline(x=presolve/60, c='g', label='Presolve (explicit presolve)')\n",
    "plt.axvline(x=optimize/60, c='b', label='Optimize (explicit presolve)')\n",
    "\n",
    "\n",
    "plt.grid(True)\n",
    "plt.ylabel('GB')\n",
    "plt.xlabel('Minutes')\n",
    "plt.title('nPup = 144')\n",
    "plt.legend(loc = 'upper left')\n",
    "plt.show"
   ]
  },
  {
   "cell_type": "code",
   "execution_count": null,
   "metadata": {},
   "outputs": [],
   "source": [
    "perf = np.genfromtxt('/Users/jnoss/dev/makidon-labs/486-test/sep-presolve/mprofile_20190123135828-486-sdz-sep-presolve.dat', delimiter=' ', skip_header=1)\n",
    "\n",
    "#orig = np.genfromtxt('/Users/jnoss/dev/makidon-labs/SCDA2/mprofile_20190123134139.dat', delimiter=' ', skip_header=1)\n",
    "\n",
    "start = perf[0,2]\n",
    "#presolve = 1548267206.7609699 - start\n",
    "#optimize = 1548267217.390469 - start\n",
    "\n",
    "\n",
    "presolve = 1548274749.049365 - start\n",
    "optimize = 1548275030.428707 - start\n",
    "\n",
    "\n",
    "plt.plot((perf[:,2]-perf[0,2])/60**2, perf[:,1]*1.024e-3, 'r-', label='explicit presolve')\n",
    "#plt.plot((orig[:,2]-orig[0,2]), orig[:,1]*1.024e-3, 'k-', label='presolve called by optimize')\n",
    "\n",
    "\n",
    "#plt.plot((dft[:dft_pre,2]-dft[0,2]), dft[:dft_pre,1]*1.024e-3, 'b-', label='poppy.matrixDFT.matrix_dft')\n",
    "#plt.plot((dft_numexpr[:dft_numexpr_pre,2]-dft_numexpr[0,2])/60, dft_numexpr[:dft_numexpr_pre,1]*1.024e-3, 'r-', label='poppy.matrixDFT.matrix_dft w/ numexpr')\n",
    "\n",
    "plt.axvline(x=presolve/60**2, c='g', label='Presolve (explicit presolve)')\n",
    "plt.axvline(x=optimize/60**2, c='b', label='Optimize (explicit presolve)')\n",
    "\n",
    "\n",
    "plt.grid(True)\n",
    "plt.ylabel('GB')\n",
    "plt.xlabel('Hours')\n",
    "plt.title('nPup = 486 Small DZ')\n",
    "plt.legend(loc = 'upper left')\n",
    "plt.show"
   ]
  },
  {
   "cell_type": "code",
   "execution_count": 144,
   "metadata": {},
   "outputs": [
    {
     "data": {
      "text/plain": [
       "<function matplotlib.pyplot.show>"
      ]
     },
     "execution_count": 144,
     "metadata": {},
     "output_type": "execute_result"
    },
    {
     "data": {
      "image/png": "[encoded data removed]",
      "text/plain": [
       "<matplotlib.figure.Figure at 0x1157c3978>"
      ]
     },
     "metadata": {
      "needs_background": "light"
     },
     "output_type": "display_data"
    }
   ],
   "source": [
    "optimize = np.genfromtxt('/Users/jnoss/dev/makidon-labs/SCDA2/mprofile_20190205154156.dat', delimiter=' ', skip_header=1)\n",
    "pre_turn_off_after = np.genfromtxt('/Users/jnoss/dev/makidon-labs/SCDA2/mprofile_20190205153700.dat', delimiter=' ', skip_header=1)\n",
    "presolve = np.genfromtxt('/Users/jnoss/dev/makidon-labs/SCDA2/mprofile_20190205154101.dat', delimiter=' ', skip_header=1)\n",
    "\n",
    "optimize_opt = 1549399333.0416708 - optimize[0,2]\n",
    "presolve_opt = 1549399281.3267689 - presolve[0,2]\n",
    "pre_turn_off_after_opt = 1549399041.16974 - pre_turn_off_after[0,2]\n",
    "\n",
    "plt.plot((pre_turn_off_after[:,2]-pre_turn_off_after[0,2]), pre_turn_off_after[:,1]*1.024e-3, 'r-', label='explicit presolve, not by optimize')\n",
    "plt.plot((presolve[:,2]-presolve[0,2]), presolve[:,1]*1.024e-3, 'b-', label='explicit presolve and also by optimize')\n",
    "plt.plot((optimize[:,2]-optimize[0,2]), optimize[:,1]*1.024e-3, 'k-', label='presolve called by optimize')\n",
    "\n",
    "plt.axvline(x=optimize_opt, c='k')\n",
    "plt.axvline(x=presolve_opt, c='b')\n",
    "plt.axvline(x=pre_turn_off_after_opt, c='r')\n",
    "\n",
    "\n",
    "plt.grid(True)\n",
    "plt.ylabel('GB')\n",
    "plt.xlabel('Seconds')\n",
    "plt.title('nPup = 48')\n",
    "plt.legend(loc = 'upper right')\n",
    "plt.show"
   ]
  },
  {
   "cell_type": "code",
   "execution_count": 143,
   "metadata": {},
   "outputs": [
    {
     "data": {
      "text/plain": [
       "<function matplotlib.pyplot.show>"
      ]
     },
     "execution_count": 143,
     "metadata": {},
     "output_type": "execute_result"
    },
    {
     "data": {
      "image/png": "[encoded data removed]",
      "text/plain": [
       "<matplotlib.figure.Figure at 0x1085ab978>"
      ]
     },
     "metadata": {
      "needs_background": "light"
     },
     "output_type": "display_data"
    }
   ],
   "source": [
    "#optimize = np.genfromtxt('/Users/jnoss/dev/makidon-labs/SCDA2/mprofile_20190206092358.dat', delimiter=' ', skip_header=1)\n",
    "optimize = np.genfromtxt('/Users/jnoss/dev/makidon-labs/SCDA2/mprofile_20190206103738.dat', delimiter=' ', skip_header=1)\n",
    "\n",
    "#pre_turn_off_after = np.genfromtxt('/Users/jnoss/dev/makidon-labs/SCDA2/mprofile_20190206094757.dat', delimiter=' ', skip_header=1)\n",
    "pre_turn_off_after = np.genfromtxt('/Users/jnoss/dev/makidon-labs/SCDA2/mprofile_20190206110512.dat', delimiter=' ', skip_header=1)\n",
    "\n",
    "presolve = np.genfromtxt('/Users/jnoss/dev/makidon-labs/SCDA2/mprofile_20190206092631.dat', delimiter=' ', skip_header=1)\n",
    "\n",
    "\n",
    "optimize_opt = 1549467495.69171 - optimize[0,2]\n",
    "presolve_opt = 1549463239.7434938 - presolve[0,2]\n",
    "pre_turn_off_after_opt = 1549469161.0602088 - pre_turn_off_after[0,2]\n",
    "\n",
    "plt.plot((pre_turn_off_after[:,2]-pre_turn_off_after[0,2]), pre_turn_off_after[:,1]*1.024e-3, 'r-', label='explicit presolve, not by optimize (20052096 !0)')\n",
    "plt.plot((presolve[:,2]-presolve[0,2]), presolve[:,1]*1.024e-3, 'b-', label='explicit presolve and also by optimize (20052096 !0)')\n",
    "plt.plot((optimize[:,2]-optimize[0,2]), optimize[:,1]*1.024e-3, 'k-', label='presolve called only by optimize (20053360 !0)')\n",
    "\n",
    "plt.axvline(x=optimize_opt, c='k')\n",
    "plt.axvline(x=presolve_opt, c='b')\n",
    "plt.axvline(x=pre_turn_off_after_opt, c='r')\n",
    "\n",
    "\n",
    "plt.grid(True)\n",
    "plt.ylabel('GB')\n",
    "plt.xlabel('Seconds')\n",
    "plt.title('nPup = 48, large DZ (my box)')\n",
    "plt.legend(loc = 'upper right')\n",
    "plt.show"
   ]
  },
  {
   "cell_type": "code",
   "execution_count": null,
   "metadata": {},
   "outputs": [],
   "source": [
    "p = np.genfromtxt('/Users/jnoss/dev/makidon-labs/SCDA2/mprofile_20190206103738.dat', delimiter=' ', skip_header=1)\n",
    "p_opt = 1549467495.69171 - p[0,2]\n",
    "\n",
    "plt.plot((p[:,2]-p[0,2]), p[:,1]*1.024e-3, 'k-')"
   ]
  },
  {
   "cell_type": "code",
   "execution_count": null,
   "metadata": {},
   "outputs": [],
   "source": [
    "p = np.genfromtxt('/Users/jnoss/dev/makidon-labs/SCDA2/mprofile_20190206110512.dat', delimiter=' ', skip_header=1)\n",
    "p_opt = 1549469161.0602088 - p[0,2]\n",
    "\n",
    "plt.plot((p[:,2]-p[0,2]), p[:,1]*1.024e-3, 'r-')"
   ]
  },
  {
   "cell_type": "code",
   "execution_count": 142,
   "metadata": {},
   "outputs": [
    {
     "data": {
      "text/plain": [
       "<function matplotlib.pyplot.show>"
      ]
     },
     "execution_count": 142,
     "metadata": {},
     "output_type": "execute_result"
    },
    {
     "data": {
      "image/png": "[encoded data removed]",
      "text/plain": [
       "<matplotlib.figure.Figure at 0x107358668>"
      ]
     },
     "metadata": {
      "needs_background": "light"
     },
     "output_type": "display_data"
    }
   ],
   "source": [
    "simplex = np.genfromtxt('/Users/jnoss/dev/makidon-labs/SCDA2/mprofile_20190207123651.dat', delimiter=' ', skip_header=1)\n",
    "simplex_wo_presolve = np.genfromtxt('/Users/jnoss/dev/makidon-labs/SCDA2/mprofile_20190207154818.dat', delimiter=' ', skip_header=1)\n",
    "\n",
    "barrier = np.genfromtxt('/Users/jnoss/dev/makidon-labs/SCDA2/mprofile_20190207121622.dat', delimiter=' ', skip_header=1)\n",
    "\n",
    "\n",
    "plt.plot((simplex[:,2]-simplex[0,2])/60, simplex[:,1]*1.024e-3, 'r-', label='simplex')\n",
    "plt.plot((simplex_wo_presolve[:,2]-simplex_wo_presolve[0,2])/60, simplex_wo_presolve[:,1]*1.024e-3, 'b-', label='simplex no presolve')\n",
    "plt.plot((barrier[:,2]-barrier[0,2])/60, barrier[:,1]*1.024e-3, 'k-', label='barrier')\n",
    "\n",
    "plt.grid(True)\n",
    "plt.ylabel('GB')\n",
    "plt.xlabel('Minutes')\n",
    "plt.title('nPup = 48 large DZ (my box)')\n",
    "plt.legend(loc = 'upper right')\n",
    "plt.show"
   ]
  },
  {
   "cell_type": "code",
   "execution_count": 141,
   "metadata": {},
   "outputs": [
    {
     "data": {
      "text/plain": [
       "<function matplotlib.pyplot.show>"
      ]
     },
     "execution_count": 141,
     "metadata": {},
     "output_type": "execute_result"
    },
    {
     "data": {
      "image/png": "[encoded data removed]",
      "text/plain": [
       "<matplotlib.figure.Figure at 0x11508e2e8>"
      ]
     },
     "metadata": {
      "needs_background": "light"
     },
     "output_type": "display_data"
    }
   ],
   "source": [
    "\n",
    "dat = np.genfromtxt('/Users/jnoss/dev/makidon-labs/486-test/./mprofile_20190207103950-486-lrgdz-half-pix-2-dith.dat', delimiter=' ', skip_header=1)\n",
    "\n",
    "\n",
    "use_pickeld = np.genfromtxt('/user/jnoss/mprofile_20190211142029.dat', delimiter=' ', skip_header=1)\n",
    "\n",
    "plt.plot((dat[:,2]-dat[0,2])/60**2, dat[:,1]*1.024e-3, 'k-', label='Compute fields')\n",
    "plt.plot((use_pickeld[:,2]-use_pickeld[0,2])/60**2, use_pickeld[:,1]*1.024e-3, 'r-', label='Use pickled fields')\n",
    "\n",
    "plt.axvline(x=(1549572179.1209466 - dat[0,2])/60**2, c='k')\n",
    "\n",
    "\n",
    "plt.grid(True)\n",
    "plt.ylabel('GB')\n",
    "plt.xlabel('Hours')\n",
    "plt.title('nPup=486, large DZ\\n 1/2 pix 2 lyot stop dithers\\n telserv3 (out of mem during presolve)')\n",
    "plt.legend(loc = 'upper right')\n",
    "plt.show"
   ]
  },
  {
   "cell_type": "code",
   "execution_count": null,
   "metadata": {},
   "outputs": [],
   "source": [
    "s = simplex[-1,2]-simplex[0,2]\n",
    "s_wo_pre = simplex_wo_presolve[-1,2]-simplex_wo_presolve[0,2]\n",
    "b = barrier[-1,2]-barrier[0,2]\n",
    "\n",
    "print(s_wo_pre/s)\n",
    "print(s_wo_pre/b)"
   ]
  },
  {
   "cell_type": "code",
   "execution_count": 140,
   "metadata": {},
   "outputs": [
    {
     "data": {
      "text/plain": [
       "<function matplotlib.pyplot.show>"
      ]
     },
     "execution_count": 140,
     "metadata": {},
     "output_type": "execute_result"
    },
    {
     "data": {
      "image/png": "[encoded data removed]",
      "text/plain": [
       "<matplotlib.figure.Figure at 0x11652df28>"
      ]
     },
     "metadata": {
      "needs_background": "light"
     },
     "output_type": "display_data"
    }
   ],
   "source": [
    "#norm = np.genfromtxt('/Users/jnoss/dev/makidon-labs/SCDA2/mprofile_20190208113020.dat', delimiter=' ', skip_header=1)\n",
    "norm = np.genfromtxt('/Users/jnoss/dev/makidon-labs/SCDA2/mprofile_20190208115845.dat', delimiter=' ', skip_header=1)\n",
    "\n",
    "write = np.genfromtxt('/Users/jnoss/dev/makidon-labs/SCDA2/mprofile_20190208114024.dat', delimiter=' ', skip_header=1)\n",
    "\n",
    "read = np.genfromtxt('/Users/jnoss/dev/makidon-labs/SCDA2/mprofile_20190208110521.dat', delimiter=' ', skip_header=1)\n",
    "\n",
    "\n",
    "plt.plot((norm[:,2]-norm[0,2]), norm[:,1]*1.024e-3, 'k-', label='Comp, solve')\n",
    "plt.plot((write[:,2]-write[0,2]), write[:,1]*1.024e-3, 'b-', label='Comp, write, solve')\n",
    "plt.plot((read[:,2]-read[0,2]), read[:,1]*1.024e-3, 'r-', label='Read, solve')\n",
    "\n",
    "plt.grid(True)\n",
    "plt.ylabel('GB')\n",
    "plt.xlabel('Seconds')\n",
    "plt.title('nPup = 48 large DZ (my box)')\n",
    "plt.legend(loc = 'upper left')\n",
    "plt.show"
   ]
  },
  {
   "cell_type": "code",
   "execution_count": null,
   "metadata": {},
   "outputs": [],
   "source": [
    "read = np.genfromtxt('/Users/jnoss/dev/makidon-labs/SCDA2/mprofile_20190208110521.dat', delimiter=' ', skip_header=1)\n",
    "plt.plot((read[:,2]-read[0,2]), read[:,1]*1.024e-3, 'g-', label='Read, solve')\n",
    "plt.show"
   ]
  },
  {
   "cell_type": "code",
   "execution_count": 139,
   "metadata": {},
   "outputs": [
    {
     "data": {
      "text/plain": [
       "<function matplotlib.pyplot.show>"
      ]
     },
     "execution_count": 139,
     "metadata": {},
     "output_type": "execute_result"
    },
    {
     "data": {
      "image/png": "[encoded data removed]",
      "text/plain": [
       "<matplotlib.figure.Figure at 0x116589710>"
      ]
     },
     "metadata": {
      "needs_background": "light"
     },
     "output_type": "display_data"
    }
   ],
   "source": [
    "norm = np.genfromtxt('/Users/jnoss/dev/makidon-labs/SCDA2/mprofile_20190208115845.dat', delimiter=' ', skip_header=1)\n",
    "\n",
    "write = np.genfromtxt('/Users/jnoss/dev/makidon-labs/SCDA2/mprofile_20190208153430.dat', delimiter=' ', skip_header=1)\n",
    "\n",
    "read = np.genfromtxt('/Users/jnoss/dev/makidon-labs/SCDA2/mprofile_20190208153139.dat', delimiter=' ', skip_header=1)\n",
    "\n",
    "\n",
    "plt.plot((norm[:,2]-norm[0,2]), norm[:,1]*1.024e-3, 'k-', label='Comp, solve')\n",
    "plt.plot((write[:,2]-write[0,2]), write[:,1]*1.024e-3, 'b-', label='Comp, write, solve')\n",
    "plt.plot((read[:,2]-read[0,2]), read[:,1]*1.024e-3, 'r-', label='Read, solve')\n",
    "\n",
    "plt.grid(True)\n",
    "plt.ylabel('GB')\n",
    "plt.xlabel('Seconds')\n",
    "plt.title('Pickle only field constrs\\nnPup = 48 large DZ (my box)')\n",
    "plt.legend(loc = 'upper left')\n",
    "plt.show"
   ]
  },
  {
   "cell_type": "code",
   "execution_count": null,
   "metadata": {},
   "outputs": [],
   "source": [
    "def mem_footprint(ndz, nlam, npp, size, scale, nCorona):\n",
    "    e_field = ndz*2 # complex => *2\n",
    "    fields = e_field*nlam\n",
    "    delta_fields = fields*2 # Aconst - fields & Aconst + fields\n",
    "    #print(delta_fields)\n",
    "\n",
    "    array_of_fields = npp * delta_fields * nCorona\n",
    "    #print(array_of_fields)\n",
    "\n",
    "    I = npp**2\n",
    "    negI = I\n",
    "\n",
    "    nNonZeros = array_of_fields + I + negI\n",
    "    #print(final_array)\n",
    "\n",
    "    #print(final_array*size/1e9)\n",
    "\n",
    "    b = delta_fields + npp*2\n",
    "    c = npp\n",
    "\n",
    "    total = nNonZeros + b + c\n",
    "    \n",
    "    # A + b + c (wo/identity mat)\n",
    "    at_least = nNonZeros/2 + delta_fields + npp\n",
    "    \n",
    "    n_constrs = ndz*nlam*2\n",
    "    terms_per_f_constr = npp\n",
    "    tot_per_f_constr = terms_per_f_constr*2 + 1 # val + var + rhs\n",
    "    \n",
    "    tot_constr = tot_per_f_constr*n_constrs\n",
    "    \n",
    "    identity_constr = npp*2 + 1 #val + var + rhs\n",
    "    gurobi = tot_constr + identity_constr*2\n",
    "    \n",
    "    nz = delta_fields + npp*2 # ndz\n",
    "    \n",
    "    return total*size/scale, at_least*size/scale, gurobi*size/scale, nNonZeros"
   ]
  },
  {
   "cell_type": "markdown",
   "metadata": {},
   "source": [
    "# Memory footprint scaling\n",
    "\n",
    "## 48, ldz, nImg2d = 65\n",
    "\n",
    "### nlam = 1\n",
    "```ndz = 2644, npp = 1264, Optimize a model with 13104 rows, 1264 columns and 13370592 nonzeros, mprofile_20190218115541\n",
    "optimize:  1550508955.251071```\n",
    "\n",
    "### nlam = 2\n",
    "```ndz = 2644, npp = 1264, Optimize a model with 23680 rows, 1264 columns and 26738656 nonzeros, mprofile_20190218115632\n",
    "optimize:  1550509018.8267798```\n",
    "\n",
    "### nlam = 3\n",
    "```ndz = 2644, npp = 1264, Optimize a model with 34256 rows, 1264 columns and 40106720 nonzeros, mprofile_20190218115822\n",
    "optimize:  1550509141.012335```\n",
    " \n",
    "## Some specs\n",
    "\n",
    "sdz = 952 # IWA=5, OWA=10\n",
    "ldz = 2644 # IWA=3.75, OWA = 15.00\n",
    "ndz = ldz\n",
    "\n",
    "npp486=132196\n",
    "npp48=1264"
   ]
  },
  {
   "cell_type": "code",
   "execution_count": 4,
   "metadata": {},
   "outputs": [],
   "source": [
    "def non_zeros(ndz, npp, nlam, ncorona):\n",
    "    e_field = ndz*2 # complex => *2\n",
    "    delta_fields = e_field*2 # Aconst - fields & Aconst + fields\n",
    "    \n",
    "    fields = delta_fields*npp*nlam\n",
    "\n",
    "    \n",
    "    tot_corona = fields*ncorona\n",
    "    \n",
    "    I = npp\n",
    "    \n",
    "    # (ndz*2*2*npp + npp*2)*nlam*ncorona\n",
    "    \n",
    "    return tot_corona + I*2 # *2 -> I & -I"
   ]
  },
  {
   "cell_type": "code",
   "execution_count": 5,
   "metadata": {},
   "outputs": [],
   "source": [
    "def presolve(data, t_opt):\n",
    "    m = max(data[:,1])\n",
    "    pre_presolve = max([m for m, t in zip(data[:,1], data[:,2]) if t < t_opt])\n",
    "    presolve = m - pre_presolve\n",
    "                                          \n",
    "    return pre_presolve, presolve, m"
   ]
  },
  {
   "cell_type": "code",
   "execution_count": 10,
   "metadata": {},
   "outputs": [
    {
     "ename": "OSError",
     "evalue": "/Users/jnoss/dev/makidon-labs/SCDA2/mprofile_20190218115541.dat not found.",
     "output_type": "error",
     "traceback": [
      "\u001b[0;31m---------------------------------------------------------------------------\u001b[0m",
      "\u001b[0;31mOSError\u001b[0m                                   Traceback (most recent call last)",
      "\u001b[0;32m<ipython-input-10-4cc9d5952ee2>\u001b[0m in \u001b[0;36m<module>\u001b[0;34m\u001b[0m\n\u001b[0;32m----> 1\u001b[0;31m \u001b[0mnlam1\u001b[0m \u001b[0;34m=\u001b[0m \u001b[0mnp\u001b[0m\u001b[0;34m.\u001b[0m\u001b[0mgenfromtxt\u001b[0m\u001b[0;34m(\u001b[0m\u001b[0;34m'/Users/jnoss/dev/makidon-labs/SCDA2/mprofile_20190218115541.dat'\u001b[0m\u001b[0;34m,\u001b[0m \u001b[0mdelimiter\u001b[0m\u001b[0;34m=\u001b[0m\u001b[0;34m' '\u001b[0m\u001b[0;34m,\u001b[0m \u001b[0mskip_header\u001b[0m\u001b[0;34m=\u001b[0m\u001b[0;36m1\u001b[0m\u001b[0;34m)\u001b[0m\u001b[0;34m\u001b[0m\u001b[0;34m\u001b[0m\u001b[0m\n\u001b[0m\u001b[1;32m      2\u001b[0m \u001b[0mnlam2\u001b[0m \u001b[0;34m=\u001b[0m \u001b[0mnp\u001b[0m\u001b[0;34m.\u001b[0m\u001b[0mgenfromtxt\u001b[0m\u001b[0;34m(\u001b[0m\u001b[0;34m'/Users/jnoss/dev/makidon-labs/SCDA2/mprofile_20190218115632.dat'\u001b[0m\u001b[0;34m,\u001b[0m \u001b[0mdelimiter\u001b[0m\u001b[0;34m=\u001b[0m\u001b[0;34m' '\u001b[0m\u001b[0;34m,\u001b[0m \u001b[0mskip_header\u001b[0m\u001b[0;34m=\u001b[0m\u001b[0;36m1\u001b[0m\u001b[0;34m)\u001b[0m\u001b[0;34m\u001b[0m\u001b[0;34m\u001b[0m\u001b[0m\n\u001b[1;32m      3\u001b[0m \u001b[0mnlam3\u001b[0m \u001b[0;34m=\u001b[0m \u001b[0mnp\u001b[0m\u001b[0;34m.\u001b[0m\u001b[0mgenfromtxt\u001b[0m\u001b[0;34m(\u001b[0m\u001b[0;34m'/Users/jnoss/dev/makidon-labs/SCDA2/mprofile_20190218115822.dat'\u001b[0m\u001b[0;34m,\u001b[0m \u001b[0mdelimiter\u001b[0m\u001b[0;34m=\u001b[0m\u001b[0;34m' '\u001b[0m\u001b[0;34m,\u001b[0m \u001b[0mskip_header\u001b[0m\u001b[0;34m=\u001b[0m\u001b[0;36m1\u001b[0m\u001b[0;34m)\u001b[0m\u001b[0;34m\u001b[0m\u001b[0;34m\u001b[0m\u001b[0m\n\u001b[1;32m      4\u001b[0m \u001b[0;34m\u001b[0m\u001b[0m\n\u001b[1;32m      5\u001b[0m \u001b[0mx\u001b[0m\u001b[0;34m,\u001b[0m \u001b[0my\u001b[0m\u001b[0;34m,\u001b[0m \u001b[0mz\u001b[0m \u001b[0;34m=\u001b[0m \u001b[0mpresolve\u001b[0m\u001b[0;34m(\u001b[0m\u001b[0mnlam1\u001b[0m\u001b[0;34m,\u001b[0m \u001b[0;36m1550508955.251071\u001b[0m\u001b[0;34m)\u001b[0m\u001b[0;34m,\u001b[0m \u001b[0mpresolve\u001b[0m\u001b[0;34m(\u001b[0m\u001b[0mnlam2\u001b[0m\u001b[0;34m,\u001b[0m \u001b[0;36m1550509018.8267798\u001b[0m\u001b[0;34m)\u001b[0m \u001b[0;34m,\u001b[0m \u001b[0mpresolve\u001b[0m\u001b[0;34m(\u001b[0m\u001b[0mnlam3\u001b[0m\u001b[0;34m,\u001b[0m \u001b[0;36m1550509141.012335\u001b[0m\u001b[0;34m)\u001b[0m\u001b[0;34m\u001b[0m\u001b[0;34m\u001b[0m\u001b[0m\n",
      "\u001b[0;32m/anaconda3/lib/python3.7/site-packages/numpy/lib/npyio.py\u001b[0m in \u001b[0;36mgenfromtxt\u001b[0;34m(fname, dtype, comments, delimiter, skip_header, skip_footer, converters, missing_values, filling_values, usecols, names, excludelist, deletechars, replace_space, autostrip, case_sensitive, defaultfmt, unpack, usemask, loose, invalid_raise, max_rows, encoding)\u001b[0m\n\u001b[1;32m   1698\u001b[0m             \u001b[0mfname\u001b[0m \u001b[0;34m=\u001b[0m \u001b[0mstr\u001b[0m\u001b[0;34m(\u001b[0m\u001b[0mfname\u001b[0m\u001b[0;34m)\u001b[0m\u001b[0;34m\u001b[0m\u001b[0;34m\u001b[0m\u001b[0m\n\u001b[1;32m   1699\u001b[0m         \u001b[0;32mif\u001b[0m \u001b[0misinstance\u001b[0m\u001b[0;34m(\u001b[0m\u001b[0mfname\u001b[0m\u001b[0;34m,\u001b[0m \u001b[0mbasestring\u001b[0m\u001b[0;34m)\u001b[0m\u001b[0;34m:\u001b[0m\u001b[0;34m\u001b[0m\u001b[0;34m\u001b[0m\u001b[0m\n\u001b[0;32m-> 1700\u001b[0;31m             \u001b[0mfhd\u001b[0m \u001b[0;34m=\u001b[0m \u001b[0miter\u001b[0m\u001b[0;34m(\u001b[0m\u001b[0mnp\u001b[0m\u001b[0;34m.\u001b[0m\u001b[0mlib\u001b[0m\u001b[0;34m.\u001b[0m\u001b[0m_datasource\u001b[0m\u001b[0;34m.\u001b[0m\u001b[0mopen\u001b[0m\u001b[0;34m(\u001b[0m\u001b[0mfname\u001b[0m\u001b[0;34m,\u001b[0m \u001b[0;34m'rt'\u001b[0m\u001b[0;34m,\u001b[0m \u001b[0mencoding\u001b[0m\u001b[0;34m=\u001b[0m\u001b[0mencoding\u001b[0m\u001b[0;34m)\u001b[0m\u001b[0;34m)\u001b[0m\u001b[0;34m\u001b[0m\u001b[0;34m\u001b[0m\u001b[0m\n\u001b[0m\u001b[1;32m   1701\u001b[0m             \u001b[0mown_fhd\u001b[0m \u001b[0;34m=\u001b[0m \u001b[0;32mTrue\u001b[0m\u001b[0;34m\u001b[0m\u001b[0;34m\u001b[0m\u001b[0m\n\u001b[1;32m   1702\u001b[0m         \u001b[0;32melse\u001b[0m\u001b[0;34m:\u001b[0m\u001b[0;34m\u001b[0m\u001b[0;34m\u001b[0m\u001b[0m\n",
      "\u001b[0;32m/anaconda3/lib/python3.7/site-packages/numpy/lib/_datasource.py\u001b[0m in \u001b[0;36mopen\u001b[0;34m(path, mode, destpath, encoding, newline)\u001b[0m\n\u001b[1;32m    260\u001b[0m \u001b[0;34m\u001b[0m\u001b[0m\n\u001b[1;32m    261\u001b[0m     \u001b[0mds\u001b[0m \u001b[0;34m=\u001b[0m \u001b[0mDataSource\u001b[0m\u001b[0;34m(\u001b[0m\u001b[0mdestpath\u001b[0m\u001b[0;34m)\u001b[0m\u001b[0;34m\u001b[0m\u001b[0;34m\u001b[0m\u001b[0m\n\u001b[0;32m--> 262\u001b[0;31m     \u001b[0;32mreturn\u001b[0m \u001b[0mds\u001b[0m\u001b[0;34m.\u001b[0m\u001b[0mopen\u001b[0m\u001b[0;34m(\u001b[0m\u001b[0mpath\u001b[0m\u001b[0;34m,\u001b[0m \u001b[0mmode\u001b[0m\u001b[0;34m,\u001b[0m \u001b[0mencoding\u001b[0m\u001b[0;34m=\u001b[0m\u001b[0mencoding\u001b[0m\u001b[0;34m,\u001b[0m \u001b[0mnewline\u001b[0m\u001b[0;34m=\u001b[0m\u001b[0mnewline\u001b[0m\u001b[0;34m)\u001b[0m\u001b[0;34m\u001b[0m\u001b[0;34m\u001b[0m\u001b[0m\n\u001b[0m\u001b[1;32m    263\u001b[0m \u001b[0;34m\u001b[0m\u001b[0m\n\u001b[1;32m    264\u001b[0m \u001b[0;34m\u001b[0m\u001b[0m\n",
      "\u001b[0;32m/anaconda3/lib/python3.7/site-packages/numpy/lib/_datasource.py\u001b[0m in \u001b[0;36mopen\u001b[0;34m(self, path, mode, encoding, newline)\u001b[0m\n\u001b[1;32m    616\u001b[0m                                       encoding=encoding, newline=newline)\n\u001b[1;32m    617\u001b[0m         \u001b[0;32melse\u001b[0m\u001b[0;34m:\u001b[0m\u001b[0;34m\u001b[0m\u001b[0;34m\u001b[0m\u001b[0m\n\u001b[0;32m--> 618\u001b[0;31m             \u001b[0;32mraise\u001b[0m \u001b[0mIOError\u001b[0m\u001b[0;34m(\u001b[0m\u001b[0;34m\"%s not found.\"\u001b[0m \u001b[0;34m%\u001b[0m \u001b[0mpath\u001b[0m\u001b[0;34m)\u001b[0m\u001b[0;34m\u001b[0m\u001b[0;34m\u001b[0m\u001b[0m\n\u001b[0m\u001b[1;32m    619\u001b[0m \u001b[0;34m\u001b[0m\u001b[0m\n\u001b[1;32m    620\u001b[0m \u001b[0;34m\u001b[0m\u001b[0m\n",
      "\u001b[0;31mOSError\u001b[0m: /Users/jnoss/dev/makidon-labs/SCDA2/mprofile_20190218115541.dat not found."
     ]
    }
   ],
   "source": [
    "nlam1 = np.genfromtxt('/Users/jnoss/dev/makidon-labs/SCDA2/mprofile_20190218115541.dat', delimiter=' ', skip_header=1)\n",
    "nlam2 = np.genfromtxt('/Users/jnoss/dev/makidon-labs/SCDA2/mprofile_20190218115632.dat', delimiter=' ', skip_header=1)\n",
    "nlam3 = np.genfromtxt('/Users/jnoss/dev/makidon-labs/SCDA2/mprofile_20190218115822.dat', delimiter=' ', skip_header=1)\n",
    "\n",
    "x, y, z = presolve(nlam1, 1550508955.251071), presolve(nlam2, 1550509018.8267798) , presolve(nlam3, 1550509141.012335)\n",
    "#print(z/x, y/z, z-y, y-x)\n",
    "#print(40106720/13370592, 26738656/13370592, 26738656 - 13370592, 40106720 - 26738656)\n",
    "print(\"B/NZ for model:\", x[0]*1024**2/13370592, y[0]*1024**2/26738656, z[0]*1024**2/40106720)\n",
    "print(\"B/NZ used by presolve:\", x[1]*1024**2/13370592, y[1]*1024**2/26738656, z[1]*1024**2/40106720)\n",
    "print(\"B/NZ peak:\", x[2]*1024**2/13370592, y[2]*1024**2/26738656, z[2]*1024**2/40106720)\n",
    "\n",
    "print(z[2]/x[2], y[2]/x[2])\n",
    "\n",
    "scale = 1024**2/1e9 # MiB -> GB\n",
    "plt.plot((nlam1[:,2]-nlam1[0,2]), nlam1[:,1]*scale, 'k-')\n",
    "plt.plot((nlam2[:,2]-nlam2[0,2]), nlam2[:,1]*scale, 'b-')\n",
    "plt.plot((nlam3[:,2]-nlam3[0,2]), nlam3[:,1]*scale, 'r-')\n",
    "\n",
    "plt.grid(True)\n",
    "plt.ylabel('GB')\n",
    "plt.xlabel('Seconds')\n",
    "plt.show"
   ]
  },
  {
   "cell_type": "code",
   "execution_count": 63,
   "metadata": {},
   "outputs": [
    {
     "data": {
      "text/plain": [
       "99.66505280128843"
      ]
     },
     "execution_count": 63,
     "metadata": {},
     "output_type": "execute_result"
    }
   ],
   "source": [
    "d = np.genfromtxt('/Users/jnoss/dev/makidon-labs/SCDA2/mprofile_20190218150004.dat', delimiter=' ', skip_header=1)\n",
    "dm = presolve(d, 1550520009.586278)\n",
    "dm[1]*1024**2/3258592"
   ]
  },
  {
   "cell_type": "markdown",
   "metadata": {},
   "source": [
    "# Memory footprint scaling\n",
    "\n",
    "## 486, ldz, nImg2d = 65\n",
    "\n",
    "### nlam = 1\n",
    "\n",
    "```optimize:  1550591882.669416\n",
    "Optimize a model with 274968 rows, 132196 columns and 1398369272 nonzeros\n",
    "Coefficient statistics:\n",
    "  Matrix range     [9e-13, 1e+00]\n",
    "  Objective range  [8e-06, 8e-06]\n",
    "  Bounds range     [1e+00, 1e+00]\n",
    "  RHS range        [1e+00, 1e+00]\n",
    "Presolve removed 0 rows and 0 columns (presolve time = 52s) ...\n",
    "Presolve removed 0 rows and 132196 columns (presolve time = 89s) ...\n",
    "Presolve removed 0 rows and 269680 columns (presolve time = 139s) ...\n",
    "Presolve removed 0 rows and 269680 columns (presolve time = 266s) ...\n",
    "Presolve removed 0 rows and 269680 columns (presolve time = 290s) ...\n",
    "Presolve removed 0 rows and 269680 columns (presolve time = 298s) ...\n",
    "Presolve removed 0 rows and 269680 columns (presolve time = 309s) ...\n",
    "Presolve removed 0 rows and 269680 columns\n",
    "Presolve time: 342.62s\n",
    "Presolved: 132196 rows, 137484 columns, 699184636 nonzeros```\n",
    "\n",
    "### nlam = 2\n",
    "\n",
    "```optimize:  1550595564.6108606\n",
    "Optimize a model with 285544 rows, 132196 columns and 2796474168 nonzeros\n",
    "Coefficient statistics:\n",
    "  Matrix range     [9e-13, 1e+00]\n",
    "  Objective range  [8e-06, 8e-06]\n",
    "  Bounds range     [1e+00, 1e+00]\n",
    "  RHS range        [1e+00, 1e+00]\n",
    "Presolve removed 0 rows and 0 columns (presolve time = 201s) ...\n",
    "Presolve removed 0 rows and 132196 columns (presolve time = 206s) ...\n",
    "Presolve removed 0 rows and 132196 columns (presolve time = 290s) ...\n",
    "Presolve removed 0 rows and 274968 columns (presolve time = 494s) ...\n",
    "Presolve removed 0 rows and 274968 columns (presolve time = 923s) ...\n",
    "Presolve removed 0 rows and 274968 columns (presolve time = 978s) ...\n",
    "Presolve removed 0 rows and 274968 columns (presolve time = 1002s) ...\n",
    "Presolve removed 0 rows and 274968 columns (presolve time = 1033s) ...\n",
    "Presolve removed 0 rows and 274968 columns\n",
    "Presolve time: 1119.90s\n",
    "Presolved: 132196 rows, 142772 columns, 1398237084 nonzeros```\n",
    "\n",
    "### nlam = 3\n",
    "```optimize:  1550607484.561992\n",
    "Optimize a model with 296120 rows, 132196 columns and 4194579064 nonzeros\n",
    "Coefficient statistics:\n",
    "  Matrix range     [1e-13, 1e+00]\n",
    "  Objective range  [8e-06, 8e-06]\n",
    "  Bounds range     [1e+00, 1e+00]\n",
    "  RHS range        [1e+00, 1e+00]\n",
    "Presolve removed 0 rows and 0 columns (presolve time = 457s) ...\n",
    "Presolve removed 0 rows and 132196 columns (presolve time = 475s) ...\n",
    "Presolve removed 0 rows and 132196 columns (presolve time = 623s) ...\n",
    "Presolve removed 0 rows and 280256 columns (presolve time = 837s) ...\n",
    "Presolve removed 0 rows and 280256 columns (presolve time = 1368s) ...\n",
    "Presolve removed 0 rows and 280256 columns (presolve time = 1463s) ...\n",
    "Presolve removed 0 rows and 280256 columns (presolve time = 1498s) ...\n",
    "Presolve removed 0 rows and 280256 columns (presolve time = 1545s) ...\n",
    "Presolve removed 0 rows and 280256 columns\n",
    "Presolve time: 1671.42s\n",
    "Presolved: 132196 rows, 148060 columns, 2097289532 nonzeros```"
   ]
  },
  {
   "cell_type": "code",
   "execution_count": 22,
   "metadata": {},
   "outputs": [
    {
     "name": "stdout",
     "output_type": "stream",
     "text": [
      "B/NZ for model: 28.201149110875097 20.101347058822537 17.402811842194424\n",
      "B/NZ used by presolve: 126.20928239065464 83.24041911612532 83.45097549656347\n",
      "B/NZ peak: 154.41043150152973 103.34176617494786 100.8537873387579\n",
      "presolve/model: 4.475324104505552 4.141036860491938 4.795258160191695\n",
      "ratio of NZ/base: 1.9998109397815773 2.9996218795631546\n"
     ]
    },
    {
     "data": {
      "text/plain": [
       "<function matplotlib.pyplot.show(*args, **kw)>"
      ]
     },
     "execution_count": 22,
     "metadata": {},
     "output_type": "execute_result"
    }
   ],
   "source": [
    "# Using pickled data\n",
    "\n",
    "nlam1 = np.genfromtxt('/user/jnoss/mprofile_20190219104642.dat', delimiter=' ', skip_header=1)\n",
    "nlam2 = np.genfromtxt('/user/jnoss/mprofile_20190219113540.dat', delimiter=' ', skip_header=1)\n",
    "nlam3 = np.genfromtxt('/user/jnoss/mprofile_20190219144218.dat', delimiter=' ', skip_header=1)\n",
    "\n",
    "x, y, z = presolve(nlam1, 1550591882.669416), presolve(nlam2, 1550595564.6108606) , presolve(nlam3, 1550607484.561992)\n",
    "#print(z/x, y/z, z-y, y-x)\n",
    "#print(40106720/13370592, 26738656/13370592, 26738656 - 13370592, 40106720 - 26738656)\n",
    "print(\"B/NZ for model:\", x[0]*1024**2/1398369272, y[0]*1024**2/2796474168, z[0]*1024**2/4194579064)\n",
    "print(\"B/NZ used by presolve:\", x[1]*1024**2/1398369272, y[1]*1024**2/2796474168, z[1]*1024**2/4194579064)\n",
    "print(\"B/NZ peak:\", x[2]*1024**2/1398369272, y[2]*1024**2/2796474168, z[2]*1024**2/4194579064)\n",
    "print(\"presolve/model:\", x[1]/x[0], y[1]/y[0], z[1]/z[0])\n",
    "print(\"ratio of NZ/base:\",2796474168/1398369272, 4194579064/1398369272 )\n",
    "\n",
    "scale = 1024**2/1e9 # MiB -> GB\n",
    "plt.plot((nlam1[:,2]-nlam1[0,2]), nlam1[:,1]*scale, 'k-')\n",
    "plt.plot((nlam2[:,2]-nlam2[0,2]), nlam2[:,1]*scale, 'b-')\n",
    "plt.plot((nlam3[:,2]-nlam3[0,2]), nlam3[:,1]*scale, 'r-')\n",
    "\n",
    "plt.grid(True)\n",
    "plt.ylabel('GB')\n",
    "plt.xlabel('Seconds')\n",
    "plt.show"
   ]
  },
  {
   "cell_type": "code",
   "execution_count": 50,
   "metadata": {},
   "outputs": [
    {
     "name": "stdout",
     "output_type": "stream",
     "text": [
      "4.141036860491938 4.475324104505552\n",
      "5.592419584\n",
      "33.557690208\n",
      "56.21289779200001\n"
     ]
    }
   ],
   "source": [
    "print(y[1]/y[0], x[1]/x[0])\n",
    "\n",
    "ldz=2644\n",
    "npp486=132196\n",
    "\n",
    "print(ldz*npp486*16/1e9)\n",
    "\n",
    "print(non_zeros(ldz, npp486,2, 1)*(12)/1e9)\n",
    "print(y[0]*scale)"
   ]
  },
  {
   "cell_type": "markdown",
   "metadata": {},
   "source": [
    "# C vs F storage order\n",
    "\n",
    "## F order (column)\n",
    "\n",
    "```optimize:  1550587832.4220412\n",
    "Optimize a model with 34256 rows, 1264 columns and 40106720 nonzeros\n",
    "Coefficient statistics:\n",
    "  Matrix range     [8e-10, 1e+00]\n",
    "  Objective range  [8e-04, 8e-04]\n",
    "  Bounds range     [1e+00, 1e+00]\n",
    "  RHS range        [1e+00, 1e+00]\n",
    "Presolve removed 0 rows and 18392 columns (presolve time = 6s) ...\n",
    "Presolve removed 0 rows and 18392 columns (presolve time = 10s) ...\n",
    "Presolve removed 0 rows and 18392 columns\n",
    "Presolve time: 11.64s\n",
    "Presolved: 1264 rows, 17128 columns, 20053360 nonzeros```\n",
    "\n",
    "## C order (row)\n",
    "\n",
    "```optimize:  1550587952.342091\n",
    "Optimize a model with 34256 rows, 1264 columns and 40106720 nonzeros\n",
    "Coefficient statistics:\n",
    "  Matrix range     [8e-10, 1e+00]\n",
    "  Objective range  [8e-04, 8e-04]\n",
    "  Bounds range     [1e+00, 1e+00]\n",
    "  RHS range        [1e+00, 1e+00]\n",
    "Presolve removed 0 rows and 18392 columns (presolve time = 6s) ...\n",
    "Presolve removed 0 rows and 18392 columns (presolve time = 10s) ...\n",
    "Presolve removed 0 rows and 18392 columns\n",
    "Presolve time: 11.68s\n",
    "Presolved: 1264 rows, 17128 columns, 20053360 nonzeros```"
   ]
  },
  {
   "cell_type": "code",
   "execution_count": 115,
   "metadata": {},
   "outputs": [],
   "source": [
    "f = np.genfromtxt('/Users/jnoss/dev/makidon-labs/SCDA2/mprofile_20190219094955.dat', delimiter=' ', skip_header=1)\n",
    "c = np.genfromtxt('/Users/jnoss/dev/makidon-labs/SCDA2/mprofile_20190219095153.dat', delimiter=' ', skip_header=1)\n",
    "\n",
    "\n"
   ]
  },
  {
   "cell_type": "code",
   "execution_count": 51,
   "metadata": {},
   "outputs": [
    {
     "data": {
      "text/plain": [
       "12.583737192"
      ]
     },
     "execution_count": 51,
     "metadata": {},
     "output_type": "execute_result"
    }
   ],
   "source": [
    "4194579064*3/1e9"
   ]
  },
  {
   "cell_type": "code",
   "execution_count": 52,
   "metadata": {},
   "outputs": [
    {
     "data": {
      "text/plain": [
       "46.075987125"
      ]
     },
     "execution_count": 52,
     "metadata": {},
     "output_type": "execute_result"
    }
   ],
   "source": [
    "195465*235725/1e9"
   ]
  },
  {
   "cell_type": "code",
   "execution_count": 53,
   "metadata": {},
   "outputs": [
    {
     "data": {
      "text/plain": [
       "236196"
      ]
     },
     "execution_count": 53,
     "metadata": {},
     "output_type": "execute_result"
    }
   ],
   "source": [
    "486**2"
   ]
  },
  {
   "cell_type": "code",
   "execution_count": null,
   "metadata": {},
   "outputs": [],
   "source": [
    "132196*"
   ]
  }
 ],
 "metadata": {
  "kernelspec": {
   "display_name": "Python 3",
   "language": "python",
   "name": "python3"
  },
  "language_info": {
   "codemirror_mode": {
    "name": "ipython",
    "version": 3
   },
   "file_extension": ".py",
   "mimetype": "text/x-python",
   "name": "python",
   "nbconvert_exporter": "python",
   "pygments_lexer": "ipython3",
   "version": "3.7.1"
  }
 },
 "nbformat": 4,
 "nbformat_minor": 2
}
