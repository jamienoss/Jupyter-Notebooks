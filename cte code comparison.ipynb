{
 "cells": [
  {
   "cell_type": "code",
   "execution_count": 1,
   "metadata": {
    "collapsed": false
   },
   "outputs": [],
   "source": [
    "\n",
    "from astropy.io import fits\n",
    "import matplotlib\n",
    "import matplotlib.pyplot as plt\n",
    "#%matplotlib inline\n",
    "%matplotlib qt5\n",
    "import numpy as np\n"
   ]
  },
  {
   "cell_type": "code",
   "execution_count": null,
   "metadata": {
    "collapsed": false
   },
   "outputs": [],
   "source": [
    "#raw = fits.open('/Users/jnoss/dev/test/cte/wf3/truth/ic0q01ynq_raw.fits')[1].data\n",
    "raw = fits.open('/Users/jnoss/dev/test/cte/wf3/fullframe/truth/iacr51ojq_raw.fits')[1].data\n",
    "\n",
    "#truthfile = fits.open('/Users/jnoss/dev/test/cte/wf3/truth/ic0q01ynq_rac_tmp.fits')\n",
    "truthfile = fits.open('/Users/jnoss/dev/test/cte/wf3/critical-bug-tests/fullframe/iacr51ojq_rac_tmp.fits-removed-everything')\n",
    "\n",
    "#truthfile.info()\n",
    "truth = truthfile[1].data\n",
    "\n",
    "#dev = fits.open('/Users/jnoss/dev/test/cte/wf3/ic0q01ynq_rac_tmp.fits')[1].data\n",
    "dev = fits.open('/Users/jnoss/dev/test/cte/wf3/fullframe/iacr51ojq_rac_tmp.fits-removed')[1].data\n",
    "\n",
    "truthCorr = truth - raw\n",
    "devCorr = dev - raw\n",
    "\n",
    "delta = truthCorr - devCorr\n",
    "\n",
    "minscale = np.min(delta)\n",
    "maxscale = np.max(delta)\n",
    "ave = np.average(delta)\n",
    "print(minscale, maxscale, ave)\n",
    "\n",
    "\n",
    "plt.imshow(delta, cmap='gray', vmin = -1, vmax = 1)\n",
    "plt.colorbar()"
   ]
  },
  {
   "cell_type": "code",
   "execution_count": 74,
   "metadata": {
    "collapsed": false
   },
   "outputs": [
    {
     "name": "stdout",
     "output_type": "stream",
     "text": [
      "-1.88745 1.94092 0.000562988\n"
     ]
    },
    {
     "data": {
      "text/plain": [
       "<matplotlib.colorbar.Colorbar at 0x194a85208>"
      ]
     },
     "execution_count": 74,
     "metadata": {},
     "output_type": "execute_result"
    }
   ],
   "source": [
    "#FULLFRAME\n",
    "\n",
    "ext = 1\n",
    "\n",
    "raw = fits.open('/Users/jnoss/dev/test/cte/wf3/fullframe/iacr51ojq_raw.fits')[ext].data\n",
    "\n",
    "truthfile = fits.open('/Users/jnoss/dev/test/cte/wf3/fullframe/pre-cte-master.fits')\n",
    "truth = truthfile[ext].data\n",
    "\n",
    "dev = fits.open('/Users/jnoss/dev/test/cte/wf3/fullframe/iacr51ojq_rac_tmp.fits')[ext].data\n",
    "\n",
    "\n",
    "truthCorr = truth - raw\n",
    "devCorr = dev - raw\n",
    "\n",
    "a=19-19\n",
    "b = 2070-19\n",
    "c =25#+2048+30+30\n",
    "d = c + 2048\n",
    "delta = truthCorr[a:b, c:d] - devCorr[a:b, c:d]\n",
    "#delta = truthCorr - devCorr\n",
    "#delta = raw - dev\n",
    "\n",
    "minscale = np.min(delta)\n",
    "maxscale = np.max(delta)\n",
    "ave = np.average(delta)\n",
    "print(minscale, maxscale, ave)\n",
    "\n",
    "\n",
    "plt.imshow(delta, cmap='gray', vmin = -1, vmax = 1)\n",
    "#plt.imshow(delta, cmap='gray', vmin = ave - 50, vmax = ave+50)\n",
    "\n",
    "plt.colorbar()"
   ]
  },
  {
   "cell_type": "code",
   "execution_count": null,
   "metadata": {
    "collapsed": false
   },
   "outputs": [],
   "source": [
    "#SUBARRAY\n",
    "\n",
    "ext = 1\n",
    "\n",
    "raw = fits.open('/Users/jnoss/dev/test/cte/wf3//truth/ic0q01ynq_raw.fits')[ext].data\n",
    "truth = fits.open('/Users/jnoss/dev/test/cte/wf3/pre-cte-master.fits')[ext].data\n",
    "dev = fits.open('/Users/jnoss/dev/test/cte/wf3/ic0q01ynq_rac_tmp.fits')[ext].data\n",
    "\n",
    "truthCorr = truth - raw\n",
    "devCorr = dev - raw\n",
    "\n",
    "a = 0\n",
    "b = 2070-19\n",
    "c = 25\n",
    "d = 2048+25\n",
    "delta = truthCorr[a:b, c:d] - devCorr[a:b, c:d]\n",
    "#delta = truthCorr - devCorr\n",
    "\n",
    "minscale = np.min(delta)\n",
    "maxscale = np.max(delta)\n",
    "ave = np.average(delta)\n",
    "print(minscale, maxscale, ave)\n",
    "\n",
    "\n",
    "plt.imshow(delta, cmap='gray', vmin = -1, vmax = 1)\n",
    "plt.colorbar()\n"
   ]
  },
  {
   "cell_type": "code",
   "execution_count": 63,
   "metadata": {
    "collapsed": false
   },
   "outputs": [
    {
     "name": "stdout",
     "output_type": "stream",
     "text": [
      "611048 3.509180581685698 243.6930959503957\n"
     ]
    }
   ],
   "source": [
    "nOverPixs = 25*4*2051 + 30*4*2051 + 19* 8412\n",
    "frac = nOverPixs/8412/2070\n",
    "print(nOverPixs, frac*100, frac*10*1e6/60/24)"
   ]
  },
  {
   "cell_type": "code",
   "execution_count": null,
   "metadata": {
    "collapsed": false
   },
   "outputs": [],
   "source": [
    "ext = 4\n",
    "\n",
    "raw = fits.open('/Users/jnoss/dev/test/cte/wf3/ic0q01ynq_raw.fits')[ext].data\n",
    "dev = fits.open('/Users/jnoss/dev/test/cte/wf3/ic0q01ynq_rac_tmp.fits')[ext].data\n",
    "\n",
    "delta = dev - raw\n",
    "\n",
    "minscale = np.min(delta)\n",
    "maxscale = np.max(delta)\n",
    "ave = np.average(delta)\n",
    "print(minscale, maxscale, ave)\n",
    "\n",
    "\n",
    "plt.imshow(delta, cmap='gray', vmin = -1, vmax = 1)\n",
    "plt.colorbar()"
   ]
  },
  {
   "cell_type": "code",
   "execution_count": null,
   "metadata": {
    "collapsed": false
   },
   "outputs": [],
   "source": [
    "ext = 1\n",
    "\n",
    "raw = fits.open('/Users/jnoss/dev/test/cte/wf3/fullframe/truth/iacr51ojq_raw.fits')[ext].data\n",
    "truth = fits.open('/Users/jnoss/dev/test/cte/wf3/fullframe/pre-cte-master.fits')[ext].data\n",
    "dev = fits.open('/Users/jnoss/dev/test/cte/wf3/fullframe/iacr51ojq_rac_tmp.fits')[ext].data\n",
    "\n",
    "delta = dev - raw;\n",
    "\n",
    "c = 0#2103\n",
    "b = 20\n",
    "print(delta[0:b,c])\n",
    "print(dev[0:b,c])\n",
    "print(raw[2070-b:2070,c])"
   ]
  },
  {
   "cell_type": "code",
   "execution_count": null,
   "metadata": {
    "collapsed": false
   },
   "outputs": [],
   "source": [
    "raw = fits.open('dev/test/cte/wf3/truth/ic0q01ynq_raw.fits')[1].data\n",
    "truth = fits.open('dev/test/cte/wf3/truth/ic0q01ynq_rac_tmp.fits')[1].data\n",
    "dev = fits.open('dev/test/cte/wf3/ic0q01ynq_rac_tmp.fits')[1].data\n",
    "\n",
    "rawSum = np.sum(raw)\n",
    "masterSum = np.sum(truth)\n",
    "devSum = np.sum(dev)\n",
    "\n",
    "print(masterSum- rawSum, (devSum- rawSum), masterSum- rawSum - (devSum- rawSum) )"
   ]
  },
  {
   "cell_type": "code",
   "execution_count": null,
   "metadata": {
    "collapsed": false
   },
   "outputs": [],
   "source": [
    "np.max(devCorr)"
   ]
  },
  {
   "cell_type": "code",
   "execution_count": null,
   "metadata": {
    "collapsed": false
   },
   "outputs": [],
   "source": [
    "dqfile = fits.open('dev/test/cte/wf3/iaao01k8q_rac_tmp.fits')\n",
    "dqfile.info()\n",
    "\n",
    "dq = dqfile[3].data\n",
    "\n",
    "minscale = np.min(dq)\n",
    "maxscale = np.max(dq)\n",
    "print(minscale, maxscale)\n"
   ]
  },
  {
   "cell_type": "code",
   "execution_count": null,
   "metadata": {
    "collapsed": true
   },
   "outputs": [],
   "source": []
  },
  {
   "cell_type": "markdown",
   "metadata": {},
   "source": []
  },
  {
   "cell_type": "code",
   "execution_count": null,
   "metadata": {
    "collapsed": false
   },
   "outputs": [],
   "source": [
    "minscale = np.min(truth)\n",
    "maxscale = np.max(truth)\n",
    "print(minscale, maxscale)\n",
    "plt.imshow(truth[1000:1500, 1000:2000], cmap='gray', vmin = minscale, vmax = minscale+ 200)\n"
   ]
  },
  {
   "cell_type": "code",
   "execution_count": null,
   "metadata": {
    "collapsed": false
   },
   "outputs": [],
   "source": [
    "minscale = np.min(dev)\n",
    "maxscale = np.max(dev)\n",
    "ave = np.average(dev)\n",
    "print(minscale, maxscale, ave)\n",
    "plt.imshow(dev, cmap='gray', vmin = ave-10, vmax = ave + 10)"
   ]
  },
  {
   "cell_type": "code",
   "execution_count": null,
   "metadata": {
    "collapsed": false
   },
   "outputs": [],
   "source": [
    "plt.imshow(devCorr, cmap='gray', vmin = -1, vmax = 1)"
   ]
  },
  {
   "cell_type": "code",
   "execution_count": null,
   "metadata": {
    "collapsed": false
   },
   "outputs": [],
   "source": [
    "dev1 = fits.open('dev/test/cte/wf3/b4-iaao01k8q_rac_tmp.fits')[1].data\n",
    "dev = fits.open('dev/test/cte/wf3/dev1-iaao01k8q_rac_tmp.fits')[1].data\n",
    "\n",
    "delta = dev1 - dev\n",
    "\n",
    "minscale = np.min(delta)\n",
    "maxscale = np.max(delta)\n",
    "print(minscale, maxscale)\n"
   ]
  },
  {
   "cell_type": "code",
   "execution_count": null,
   "metadata": {
    "collapsed": false
   },
   "outputs": [],
   "source": [
    "raw = fits.open('dev/test/cte/wf3/truth/orig-iaao01k8q_raw.fits')[1].data\n",
    "\n",
    "truthfile = fits.open('dev/test/cte/wf3/issue47/master-iaao01k8q_rac_tmp.fits')\n",
    "truthfile.info()\n",
    "truth = truthfile[1].data\n",
    "\n",
    "dev = fits.open('dev/test/cte/wf3/issue47/iaao01k8q_rac_tmp.fits')[1].data\n",
    "\n",
    "truthCorr = truth - raw\n",
    "devCorr = dev - raw\n",
    "\n",
    "delta = truthCorr - devCorr\n",
    "\n",
    "minscale = np.min(delta)\n",
    "maxscale = np.max(delta)\n",
    "ave = np.average(delta)\n",
    "print(minscale, maxscale, ave)\n",
    "\n",
    "       \n",
    "plt.imshow(delta, cmap='gray', vmin = -1, vmax = 1)\n",
    "plt.colorbar()"
   ]
  },
  {
   "cell_type": "code",
   "execution_count": null,
   "metadata": {
    "collapsed": false
   },
   "outputs": [],
   "source": [
    "raw = fits.open('dev/test/cte/wf3/truth/orig-iaao01k8q_raw.fits')[1].data\n",
    "\n",
    "dev = fits.open('dev/test/cte/wf3/issue47/iaao01k8q_rac_tmp.fits')[1].data\n",
    "\n",
    "delta = dev - raw\n",
    "\n",
    "minscale = np.min(delta)\n",
    "maxscale = np.max(delta)\n",
    "ave = np.average(delta)\n",
    "print(minscale, maxscale, ave)\n",
    "\n",
    "       \n",
    "plt.imshow(delta, cmap='gray', vmin = -1, vmax = 1)\n",
    "plt.colorbar()"
   ]
  },
  {
   "cell_type": "code",
   "execution_count": null,
   "metadata": {
    "collapsed": false
   },
   "outputs": [],
   "source": [
    "#raw = fits.open('dev/test/cte/wf3/truth/orig-iaao01k8q_raw.fits')[1].data\n",
    "\n",
    "raw = fits.open('dev/test/cte/wf3/truth/orig-iaao01k8q_raw.fits')[1].data\n",
    "\n",
    "minscale = np.min(raw)\n",
    "maxscale = np.max(raw)\n",
    "ave = np.average(raw)\n",
    "print(minscale, maxscale, raw)\n",
    "depth = 50\n",
    "plt.imshow(np.log(raw), cmap='gray')#, vmin = ave-depth, vmax = ave+depth)\n",
    "plt.colorbar()"
   ]
  },
  {
   "cell_type": "code",
   "execution_count": null,
   "metadata": {
    "collapsed": false
   },
   "outputs": [],
   "source": [
    "raw = fits.open('/Users/jnoss/dev/data/bethan/ic0q01ynq_raw.fits')[0].header\n",
    "#raw['pctecorr']\n",
    "raw"
   ]
  },
  {
   "cell_type": "code",
   "execution_count": null,
   "metadata": {
    "collapsed": false
   },
   "outputs": [],
   "source": [
    "master = fits.open('dev/data/bethan/test/master-ic0q01ynq_rac_tmp.fits')[1].data\n",
    "dev = fits.open('dev/data/bethan/test/ic0q01ynq_rac_tmp.fits')[1].data\n",
    "\n",
    "delta = master - dev\n",
    "\n",
    "minscale = np.min(delta)\n",
    "maxscale = np.max(delta)\n",
    "ave = np.average(delta)\n",
    "print(minscale, maxscale, ave)\n",
    "\n",
    "       \n",
    "plt.imshow(delta, cmap='gray', vmin = -1, vmax = 1)\n",
    "plt.colorbar()"
   ]
  },
  {
   "cell_type": "code",
   "execution_count": null,
   "metadata": {
    "collapsed": true
   },
   "outputs": [],
   "source": []
  }
 ],
 "metadata": {
  "anaconda-cloud": {},
  "kernelspec": {
   "display_name": "Python [conda env:astroconda]",
   "language": "python",
   "name": "conda-env-astroconda-py"
  },
  "language_info": {
   "codemirror_mode": {
    "name": "ipython",
    "version": 3
   },
   "file_extension": ".py",
   "mimetype": "text/x-python",
   "name": "python",
   "nbconvert_exporter": "python",
   "pygments_lexer": "ipython3",
   "version": "3.5.3"
  }
 },
 "nbformat": 4,
 "nbformat_minor": 1
}
