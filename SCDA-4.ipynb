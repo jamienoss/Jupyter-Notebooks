{
 "cells": [
  {
   "cell_type": "code",
   "execution_count": 3,
   "metadata": {},
   "outputs": [],
   "source": [
    "import numpy as np\n",
    "import matplotlib.pyplot as plt\n",
    "#mport matplotlib\n",
    "%matplotlib qt5\n",
    "import os\n",
    "from astropy.io import fits"
   ]
  },
  {
   "cell_type": "code",
   "execution_count": null,
   "metadata": {},
   "outputs": [],
   "source": []
  },
  {
   "cell_type": "code",
   "execution_count": null,
   "metadata": {},
   "outputs": [],
   "source": [
    "def boost(old, new):\n",
    "    return (old - new)/old*100"
   ]
  },
  {
   "cell_type": "code",
   "execution_count": null,
   "metadata": {},
   "outputs": [],
   "source": [
    "orig = np.genfromtxt('/Users/jamie/dev/makidon-labs/SCDA-4/orig/48-test/mprofile_20190114170632.dat', delimiter=' ', skip_header=100,skip_footer=5)\n",
    "perf = np.genfromtxt('/Users/jamie/dev/makidon-labs/SCDA-4/perf/48-test/mprofile_20190114163948.dat', delimiter=' ', skip_header=100,skip_footer=5)\n",
    "\n",
    "orig_rt = (orig[-1,2]-orig[0,2])\n",
    "perf_rt = (perf[-1,2]-perf[0,2])\n",
    "\n",
    "post_ft = 1547501990.5670567 -  perf[0,2]\n",
    "optimize = 1547502004.3054442 - perf[0,2]\n",
    "\n",
    "orig_mem = max(orig[:,1])/1024\n",
    "perf_mem = max(perf[:,1])/1024\n",
    "\n",
    "plt.plot((orig[:,2]-orig[0,2]), orig[:,1]/1024, 'k-.',\n",
    "         label='before: rt={0:.2f}s, max={1:.2f}GB'.format(orig_rt, orig_mem))\n",
    "plt.plot((perf[:,2]-perf[0,2]), perf[:,1]/1024, 'r-',\n",
    "         label='after: rt={0:.2f}s, max={1:.2f}GB'.format(perf_rt, perf_mem))\n",
    "\n",
    "plt.axvline(x=optimize, label='Solver (after only)')\n",
    "#plt.axvline(x=post_ft)\n",
    "\n",
    "plt.grid(True)\n",
    "plt.ylabel('GB')\n",
    "plt.xlabel('Seconds')\n",
    "plt.title('nPup = 48: {0:.2f}x faster, {1:.2f}% less memory'.format(orig_rt/perf_rt, (1-perf_mem/orig_mem)*100))\n",
    "plt.legend(loc='lower right')\n",
    "plt.show"
   ]
  },
  {
   "cell_type": "code",
   "execution_count": null,
   "metadata": {},
   "outputs": [],
   "source": [
    "orig = np.genfromtxt('/Users/jamie/dev/makidon-labs/SCDA-4/orig/144-test/mprofile_20190114170914.dat', delimiter=' ', skip_header=100,skip_footer=5)\n",
    "perf = np.genfromtxt('/Users/jamie/dev/makidon-labs/SCDA-4/perf/144-test/mprofile_20190114164427.dat', delimiter=' ', skip_header=100,skip_footer=5)\n",
    "\n",
    "\n",
    "optimize = (1547502454.6818483 - perf[0,2])/60\n",
    "\n",
    "orig_rt = (orig[-1,2]-orig[0,2])/60\n",
    "perf_rt = (perf[-1,2]-perf[0,2])/60\n",
    "\n",
    "orig_mem = max(orig[:,1])/1024\n",
    "perf_mem = max(perf[:,1])/1024\n",
    "\n",
    "plt.plot((orig[:,2]-orig[0,2])/60, orig[:,1]/1024, 'k-.',\n",
    "         label='before: rt={0:.2f}Min, max={1:.2f}GB'.format(orig_rt, orig_mem))\n",
    "plt.plot((perf[:,2]-perf[0,2])/60, perf[:,1]/1024, 'r-',\n",
    "         label='after: rt={0:.2f}Min, max={1:.2f}GB'.format(perf_rt, perf_mem))\n",
    "\n",
    "plt.axvline(x=optimize, label='Solver (after only)')\n",
    "\n",
    "\n",
    "plt.grid(True)\n",
    "plt.ylabel('GB')\n",
    "plt.xlabel('Minutes')\n",
    "plt.title('nPup = 144: {0:.2f}x faster, {1:.2f}% less memory'.format(orig_rt/perf_rt, (1-perf_mem/orig_mem)*100))\n",
    "plt.legend()\n",
    "plt.show"
   ]
  },
  {
   "cell_type": "code",
   "execution_count": null,
   "metadata": {},
   "outputs": [],
   "source": [
    "orig = np.genfromtxt('/Users/jnoss/dev/makidon-labs/SCDA-4/orig/486-test/mprofile_20190114174104.dat', delimiter=' ', skip_header=100,skip_footer=5)\n",
    "perf = np.genfromtxt('/Users/jnoss/dev/makidon-labs/SCDA-4/perf/486-test/mprofile_20190114215323.dat', delimiter=' ', skip_header=100,skip_footer=5)\n",
    "\n",
    "#orig = np.genfromtxt('/Users/jamie/dev/makidon-labs/SCDA-4/orig/486-test/mprofile_20190114174104.dat', delimiter=' ', skip_header=100,skip_footer=5)\n",
    "#perf = np.genfromtxt('/Users/jamie/dev/makidon-labs/SCDA-4/perf/486-test/mprofile_20190114195506.dat', delimiter=' ', skip_header=100,skip_footer=5)\n",
    "#perf = np.genfromtxt('/Users/jamie/dev/makidon-labs/jnoss/486-test/SCDA2/mprofile_20190111152244.dat', delimiter=' ', skip_header=100,skip_footer=5)\n",
    "\n",
    "optimize = (1547525330.6178353 - perf[0,2])/60\n",
    "\n",
    "orig_rt = 2*24*60#(orig[-1,2]-orig[1,2])/60\n",
    "perf_rt = (perf[-1,2]-perf[0,2])/60\n",
    "\n",
    "orig_mem = max(orig[:,1])/1024\n",
    "perf_mem = max(perf[:,1])/1024\n",
    "\n",
    "plt.plot((orig[:,2]-orig[0,2])/60, orig[:,1]/1024, 'k-.',\n",
    "         label='before: rt=48hr (estimate), max={0:.2f}GB'.format(orig_mem))\n",
    "plt.plot((perf[:,2]-perf[0,2])/60, perf[:,1]/1024, 'r-',\n",
    "         label='after: rt={0:.2f}Min, max={1:.2f}GB'.format(perf_rt, perf_mem))\n",
    "\n",
    "plt.axvline(x=optimize, label='Solver (after only) ~34GB pre optimize()')\n",
    "\n",
    "plt.grid(True)\n",
    "plt.ylabel('GB')\n",
    "plt.xlabel('Minutes')\n",
    "plt.title('nPup = 486: {0:.2f}x faster, {1:.2f}% less memory'.format(orig_rt/perf_rt, (1-perf_mem/orig_mem)*100))\n",
    "plt.legend()\n",
    "plt.show"
   ]
  },
  {
   "cell_type": "code",
   "execution_count": null,
   "metadata": {},
   "outputs": [],
   "source": [
    "apod48 = fits.getdata('/Users/jamie/dev/makidon-labs/SCDA-4/perf/48-test/apodizers/HiCAT/Test_S_jnoss_HiCAT_MaxTau_nPup=0048_nFPM=050_APLC_rMask=4.271_IWA=5.0_OWA=10.0_BW=0.10_nlam=03_C=8.0_LS-Ann-bw-ID345-OD0807_gurobipy.fits')\n",
    "apod144 = fits.getdata('/Users/jamie/dev/makidon-labs/SCDA-4/perf/144-test/apodizers/HiCAT/Test_S_jnoss_HiCAT_MaxTau_nPup=0144_nFPM=050_APLC_rMask=4.271_IWA=5.0_OWA=10.0_BW=0.10_nlam=03_C=8.0_LS-Ann-bw-ID345-OD0807_gurobipy.fits')\n",
    "apod486 = fits.getdata('/Users/jamie/dev/makidon-labs/jnoss/486-test/apodizers/HiCAT/Test_S_jnoss_HiCAT_MaxTau_nPup=0486_nFPM=050_APLC_rMask=4.271_IWA=5.0_OWA=10.0_BW=0.10_nlam=03_C=8.0_LS-Ann-bw-ID345-OD0807_gurobipy.fits')\n",
    "\n",
    "plt.subplot(1,3,1)\n",
    "plt.imshow(apod48, cmap='gray')\n",
    "plt.title('nPup = 48')\n",
    "\n",
    "plt.subplot(1,3,2)\n",
    "plt.imshow(apod144, cmap='gray')\n",
    "plt.title('nPup = 144')\n",
    "\n",
    "plt.subplot(1,3,3)\n",
    "plt.imshow(apod486, cmap='gray')\n",
    "plt.title('nPup = 486')"
   ]
  },
  {
   "cell_type": "code",
   "execution_count": null,
   "metadata": {},
   "outputs": [],
   "source": [
    "apod144 = fits.getdata('/Users/jnoss/dev/makidon-labs/SCDA-4/perf/144-test/apodizers/HiCAT/Test_S_jnoss_HiCAT_MaxTau_nPup=0144_nFPM=050_APLC_rMask=4.271_IWA=5.0_OWA=10.0_BW=0.10_nlam=03_C=8.0_LS-Ann-bw-ID345-OD0807_gurobipy.fits')\n",
    "apod144_robust = fits.getdata('/Users/jnoss/dev/makidon-labs/SCDA-4/perf/144-test-robust/apodizers/HiCAT/Test_S_jnoss_HiCAT_MaxTau_nPup=0144_nFPM=050_APLC_rMask=4.271_IWA=5.0_OWA=10.0_BW=0.10_nlam=03_C=8.0_LS-Ann-bw-ID345-OD0807_LSRobustness=1_PixMax=01gurobipy.fits')\n",
    "\n",
    "plt.subplot(1,2,1)\n",
    "plt.imshow(apod144, cmap='gray')\n",
    "plt.title('nPup = 144')\n",
    "\n",
    "plt.subplot(1,2,2)\n",
    "plt.imshow(apod144_robust, cmap='gray')\n",
    "plt.title('nPup = 144 robust')\n"
   ]
  },
  {
   "cell_type": "code",
   "execution_count": null,
   "metadata": {},
   "outputs": [],
   "source": [
    "orig = np.genfromtxt('/Users/jnoss/dev/makidon-labs/SCDA-4/perf/144-test/mprofile_20190114164427.dat', delimiter=' ', skip_header=100,skip_footer=5)\n",
    "perf = np.genfromtxt('/Users/jnoss/dev/makidon-labs/SCDA-4/perf/144-test-robust/mprofile_20190111152324.dat', delimiter=' ', skip_header=100,skip_footer=5)\n",
    "\n",
    "\n",
    "optimize = (1547502454.6818483 - orig[0,2])/60\n",
    "\n",
    "orig_rt = (orig[-1,2]-orig[0,2])/60\n",
    "perf_rt = (perf[-1,2]-perf[0,2])/60\n",
    "\n",
    "orig_mem = max(orig[:,1])/1024\n",
    "perf_mem = max(perf[:,1])/1024\n",
    "\n",
    "plt.plot((orig[:,2]-orig[0,2])/60, orig[:,1]/1024, 'k-.',\n",
    "         label='before: rt={0:.2f}Min, max={1:.2f}GB'.format(orig_rt, orig_mem))\n",
    "plt.plot((perf[:,2]-perf[0,2])/60, perf[:,1]/1024, 'r-',\n",
    "         label='after: rt={0:.2f}Min, max={1:.2f}GB'.format(perf_rt, perf_mem))\n",
    "\n",
    "plt.axvline(x=optimize, label='Solver (after only)')\n",
    "\n",
    "\n",
    "plt.grid(True)\n",
    "plt.ylabel('GB')\n",
    "plt.xlabel('Minutes')\n",
    "plt.title('nPup = 144: {0:.2f}x faster, {1:.2f}% less memory'.format(orig_rt/perf_rt, (1-perf_mem/orig_mem)*100))\n",
    "plt.legend()\n",
    "plt.show"
   ]
  },
  {
   "cell_type": "code",
   "execution_count": null,
   "metadata": {},
   "outputs": [],
   "source": [
    "orig = np.genfromtxt('/Users/jnoss/dev/makidon-labs/SCDA-4/perf/48-test/mprofile_20190114163948.dat', delimiter=' ', skip_header=100,skip_footer=5)\n",
    "perf = np.genfromtxt('/Users/jnoss/dev/makidon-labs/SCDA2/mprofile_20190116145349.dat', delimiter=' ', skip_header=100,skip_footer=5)\n",
    "\n",
    "orig_rt = (orig[-1,2]-orig[0,2])\n",
    "perf_rt = (perf[-1,2]-perf[0,2])\n",
    "\n",
    "optimize = 1547502004.3054442 - orig[0,2]\n",
    "\n",
    "orig_mem = max(orig[:,1])/1024\n",
    "perf_mem = max(perf[:,1])/1024\n",
    "\n",
    "plt.plot((orig[:,2]-orig[0,2]), orig[:,1]/1024, 'k-.',\n",
    "         label='before: rt={0:.2f}s, max={1:.2f}GB'.format(orig_rt, orig_mem))\n",
    "plt.plot((perf[:,2]-perf[0,2]), perf[:,1]/1024, 'r-',\n",
    "         label='after: rt={0:.2f}s, max={1:.2f}GB'.format(perf_rt, perf_mem))\n",
    "\n",
    "plt.axvline(x=optimize, label='Solver (after only)')\n",
    "#plt.axvline(x=post_ft)\n",
    "\n",
    "plt.grid(True)\n",
    "plt.ylabel('GB')\n",
    "plt.xlabel('Seconds')\n",
    "plt.title('nPup = 48: {0:.2f}x faster, {1:.2f}% less memory'.format(orig_rt/perf_rt, (1-perf_mem/orig_mem)*100))\n",
    "plt.legend(loc='lower right')\n",
    "plt.show"
   ]
  },
  {
   "cell_type": "code",
   "execution_count": 15,
   "metadata": {},
   "outputs": [
    {
     "data": {
      "text/plain": [
       "<function matplotlib.pyplot.show>"
      ]
     },
     "execution_count": 15,
     "metadata": {},
     "output_type": "execute_result"
    }
   ],
   "source": [
    "perf = np.genfromtxt('/Users/jnoss/dev/makidon-labs/SCDA-4/perf/486-test-robust/mprofile_20190116210009.dat', delimiter=' ', skip_header=100,skip_footer=5)\n",
    "\n",
    "optimize = (1547712431.4537406 - perf[0,2])/60**2\n",
    "\n",
    "plt.plot((perf[:,2]-perf[0,2])/60**2, perf[:,1]*1.024/1e3, 'k-', label='Memory')\n",
    "\n",
    "plt.axvline(x=optimize, label='gurobipy.Model.optimize()', color='r')\n",
    "\n",
    "plt.axvline(x=5.1, label='gurobi model construction', color='b')\n",
    "\n",
    "plt.grid(True)\n",
    "plt.ylabel('GB')\n",
    "plt.xlabel('Hours')\n",
    "plt.title('nPup = 486: Robust w/ 5 Lyot stop configurations')\n",
    "plt.legend()\n",
    "plt.show"
   ]
  },
  {
   "cell_type": "code",
   "execution_count": 8,
   "metadata": {},
   "outputs": [
    {
     "data": {
      "text/plain": [
       "6.116666666666666"
      ]
     },
     "execution_count": 8,
     "metadata": {},
     "output_type": "execute_result"
    }
   ],
   "source": [
    "(3652 + 18368)/60**2"
   ]
  },
  {
   "cell_type": "code",
   "execution_count": 12,
   "metadata": {},
   "outputs": [
    {
     "data": {
      "text/plain": [
       "5.102222222222222"
      ]
     },
     "execution_count": 12,
     "metadata": {},
     "output_type": "execute_result"
    }
   ],
   "source": [
    "18368/60**2"
   ]
  },
  {
   "cell_type": "code",
   "execution_count": 25,
   "metadata": {},
   "outputs": [
    {
     "data": {
      "text/plain": [
       "<function matplotlib.pyplot.show>"
      ]
     },
     "execution_count": 25,
     "metadata": {},
     "output_type": "execute_result"
    }
   ],
   "source": [
    "perf = np.genfromtxt('/Users/jnoss/dev/makidon-labs/SCDA-4/presolve-thread-test/mprofile_20190118142850.dat', delimiter=' ')\n",
    "perf1 = np.genfromtxt('/Users/jnoss/dev/makidon-labs/SCDA-4/presolve-thread-test/mprofile_20190118143113.dat', delimiter=' ')\n",
    "perf2 = np.genfromtxt('/Users/jnoss/dev/makidon-labs/SCDA-4/presolve-thread-test/mprofile_20190118143221.dat', delimiter=' ')\n",
    "\n",
    "plt.plot((perf[:,2]-perf[0,2]), perf[:,1]*1.024/1e3, 'b-', label='No presolve, 6 threads')\n",
    "plt.plot((perf1[:,2]-perf1[0,2]), perf1[:,1]*1.024/1e3, 'k-', label='Presolve, 6 threads')\n",
    "plt.plot((perf2[:,2]-perf2[0,2]), perf2[:,1]*1.024/1e3, 'r-', label='No presolve, 1 thread')\n",
    "\n",
    "\n",
    "\n",
    "\n",
    "plt.grid(True)\n",
    "plt.ylabel('GB')\n",
    "plt.xlabel('Seconds')\n",
    "plt.title('nPup = 48: 22efc82c1956ff7e7a8a1915e6fbcce17ca199ce')\n",
    "plt.legend()\n",
    "plt.show"
   ]
  },
  {
   "cell_type": "code",
   "execution_count": 15,
   "metadata": {},
   "outputs": [
    {
     "data": {
      "text/plain": [
       "1547752909.233"
      ]
     },
     "execution_count": 15,
     "metadata": {},
     "output_type": "execute_result"
    }
   ],
   "source": [
    "start"
   ]
  },
  {
   "cell_type": "code",
   "execution_count": 10,
   "metadata": {},
   "outputs": [
    {
     "data": {
      "text/plain": [
       "-5.923105001449585"
      ]
     },
     "execution_count": 10,
     "metadata": {},
     "output_type": "execute_result"
    }
   ],
   "source": [
    "field_constr"
   ]
  },
  {
   "cell_type": "code",
   "execution_count": 16,
   "metadata": {},
   "outputs": [
    {
     "data": {
      "text/plain": [
       "<function matplotlib.pyplot.show>"
      ]
     },
     "execution_count": 16,
     "metadata": {},
     "output_type": "execute_result"
    }
   ],
   "source": [
    "orig = np.genfromtxt('/Users/jnoss/dev/makidon-labs/SCDA-4/perf/144-test/mprofile_20190114164427.dat', delimiter=' ', skip_header=100,skip_footer=5)\n",
    "perf = np.genfromtxt('/Users/jnoss/dev/makidon-labs/SCDA-4/perf/144-test/mprofile_20190117145526.dat', delimiter=' ', skip_header=100,skip_footer=5)\n",
    "\n",
    "\n",
    "optimize = (1547502454.6818483 - perf[0,2])/60\n",
    "\n",
    "orig_rt = (orig[-1,2]-orig[0,2])/60\n",
    "perf_rt = (perf[-1,2]-perf[0,2])/60\n",
    "\n",
    "orig_mem = max(orig[:,1])*1.024/1e3\n",
    "perf_mem = max(perf[:,1])*1.024/1e3\n",
    "\n",
    "plt.plot((orig[:,2]-orig[0,2])/60, orig[:,1]/1024, 'k-.',\n",
    "         label='before: rt={0:.2f}Min, max={1:.2f}GB'.format(orig_rt, orig_mem))\n",
    "plt.plot((perf[:,2]-perf[0,2])/60, perf[:,1]/1024, 'r-',\n",
    "         label='after: rt={0:.2f}Min, max={1:.2f}GB'.format(perf_rt, perf_mem))\n",
    "\n",
    "#plt.axvline(x=optimize, label='Solver (after only)')\n",
    "\n",
    "\n",
    "plt.grid(True)\n",
    "plt.ylabel('GB')\n",
    "plt.xlabel('Minutes')\n",
    "plt.title('nPup = 144: {0:.2f}x faster, {1:.2f}% less memory'.format(orig_rt/perf_rt, (1-perf_mem/orig_mem)*100))\n",
    "plt.legend()\n",
    "plt.show"
   ]
  },
  {
   "cell_type": "code",
   "execution_count": 17,
   "metadata": {},
   "outputs": [
    {
     "data": {
      "text/plain": [
       "0.0625"
      ]
     },
     "execution_count": 17,
     "metadata": {},
     "output_type": "execute_result"
    }
   ],
   "source": [
    "1/16"
   ]
  },
  {
   "cell_type": "code",
   "execution_count": 18,
   "metadata": {},
   "outputs": [
    {
     "data": {
      "text/plain": [
       "5.662211111111111"
      ]
     },
     "execution_count": 18,
     "metadata": {},
     "output_type": "execute_result"
    }
   ],
   "source": [
    "20383.96/60**2"
   ]
  },
  {
   "cell_type": "code",
   "execution_count": 19,
   "metadata": {},
   "outputs": [],
   "source": []
  },
  {
   "cell_type": "code",
   "execution_count": null,
   "metadata": {},
   "outputs": [],
   "source": [
    "endian = '<'\n",
    "if respType in (int):\n",
    "    read_type = 'I'\n",
    "    valView = val[:,4]\n",
    "elif respType in (float):\n",
    "    read_type = 'd'\n",
    "    valView = val\n",
    "else:\n",
    "    raise NotImplementedError\n",
    "    \n",
    "value = struct.unpack(endian+read_type, valView)"
   ]
  },
  {
   "cell_type": "code",
   "execution_count": 45,
   "metadata": {},
   "outputs": [
    {
     "name": "stdout",
     "output_type": "stream",
     "text": [
      "3.1700528502464294 3.3641821185747784 -0.1941292683283491\n"
     ]
    },
    {
     "data": {
      "text/plain": [
       "<function matplotlib.pyplot.show>"
      ]
     },
     "execution_count": 45,
     "metadata": {},
     "output_type": "execute_result"
    }
   ],
   "source": [
    "sft = np.genfromtxt('/Users/jnoss/dev/makidon-labs/SCDA2/mprofile_20190122155015.dat', delimiter=' ', skip_header=1)\n",
    "sft2 = np.genfromtxt('/Users/jnoss/dev/makidon-labs/SCDA2/mprofile_20190122161632.dat', delimiter=' ', skip_header=1)\n",
    "\n",
    "dft = np.genfromtxt('/Users/jnoss/dev/makidon-labs/SCDA2/mprofile_20190122155158.dat', delimiter=' ', skip_header=1)\n",
    "dft2 = np.genfromtxt('/Users/jnoss/dev/makidon-labs/SCDA2/mprofile_20190122160952.dat', delimiter=' ', skip_header=1)\n",
    "\n",
    "dft_numexpr = np.genfromtxt('/Users/jnoss/dev/makidon-labs/SCDA2/mprofile_20190122155753.dat', delimiter=' ', skip_header=1)\n",
    "dft_numexpr2 = np.genfromtxt('/Users/jnoss/dev/makidon-labs/SCDA2/mprofile_20190122160601.dat', delimiter=' ', skip_header=1)\n",
    "\n",
    "\n",
    "\n",
    "sft_optimize = (1548181620.612771 - orig[0,2])/60\n",
    "dft_optimize = (1548183086.787127 - perf[0,2])/60\n",
    "\n",
    "print(sft_optimize, dft_optimize, sft_optimize-dft_optimize)\n",
    "\n",
    "\n",
    "\n",
    "plt.plot((sft[:,2]-sft[0,2]), sft[:,1]*1.024e-3, 'k-',\n",
    "         label='SFT')\n",
    "plt.plot((sft2[:,2]-sft2[0,2]), sft2[:,1]*1.024e-3, 'k-',\n",
    "         label='SFT')\n",
    "\n",
    "plt.plot((dft[:,2]-dft[0,2]), dft[:,1]*1.024e-3, 'b-',\n",
    "         label='poppy.matrixDFT.matrix_dft')\n",
    "plt.plot((dft2[:,2]-dft2[0,2]), dft2[:,1]*1.024e-3, 'b-',\n",
    "         label='poppy.matrixDFT.matrix_dft')\n",
    "\n",
    "plt.plot((dft_numexpr[:,2]-dft_numexpr[0,2]), dft_numexpr[:,1]*1.024e-3, 'r-',\n",
    "         label='poppy.matrixDFT.matrix_dft w/ numexpr')\n",
    "plt.plot((dft_numexpr2[:,2]-dft_numexpr2[0,2]), dft_numexpr2[:,1]*1.024e-3, 'r-',\n",
    "         label='poppy.matrixDFT.matrix_dft w/ numexpr')\n",
    "#plt.axvline(x=optimize, label='Solver (after only)')\n",
    "\n",
    "\n",
    "plt.grid(True)\n",
    "plt.ylabel('GB')\n",
    "plt.xlabel('Seconds')\n",
    "plt.title('nPup = 48')\n",
    "plt.legend(loc = 'upper left')\n",
    "plt.show"
   ]
  },
  {
   "cell_type": "code",
   "execution_count": 70,
   "metadata": {},
   "outputs": [
    {
     "name": "stdout",
     "output_type": "stream",
     "text": [
      "372.835186958313 441.88072896003723\n"
     ]
    },
    {
     "data": {
      "text/plain": [
       "<function matplotlib.pyplot.show>"
      ]
     },
     "execution_count": 70,
     "metadata": {},
     "output_type": "execute_result"
    }
   ],
   "source": [
    "sft = np.genfromtxt('/Users/jnoss/dev/makidon-labs/SCDA2/mprofile_20190122201032-144-sft.dat', delimiter=' ', skip_header=1)\n",
    "\n",
    "dft = np.genfromtxt('/Users/jnoss/dev/makidon-labs/SCDA2/mprofile_20190122210448-144-dft.dat', delimiter=' ', skip_header=1)\n",
    "\n",
    "dft_numexpr = np.genfromtxt('/Users/jnoss/dev/makidon-labs/SCDA2/mprofile_20190122220348-144-dft-w-numexpr.dat', delimiter=' ', skip_header=1)\n",
    "\n",
    "\n",
    "\n",
    "sft_optimize = 1548206218.997845\n",
    "dft_optimize = 1548209461.2785869\n",
    "dft_numexpr_optimize = 1548213070.488829\n",
    "\n",
    "\n",
    "sft_pre = len([m for m in sft[:,2] if m <= sft_optimize])\n",
    "dft_pre = len([m for m in dft[:,2] if m <= dft_optimize])\n",
    "dft_numexpr_pre = len([m for m in dft_numexpr[:,2] if m <= dft_numexpr_optimize])\n",
    "\n",
    "\n",
    "print((dft_optimize-dft[0,2]), (dft_numexpr_optimize-dft_numexpr[0,2]))\n",
    "\n",
    "\n",
    "#plt.plot((sft[:sft_pre,2]-sft[0,2])/60, sft[:sft_pre,1]*1.024e-3, 'k-', label='SFT')\n",
    "#plt.plot((dft[:dft_pre,2]-dft[0,2])/60, dft[:dft_pre,1]*1.024e-3, 'b-', label='poppy.matrixDFT.matrix_dft')\n",
    "#plt.plot((dft_numexpr[:dft_numexpr_pre,2]-dft_numexpr[0,2])/60, dft_numexpr[:dft_numexpr_pre,1]*1.024e-3, 'r-', label='poppy.matrixDFT.matrix_dft w/ numexpr')\n",
    "\n",
    "\n",
    "plt.plot((sft[:,2]-sft[0,2])/60, sft[:,1]*1.024e-3, 'k-', label='SFT')\n",
    "plt.plot((dft[:,2]-dft[0,2])/60, dft[:,1]*1.024e-3, 'b-', label='poppy.matrixDFT.matrix_dft')\n",
    "plt.plot((dft_numexpr[:,2]-dft_numexpr[0,2])/60, dft_numexpr[:,1]*1.024e-3, 'r-', label='poppy.matrixDFT.matrix_dft w/ numexpr')\n",
    "\n",
    "#plt.axvline(x=optimize, label='Solver (after only)')\n",
    "\n",
    "\n",
    "plt.grid(True)\n",
    "plt.ylabel('GB')\n",
    "plt.xlabel('Minutes')\n",
    "plt.title('nPup = 144')\n",
    "plt.legend(loc = 'upper left')\n",
    "plt.show"
   ]
  },
  {
   "cell_type": "code",
   "execution_count": null,
   "metadata": {},
   "outputs": [],
   "source": [
    "sft_pre"
   ]
  },
  {
   "cell_type": "code",
   "execution_count": 72,
   "metadata": {},
   "outputs": [
    {
     "name": "stdout",
     "output_type": "stream",
     "text": [
      "386.78234481811523 372.835186958313 441.88072896003723\n"
     ]
    }
   ],
   "source": [
    "print((sft_optimize-sft[0,2]), (dft_optimize-dft[0,2]), (dft_numexpr_optimize-dft_numexpr[0,2]))\n"
   ]
  },
  {
   "cell_type": "code",
   "execution_count": 77,
   "metadata": {},
   "outputs": [
    {
     "data": {
      "text/plain": [
       "1.201981600820042"
      ]
     },
     "execution_count": 77,
     "metadata": {},
     "output_type": "execute_result"
    }
   ],
   "source": [
    "(1-(dft_optimize-dft[0,2])/(sft_optimize-sft[0,2]))*100/3"
   ]
  },
  {
   "cell_type": "code",
   "execution_count": 79,
   "metadata": {},
   "outputs": [
    {
     "data": {
      "text/plain": [
       "4.74844012229773"
      ]
     },
     "execution_count": 79,
     "metadata": {},
     "output_type": "execute_result"
    }
   ],
   "source": [
    "((dft_numexpr_optimize-dft_numexpr[0,2])/(sft_optimize-sft[0,2])-1)*100/3"
   ]
  },
  {
   "cell_type": "code",
   "execution_count": 94,
   "metadata": {},
   "outputs": [
    {
     "data": {
      "text/plain": [
       "<function matplotlib.pyplot.show>"
      ]
     },
     "execution_count": 94,
     "metadata": {},
     "output_type": "execute_result"
    }
   ],
   "source": [
    "perf = np.genfromtxt('/Users/jnoss/dev/makidon-labs/SCDA2/mprofile_20190123133112.dat', delimiter=' ', skip_header=1)\n",
    "\n",
    "orig = np.genfromtxt('/Users/jnoss/dev/makidon-labs/SCDA2/mprofile_20190123134139.dat', delimiter=' ', skip_header=1)\n",
    "\n",
    "start = perf[0,2]\n",
    "#presolve = 1548267206.7609699 - start\n",
    "#optimize = 1548267217.390469 - start\n",
    "\n",
    "\n",
    "presolve = 1548268314.2333891- start\n",
    "optimize = 1548268324.598443 - start\n",
    "\n",
    "\n",
    "plt.plot((perf[:,2]-perf[0,2]), perf[:,1]*1.024e-3, 'r-', label='explicit presolve')\n",
    "plt.plot((orig[:,2]-orig[0,2]), orig[:,1]*1.024e-3, 'k-', label='presolve called by optimize')\n",
    "\n",
    "\n",
    "#plt.plot((dft[:dft_pre,2]-dft[0,2]), dft[:dft_pre,1]*1.024e-3, 'b-', label='poppy.matrixDFT.matrix_dft')\n",
    "#plt.plot((dft_numexpr[:dft_numexpr_pre,2]-dft_numexpr[0,2])/60, dft_numexpr[:dft_numexpr_pre,1]*1.024e-3, 'r-', label='poppy.matrixDFT.matrix_dft w/ numexpr')\n",
    "\n",
    "plt.axvline(x=presolve, c='g', label='Presolve (explicit presolve)')\n",
    "plt.axvline(x=optimize, c='b', label='Optimize (explicit presolve)')\n",
    "\n",
    "\n",
    "plt.grid(True)\n",
    "plt.ylabel('GB')\n",
    "plt.xlabel('Seconds')\n",
    "plt.title('nPup = 48')\n",
    "plt.legend(loc = 'upper left')\n",
    "plt.show"
   ]
  },
  {
   "cell_type": "code",
   "execution_count": 95,
   "metadata": {},
   "outputs": [
    {
     "data": {
      "text/plain": [
       "<function matplotlib.pyplot.show>"
      ]
     },
     "execution_count": 95,
     "metadata": {},
     "output_type": "execute_result"
    }
   ],
   "source": [
    "perf = np.genfromtxt('/Users/jnoss/dev/makidon-labs/SCDA2/mprofile_20190123150021.dat', delimiter=' ', skip_header=1)\n",
    "\n",
    "#orig = np.genfromtxt('/Users/jnoss/dev/makidon-labs/SCDA2/mprofile_20190123134139.dat', delimiter=' ', skip_header=1)\n",
    "\n",
    "start = perf[0,2]\n",
    "#presolve = 1548267206.7609699 - start\n",
    "#optimize = 1548267217.390469 - start\n",
    "\n",
    "\n",
    "presolve = 1548274035.00201 - start\n",
    "optimize = 1548274166.382781 - start\n",
    "\n",
    "\n",
    "plt.plot((perf[:,2]-perf[0,2])/60, perf[:,1]*1.024e-3, 'r-', label='explicit presolve')\n",
    "#plt.plot((orig[:,2]-orig[0,2]), orig[:,1]*1.024e-3, 'k-', label='presolve called by optimize')\n",
    "\n",
    "\n",
    "#plt.plot((dft[:dft_pre,2]-dft[0,2]), dft[:dft_pre,1]*1.024e-3, 'b-', label='poppy.matrixDFT.matrix_dft')\n",
    "#plt.plot((dft_numexpr[:dft_numexpr_pre,2]-dft_numexpr[0,2])/60, dft_numexpr[:dft_numexpr_pre,1]*1.024e-3, 'r-', label='poppy.matrixDFT.matrix_dft w/ numexpr')\n",
    "\n",
    "plt.axvline(x=presolve/60, c='g', label='Presolve (explicit presolve)')\n",
    "plt.axvline(x=optimize/60, c='b', label='Optimize (explicit presolve)')\n",
    "\n",
    "\n",
    "plt.grid(True)\n",
    "plt.ylabel('GB')\n",
    "plt.xlabel('Minutes')\n",
    "plt.title('nPup = 144')\n",
    "plt.legend(loc = 'upper left')\n",
    "plt.show"
   ]
  },
  {
   "cell_type": "code",
   "execution_count": 99,
   "metadata": {},
   "outputs": [
    {
     "data": {
      "text/plain": [
       "<function matplotlib.pyplot.show>"
      ]
     },
     "execution_count": 99,
     "metadata": {},
     "output_type": "execute_result"
    }
   ],
   "source": [
    "perf = np.genfromtxt('/Users/jnoss/dev/makidon-labs/486-test/sep-presolve/mprofile_20190123135828-486-sdz-sep-presolve.dat', delimiter=' ', skip_header=1)\n",
    "\n",
    "#orig = np.genfromtxt('/Users/jnoss/dev/makidon-labs/SCDA2/mprofile_20190123134139.dat', delimiter=' ', skip_header=1)\n",
    "\n",
    "start = perf[0,2]\n",
    "#presolve = 1548267206.7609699 - start\n",
    "#optimize = 1548267217.390469 - start\n",
    "\n",
    "\n",
    "presolve = 1548274749.049365 - start\n",
    "optimize = 1548275030.428707 - start\n",
    "\n",
    "\n",
    "plt.plot((perf[:,2]-perf[0,2])/60**2, perf[:,1]*1.024e-3, 'r-', label='explicit presolve')\n",
    "#plt.plot((orig[:,2]-orig[0,2]), orig[:,1]*1.024e-3, 'k-', label='presolve called by optimize')\n",
    "\n",
    "\n",
    "#plt.plot((dft[:dft_pre,2]-dft[0,2]), dft[:dft_pre,1]*1.024e-3, 'b-', label='poppy.matrixDFT.matrix_dft')\n",
    "#plt.plot((dft_numexpr[:dft_numexpr_pre,2]-dft_numexpr[0,2])/60, dft_numexpr[:dft_numexpr_pre,1]*1.024e-3, 'r-', label='poppy.matrixDFT.matrix_dft w/ numexpr')\n",
    "\n",
    "plt.axvline(x=presolve/60**2, c='g', label='Presolve (explicit presolve)')\n",
    "plt.axvline(x=optimize/60**2, c='b', label='Optimize (explicit presolve)')\n",
    "\n",
    "\n",
    "plt.grid(True)\n",
    "plt.ylabel('GB')\n",
    "plt.xlabel('Hours')\n",
    "plt.title('nPup = 486 Small DZ')\n",
    "plt.legend(loc = 'upper left')\n",
    "plt.show"
   ]
  },
  {
   "cell_type": "code",
   "execution_count": 104,
   "metadata": {},
   "outputs": [
    {
     "data": {
      "text/plain": [
       "<function matplotlib.pyplot.show>"
      ]
     },
     "execution_count": 104,
     "metadata": {},
     "output_type": "execute_result"
    }
   ],
   "source": [
    "optimize = np.genfromtxt('/Users/jnoss/dev/makidon-labs/SCDA2/mprofile_20190205154156.dat', delimiter=' ', skip_header=1)\n",
    "pre_turn_off_after = np.genfromtxt('/Users/jnoss/dev/makidon-labs/SCDA2/mprofile_20190205153700.dat', delimiter=' ', skip_header=1)\n",
    "presolve = np.genfromtxt('/Users/jnoss/dev/makidon-labs/SCDA2/mprofile_20190205154101.dat', delimiter=' ', skip_header=1)\n",
    "\n",
    "optimize_opt = 1549399333.0416708 - optimize[0,2]\n",
    "presolve_opt = 1549399281.3267689 - presolve[0,2]\n",
    "pre_turn_off_after_opt = 1549399041.16974 - pre_turn_off_after[0,2]\n",
    "\n",
    "plt.plot((pre_turn_off_after[:,2]-pre_turn_off_after[0,2]), pre_turn_off_after[:,1]*1.024e-3, 'b-', label='explicit presolve but set to 0 after')\n",
    "plt.plot((presolve[:,2]-presolve[0,2]), presolve[:,1]*1.024e-3, 'r-', label='explicit presolve')\n",
    "plt.plot((optimize[:,2]-optimize[0,2]), optimize[:,1]*1.024e-3, 'k-', label='presolve called by optimize')\n",
    "\n",
    "plt.axvline(x=optimize_opt, c='k')\n",
    "plt.axvline(x=presolve_opt, c='r')\n",
    "plt.axvline(x=pre_turn_off_after_opt, c='b')\n",
    "\n",
    "\n",
    "plt.grid(True)\n",
    "plt.ylabel('GB')\n",
    "plt.xlabel('Seconds')\n",
    "plt.title('nPup = 48')\n",
    "plt.legend(loc = 'upper right')\n",
    "plt.show"
   ]
  },
  {
   "cell_type": "code",
   "execution_count": null,
   "metadata": {},
   "outputs": [],
   "source": []
  }
 ],
 "metadata": {
  "kernelspec": {
   "display_name": "Python 3",
   "language": "python",
   "name": "python3"
  },
  "language_info": {
   "codemirror_mode": {
    "name": "ipython",
    "version": 3
   },
   "file_extension": ".py",
   "mimetype": "text/x-python",
   "name": "python",
   "nbconvert_exporter": "python",
   "pygments_lexer": "ipython3",
   "version": "3.6.8"
  }
 },
 "nbformat": 4,
 "nbformat_minor": 2
}
