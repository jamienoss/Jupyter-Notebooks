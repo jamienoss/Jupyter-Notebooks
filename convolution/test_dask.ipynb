{
 "cells": [
  {
   "cell_type": "markdown",
   "metadata": {},
   "source": [
    "# Profiling dask vs numpy #\n",
    "\n",
    "[Dask](http://dask.pydata.org/en/latest/index.html) is a powerful new tool for parallel processing in python. This notebooks does some benchmarking comparisons with regular numpy and suggests how astropy could be modified to take advantage of dask multithreading. (It should release the GIL more.) These tests were conducted on a server with 32 cores. "
   ]
  },
  {
   "cell_type": "code",
   "execution_count": null,
   "metadata": {
    "collapsed": true
   },
   "outputs": [],
   "source": [
    "import numpy as np\n",
    "import dask.array as da"
   ]
  },
  {
   "cell_type": "markdown",
   "metadata": {},
   "source": [
    "## Create a large random numpy array ##"
   ]
  },
  {
   "cell_type": "code",
   "execution_count": null,
   "metadata": {
    "collapsed": true
   },
   "outputs": [],
   "source": [
    "Nz,Ny,Nx = (64,1024,2048)\n",
    "shape = (Nz,Ny,Nx)\n",
    "big_numpy_array = np.random.rand(*shape)"
   ]
  },
  {
   "cell_type": "markdown",
   "metadata": {},
   "source": [
    "## Reduce operation using numpy ##"
   ]
  },
  {
   "cell_type": "code",
   "execution_count": null,
   "metadata": {},
   "outputs": [],
   "source": [
    "%time (big_numpy_array**2).sum()"
   ]
  },
  {
   "cell_type": "markdown",
   "metadata": {},
   "source": [
    "## Create a dask array from the numpy array ##\n",
    "cs is the chunksize, so we use 64 different chunks of about 1 million elements"
   ]
  },
  {
   "cell_type": "code",
   "execution_count": null,
   "metadata": {},
   "outputs": [],
   "source": [
    "cs = (1,Ny,Nx)\n",
    "big_dask_array = da.from_array(big_numpy_array, chunks=cs)"
   ]
  },
  {
   "cell_type": "code",
   "execution_count": null,
   "metadata": {},
   "outputs": [],
   "source": [
    "%time (big_dask_array**2).sum().compute()"
   ]
  },
  {
   "cell_type": "markdown",
   "metadata": {},
   "source": [
    "We can see that we got some multithreaded acceleration, because the Wall time is less than the CPU time. This speedup is possible because the numpy ufuncs [release the global interpreter lock (GIL)](http://docs.scipy.org/doc/numpy-dev/reference/internals.code-explanations.html) at the cython level."
   ]
  },
  {
   "cell_type": "code",
   "execution_count": null,
   "metadata": {},
   "outputs": [],
   "source": [
    "# do the same thing using map_blocks\n",
    "def map_func(b):\n",
    "    return (b**2)\n",
    "\n",
    "%time big_dask_array.map_blocks(map_func).sum().compute()"
   ]
  },
  {
   "cell_type": "markdown",
   "metadata": {},
   "source": [
    "## FFT example ##\n",
    "Here we also get speedup with numpy.fft because it evidently also releases the GIL."
   ]
  },
  {
   "cell_type": "code",
   "execution_count": null,
   "metadata": {},
   "outputs": [],
   "source": [
    "# try with fft\n",
    "% time np.fft.fft2(big_numpy_array).sum()"
   ]
  },
  {
   "cell_type": "code",
   "execution_count": null,
   "metadata": {},
   "outputs": [],
   "source": [
    "% time big_dask_array.map_blocks(np.fft.fft2).sum().compute()\n",
    "# huge speedup!"
   ]
  },
  {
   "cell_type": "markdown",
   "metadata": {},
   "source": [
    "## Gaussian Filter - scipy.ndimage ##\n",
    "This does get multethreaded speeup."
   ]
  },
  {
   "cell_type": "code",
   "execution_count": null,
   "metadata": {},
   "outputs": [],
   "source": [
    "from scipy.ndimage import gaussian_filter\n",
    "\n",
    "def filter_func(b):\n",
    "    return gaussian_filter(b.squeeze(), 1)[np.newaxis,:,:]\n",
    "\n",
    "# this does speed up because it releases the GIL\n",
    "% time big_dask_array.map_blocks(filter_func).sum().compute()"
   ]
  },
  {
   "cell_type": "markdown",
   "metadata": {},
   "source": [
    "## Gaussian Filter - astropy - upstream/master ##\n",
    "Astropy convolution is understandably slower because it checks for missing data. But on top of this, it does NOT get multethreaded speeup because the [astropy convolution functions](https://github.com/astropy/astropy/blob/master/astropy/convolution/boundary_fill.pyx) do NOT release the GIL before their loops. As a result, it is nearly 60 times slow than ndimage when used with dask."
   ]
  },
  {
   "cell_type": "code",
   "execution_count": null,
   "metadata": {},
   "outputs": [],
   "source": [
    "import sys\n",
    "sys.path.insert(0, '/Users/jnoss/dev/astropy/build/lib.macosx-10.6-x86_64-3.5/')\n",
    "\n",
    "from astropy.convolution import convolve, Gaussian2DKernel\n",
    "import astropy\n",
    "astropy.version"
   ]
  },
  {
   "cell_type": "code",
   "execution_count": null,
   "metadata": {
    "collapsed": true
   },
   "outputs": [],
   "source": [
    "def filter_func_ap(b):\n",
    "    ker = Gaussian2DKernel(1)\n",
    "    return convolve(b.squeeze(), ker, boundary='extend')[np.newaxis,:,:]"
   ]
  },
  {
   "cell_type": "code",
   "execution_count": null,
   "metadata": {
    "scrolled": false
   },
   "outputs": [],
   "source": [
    "%time big_dask_array.map_blocks(filter_func_ap).sum().compute()"
   ]
  },
  {
   "cell_type": "code",
   "execution_count": null,
   "metadata": {},
   "outputs": [],
   "source": [
    "# test single threaded execution\n",
    "%timeit filter_func_ap(big_numpy_array[0])"
   ]
  },
  {
   "cell_type": "markdown",
   "metadata": {},
   "source": [
    "## switch to my fork ##"
   ]
  },
  {
   "cell_type": "code",
   "execution_count": null,
   "metadata": {},
   "outputs": [],
   "source": [
    "%time big_dask_array.map_blocks(filter_func_ap).sum().compute()"
   ]
  },
  {
   "cell_type": "code",
   "execution_count": null,
   "metadata": {},
   "outputs": [],
   "source": [
    "%timeit filter_func_ap(big_numpy_array[0])"
   ]
  },
  {
   "cell_type": "code",
   "execution_count": null,
   "metadata": {},
   "outputs": [],
   "source": [
    "import numpy as np\n",
    "import dask.array as da\n",
    "import sys\n",
    "sys.path.insert(0, '/Users/jnoss/dev/astropy/build/lib.macosx-10.6-x86_64-3.5/')\n",
    "\n",
    "from astropy.convolution import convolve, Gaussian2DKernel\n",
    "import astropy\n",
    "print(astropy.version)\n",
    "sys.stdout.flush()\n",
    "\n",
    "Nz,Ny,Nx = (64,1024,2048)\n",
    "shape = (Nz,Ny,Nx)\n",
    "big_numpy_array = np.random.rand(*shape)\n",
    "\n",
    "cs = (1,Ny,Nx)\n",
    "big_dask_array = da.from_array(big_numpy_array, chunks=cs)\n",
    "\n",
    "def filter_func_ap(b):\n",
    "    ker = Gaussian2DKernel(1)#, x_size=111, y_size=111)\n",
    "    return convolve(b.squeeze(), ker, boundary=None)[np.newaxis,:,:]\n"
   ]
  },
  {
   "cell_type": "code",
   "execution_count": null,
   "metadata": {},
   "outputs": [],
   "source": [
    "%time big_dask_array.map_blocks(filter_func_ap).sum().compute()"
   ]
  },
  {
   "cell_type": "code",
   "execution_count": null,
   "metadata": {},
   "outputs": [],
   "source": [
    "%timeit filter_func_ap(big_numpy_array[0])"
   ]
  },
  {
   "cell_type": "code",
   "execution_count": null,
   "metadata": {},
   "outputs": [],
   "source": [
    "810/760"
   ]
  },
  {
   "cell_type": "code",
   "execution_count": null,
   "metadata": {},
   "outputs": [],
   "source": [
    "216/206\n"
   ]
  },
  {
   "cell_type": "code",
   "execution_count": 1,
   "metadata": {},
   "outputs": [
    {
     "name": "stdout",
     "output_type": "stream",
     "text": [
      "<module 'astropy.version' from '/Users/jamienoss/dev/astropy/build/lib.macosx-10.7-x86_64-3.6/astropy/version.py'>\n"
     ]
    }
   ],
   "source": [
    "import sys\n",
    "sys.path.insert(0, '/Users/jamienoss/dev/astropy/build/lib.macosx-10.7-x86_64-3.6/')\n",
    "import astropy\n",
    "print(astropy.version)\n",
    "\n",
    "import astropy.convolution as astroconv\n",
    "import numpy as np\n",
    "\n",
    "iLength = 10000\n",
    "jLength = iLength\n",
    "image = np.random.random((iLength, jLength))\n",
    "\n",
    "#image[50, 50] = np.nan\n",
    "\n",
    "size = 11#1\n",
    "ker = astroconv.Gaussian2DKernel(20,x_size=size,y_size=size)\n",
    "#kerr = np.full((size,size), 10000)\n",
    "\n",
    "\n",
    "\n",
    "\n",
    "\n"
   ]
  },
  {
   "cell_type": "code",
   "execution_count": 3,
   "metadata": {},
   "outputs": [
    {
     "name": "stdout",
     "output_type": "stream",
     "text": [
      "CPU times: user 20.8 s, sys: 329 ms, total: 21.2 s\n",
      "Wall time: 21.2 s\n",
      "CPU times: user 21.2 s, sys: 338 ms, total: 21.6 s\n",
      "Wall time: 21.6 s\n"
     ]
    }
   ],
   "source": [
    "%time res = astroconv.convolve(image, ker, boundary=None, normalize_kernel=False)\n",
    "%time res_dev = astroconv.convolve_dev(image, ker, boundary=None, normalize_kernel=False)"
   ]
  },
  {
   "cell_type": "code",
   "execution_count": null,
   "metadata": {},
   "outputs": [],
   "source": []
  },
  {
   "cell_type": "code",
   "execution_count": null,
   "metadata": {},
   "outputs": [],
   "source": [
    "res = astroconv.convolve(image, ker, boundary=None)\n",
    "res_dev = astroconv.convolve_dev(image, ker, boundary=None)"
   ]
  },
  {
   "cell_type": "code",
   "execution_count": null,
   "metadata": {},
   "outputs": [],
   "source": [
    "import matplotlib.pyplot as plt\n",
    "#mport matplotlib\n",
    "%matplotlib qt5\n",
    "\n",
    "plt.imshow(res, cmap='gray')\n",
    "plt.colorbar()"
   ]
  },
  {
   "cell_type": "code",
   "execution_count": null,
   "metadata": {},
   "outputs": [],
   "source": [
    "#delta = res == res_dev\n",
    "#delta.all()\n",
    "d = res_dev - res\n",
    "np.isclose(d, 0, atol=1e-8).all()"
   ]
  },
  {
   "cell_type": "code",
   "execution_count": null,
   "metadata": {},
   "outputs": [],
   "source": [
    "\n",
    "import matplotlib.pyplot as plt\n",
    "#mport matplotlib\n",
    "%matplotlib qt5\n",
    "\n",
    "plt.imshow(d, cmap='gray')\n",
    "plt.colorbar()"
   ]
  },
  {
   "cell_type": "code",
   "execution_count": null,
   "metadata": {},
   "outputs": [],
   "source": []
  },
  {
   "cell_type": "code",
   "execution_count": null,
   "metadata": {
    "collapsed": true
   },
   "outputs": [],
   "source": []
  }
 ],
 "metadata": {
  "anaconda-cloud": {},
  "gist_id": "3e2c3645d4666674cf2b",
  "kernelspec": {
   "display_name": "Python 3",
   "language": "python",
   "name": "python3"
  },
  "language_info": {
   "codemirror_mode": {
    "name": "ipython",
    "version": 3
   },
   "file_extension": ".py",
   "mimetype": "text/x-python",
   "name": "python",
   "nbconvert_exporter": "python",
   "pygments_lexer": "ipython3",
   "version": "3.6.3"
  }
 },
 "nbformat": 4,
 "nbformat_minor": 1
}
