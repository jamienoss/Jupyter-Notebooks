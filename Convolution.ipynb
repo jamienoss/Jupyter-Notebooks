{
 "cells": [
  {
   "cell_type": "code",
   "execution_count": null,
   "metadata": {
    "collapsed": false
   },
   "outputs": [],
   "source": [
    "import astropy.convolution as astroconv\n",
    "import scipy.ndimage.filters as sciconv\n",
    "import scipy.signal as scisig\n",
    "#from scipy.ndimage.filters import convolve\n",
    "import numpy as np\n",
    "import matplotlib.pyplot as plt\n",
    "#mport matplotlib\n",
    "%matplotlib qt5\n",
    "#import math\n",
    "#from mpl_toolkits.mplot3d import Axes3D\n",
    "#from scipy import signal\n",
    "#from matplotlib.mlab import bivariate_normal\n",
    "#import time\n",
    "#import dask.array as da\n",
    "%load_ext memory_profiler"
   ]
  },
  {
   "cell_type": "code",
   "execution_count": null,
   "metadata": {
    "collapsed": false
   },
   "outputs": [],
   "source": [
    "iLength = 10000\n",
    "jLength = iLength\n",
    "%memit image = np.random.random((iLength, jLength))"
   ]
  },
  {
   "cell_type": "code",
   "execution_count": null,
   "metadata": {
    "collapsed": false
   },
   "outputs": [],
   "source": [
    "plt.imshow(image, cmap='gray')\n",
    "plt.colorbar()"
   ]
  },
  {
   "cell_type": "code",
   "execution_count": null,
   "metadata": {
    "collapsed": false
   },
   "outputs": [],
   "source": [
    "size = 111\n",
    "ker = astroconv.Gaussian2DKernel(20,x_size=size,y_size=size)\n",
    "ker.shape"
   ]
  },
  {
   "cell_type": "code",
   "execution_count": null,
   "metadata": {
    "collapsed": false
   },
   "outputs": [],
   "source": [
    "type(ker.array)"
   ]
  },
  {
   "cell_type": "code",
   "execution_count": null,
   "metadata": {
    "collapsed": false
   },
   "outputs": [],
   "source": [
    "%time smoothed = sciconv.convolve_fft(image, ker.array)"
   ]
  },
  {
   "cell_type": "code",
   "execution_count": null,
   "metadata": {
    "collapsed": false
   },
   "outputs": [],
   "source": [
    "%time smoothed = scisig.fftconvolve(image, ker.array)"
   ]
  },
  {
   "cell_type": "code",
   "execution_count": null,
   "metadata": {
    "collapsed": false
   },
   "outputs": [],
   "source": [
    "%memit smoothed = astroconv.convolve_fft(image, ker, allow_huge=True)"
   ]
  },
  {
   "cell_type": "code",
   "execution_count": null,
   "metadata": {
    "collapsed": false
   },
   "outputs": [],
   "source": [
    "%time smoothed = astroconv.convolve(image, ker)"
   ]
  },
  {
   "cell_type": "code",
   "execution_count": null,
   "metadata": {
    "collapsed": false
   },
   "outputs": [],
   "source": [
    "cs = (1,iLength)\n",
    "%time da_image = da.from_array(image, chunks=cs)"
   ]
  },
  {
   "cell_type": "code",
   "execution_count": null,
   "metadata": {
    "collapsed": true
   },
   "outputs": [],
   "source": [
    "def convolve_wrapper(b, ker):\n",
    "    return convolve(b.squeeze(), ker, boundary=None)[np.newaxis,:]"
   ]
  },
  {
   "cell_type": "code",
   "execution_count": null,
   "metadata": {
    "collapsed": false
   },
   "outputs": [],
   "source": [
    "%time smoothed = da_image.map_blocks(convolve_wrapper, ker).compute()"
   ]
  },
  {
   "cell_type": "code",
   "execution_count": null,
   "metadata": {
    "collapsed": false
   },
   "outputs": [],
   "source": [
    "plt.imshow(smoothed, cmap='gray')"
   ]
  },
  {
   "cell_type": "code",
   "execution_count": null,
   "metadata": {
    "collapsed": true
   },
   "outputs": [],
   "source": [
    "fig = plt.figure()\n",
    "ax = fig.gca(projection='3d')\n",
    "ax.plot_surface(X, Y, Z, cmap='viridis',linewidth=0)\n",
    "plt.show()\n",
    "\n",
    "plt.pcolor(Z, edgecolors=None, snap=True)\n",
    "plt.gca().set_aspect('equal', adjustable='box')\n",
    "plt.colorbar()"
   ]
  },
  {
   "cell_type": "code",
   "execution_count": null,
   "metadata": {
    "collapsed": true
   },
   "outputs": [],
   "source": [
    "plt.imshow(smoothed, cmap='gray')\n",
    "plt.gca().set_aspect('equal', adjustable='box')"
   ]
  },
  {
   "cell_type": "code",
   "execution_count": null,
   "metadata": {
    "collapsed": false
   },
   "outputs": [],
   "source": [
    "smoothed.shape"
   ]
  },
  {
   "cell_type": "code",
   "execution_count": null,
   "metadata": {
    "collapsed": false
   },
   "outputs": [],
   "source": [
    "import numpy\n",
    "numpy.version.version\n"
   ]
  },
  {
   "cell_type": "code",
   "execution_count": null,
   "metadata": {
    "collapsed": false
   },
   "outputs": [],
   "source": [
    "np.array"
   ]
  },
  {
   "cell_type": "code",
   "execution_count": null,
   "metadata": {
    "collapsed": true
   },
   "outputs": [],
   "source": [
    "import inspect"
   ]
  },
  {
   "cell_type": "code",
   "execution_count": null,
   "metadata": {
    "collapsed": false
   },
   "outputs": [],
   "source": [
    "inspect.signature(np.array())"
   ]
  },
  {
   "cell_type": "code",
   "execution_count": null,
   "metadata": {
    "collapsed": false
   },
   "outputs": [],
   "source": [
    "type(ker)"
   ]
  },
  {
   "cell_type": "code",
   "execution_count": null,
   "metadata": {
    "collapsed": false
   },
   "outputs": [],
   "source": [
    "X = np.linspace(-5, 5, 500)\n",
    "Y = X\n",
    "X, Y = np.meshgrid(X, Y)\n",
    "R = np.sqrt(X**2 + Y**2)\n",
    "Z = np.sin(R)\n",
    "Z.shape\n",
    "type(Z)\n",
    "%time sciconv.convolve(image,Z) #uses a lot of mem"
   ]
  },
  {
   "cell_type": "code",
   "execution_count": null,
   "metadata": {
    "collapsed": false
   },
   "outputs": [],
   "source": [
    "astrowrap = np.genfromtxt('/Users/jnoss/dev/py/convolve/10kwith111/dirct_conv_data/astro_conv_wrap_20171211141210.dat', delimiter=' ', skip_header=100,\n",
    "                     skip_footer=5)\n",
    "#astrowrap2 = np.genfromtxt('/Users/jnoss/dev/py/convolve/astro_conv_wrap_2_20180122133335.dat', delimiter=' ', skip_header=100,\n",
    "                     #skip_footer=5)\n",
    "astrofill = np.genfromtxt('/Users/jnoss/dev/py/convolve/10kwith111/dirct_conv_data/astro_conv_fill_20171218153225.dat', delimiter=' ', skip_header=100,\n",
    "                     skip_footer=5)\n",
    "astroextend = np.genfromtxt('/Users/jnoss/dev/py/convolve/10kwith111/dirct_conv_data/astro_conv_extend_20180122124420.dat', delimiter=' ', skip_header=100,\n",
    "                     skip_footer=5)\n",
    "astrodef = np.genfromtxt('/Users/jnoss/dev/py/convolve/10kwith111/dirct_conv_data/astro_conv_def_none_20180122150531.dat', delimiter=' ', skip_header=100,\n",
    "                     skip_footer=5)\n",
    "\n",
    "scipywrap = np.genfromtxt('/Users/jnoss/dev/py/convolve/10kwith111/dirct_conv_data/sci_conv_wrap_20171212093826.dat', delimiter=' ', skip_header=100,\n",
    "                     skip_footer=5)\n",
    "scipyconst = np.genfromtxt('/Users/jnoss/dev/py/convolve/10kwith111/dirct_conv_data/sci_conv_const_20180122110702.dat', delimiter=' ', skip_header=100,\n",
    "                     skip_footer=5)\n",
    "scipynear = np.genfromtxt('/Users/jnoss/dev/py/convolve/10kwith111/dirct_conv_data/sci_conv_nearest_20180122121403.dat', delimiter=' ', skip_header=100,\n",
    "                     skip_footer=5)\n",
    "scipydef = np.genfromtxt('/Users/jnoss/dev/py/convolve/10kwith111/dirct_conv_data/sci_conv_def_reflect_20180122153543.dat', delimiter=' ', skip_header=100,\n",
    "                     skip_footer=5)\n",
    "\n",
    "gputools = np.genfromtxt('/Users/jnoss/dev/py/convolve/gputools/mprofile_20180125143650.dat', delimiter=' ', skip_header=100,\n",
    "                     skip_footer=5)"
   ]
  },
  {
   "cell_type": "code",
   "execution_count": null,
   "metadata": {
    "collapsed": false
   },
   "outputs": [],
   "source": [
    "plt.plot((astrowrap[:,2]-astrowrap[1,2])/60, astrowrap[:,1]/1024, 'b-.', label='astropy (wrap)')\n",
    "plt.plot((astrofill[:,2]-astrofill[1,2])/60, astrofill[:,1]/1024, 'b--', label='astropy (fill)')\n",
    "plt.plot((astroextend[:,2]-astroextend[1,2])/60, astroextend[:,1]/1024, 'b:', label='astropy (extend)')\n",
    "#plt.plot((astrowrap2[:,2]-astrowrap2[1,2])/60, astrowrap2[:,1]/1024, 'b', label='astropy (wrap2)')\n",
    "plt.plot((astrodef[:,2]-astrodef[1,2])/60, astrodef[:,1]/1024, 'k', label='astropy (default:None)')\n",
    "\n",
    "plt.plot((scipywrap[:,2]-scipywrap[1,2])/60, scipywrap[:,1]/1024, 'r-.', label='scipy (wrap)')\n",
    "plt.plot((scipyconst[:,2]-scipyconst[1,2])/60, scipyconst[:,1]/1024, 'r--', label='scipy (constant (aka fill))')\n",
    "plt.plot((scipynear[:,2]-scipynear[1,2])/60, scipynear[:,1]/1024, 'r:', label='scipy (nearest (aka extend))')\n",
    "plt.plot((scipydef[:,2]-scipydef[1,2])/60, scipydef[:,1]/1024, 'k', label='scipy (default:reflect)')\n",
    "\n",
    "#plt.plot((gputools[:,2]-gputools[1,2])/60, gputools[:,1]/1024, 'k', label='gputools')\n",
    "\n",
    "\n",
    "plt.grid(True)\n",
    "plt.ylabel('GB')\n",
    "plt.xlabel('Minutes')\n",
    "plt.title('Direct: Im=$10,000^{2}$, Ker=$111^{2}$')\n",
    "plt.legend()\n",
    "plt.show\n"
   ]
  },
  {
   "cell_type": "code",
   "execution_count": null,
   "metadata": {
    "collapsed": false
   },
   "outputs": [],
   "source": [
    "data['y']"
   ]
  },
  {
   "cell_type": "code",
   "execution_count": null,
   "metadata": {
    "collapsed": false
   },
   "outputs": [],
   "source": [
    "data.shape"
   ]
  },
  {
   "cell_type": "code",
   "execution_count": null,
   "metadata": {
    "collapsed": false
   },
   "outputs": [],
   "source": [
    "data[1,1]"
   ]
  },
  {
   "cell_type": "code",
   "execution_count": null,
   "metadata": {
    "collapsed": true
   },
   "outputs": [],
   "source": [
    "scipysame = np.genfromtxt('/Users/jnoss/dev/py/convolve/fft_conv_data/sci_fft_same_20180122162242.dat', delimiter=' ', skip_header=100,\n",
    "                     skip_footer=5)\n",
    "scipydef = np.genfromtxt('/Users/jnoss/dev/py/convolve/fft_conv_data/sci_fft_def_full_20180122161727.dat', delimiter=' ', skip_header=100,\n",
    "                     skip_footer=5)\n",
    "scipyvalid = np.genfromtxt('/Users/jnoss/dev/py/convolve/fft_conv_data/sci_fft_valid_20180122162145.dat', delimiter=' ', skip_header=100,\n",
    "                     skip_footer=5)\n",
    "\n",
    "astrofill = np.genfromtxt('/Users/jnoss/dev/py/convolve/fft_conv_data/astro_fill/astro_fft_fill_3_20180124103628.dat', delimiter=' ', skip_header=100,\n",
    "                     skip_footer=5)\n",
    "astrowrap = np.genfromtxt('/Users/jnoss/dev/py/convolve/fft_conv_data/astro_wrap/mprofile_20180124105511.dat', delimiter=' ', skip_header=100,\n",
    "                     skip_footer=5)"
   ]
  },
  {
   "cell_type": "code",
   "execution_count": null,
   "metadata": {
    "collapsed": false
   },
   "outputs": [],
   "source": [
    "plt.plot((scipysame[:,2]-scipysame[1,2])/60, scipysame[:,1]/1024, 'r-.', label='scipy (same)')\n",
    "plt.plot((scipyvalid[:,2]-scipyvalid[1,2])/60, scipyvalid[:,1]/1024, 'r--', label='scipy (valid)')\n",
    "plt.plot((scipydef[:,2]-scipydef[1,2])/60, scipydef[:,1]/1024, 'k', label='scipy (default:full)')\n",
    "\n",
    "plt.plot((astrofill[:,2]-astrofill[1,2])/60, astrofill[:,1]/1024, 'k', label='astropy (default:fill)')\n",
    "plt.plot((astrowrap[:,2]-astrowrap[1,2])/60, astrowrap[:,1]/1024, 'b:', label='astropy (default:wrap)')\n",
    "\n",
    "\n",
    "plt.grid(True)\n",
    "plt.ylabel('GB')\n",
    "plt.xlabel('Minutes')\n",
    "plt.title('FFT: Im=$10,000^{2}$, Ker=$111^{2}$')\n",
    "plt.legend()\n",
    "plt.show"
   ]
  },
  {
   "cell_type": "code",
   "execution_count": null,
   "metadata": {
    "collapsed": false
   },
   "outputs": [],
   "source": [
    "scipysame = np.genfromtxt('/Users/jnoss/dev/py/convolve/fft_conv_data/astro_fill/astro_fft_fill_3_20180124103628.dat', delimiter=' ', skip_header=100,\n",
    "                     skip_footer=5)\n",
    "scipydef = np.genfromtxt('/Users/jnoss/dev/py/convolve/fft_conv_data/astro_fill/astro_fft_fill_20180124101432.dat', delimiter=' ', skip_header=100,\n",
    "                    skip_footer=5)\n",
    "scipyvalid = np.genfromtxt('/Users/jnoss/dev/py/convolve/fft_conv_data/astro_fill/astro_fft_fill_2_20180124102802.dat', delimiter=' ', skip_header=100,\n",
    "                     skip_footer=5)"
   ]
  },
  {
   "cell_type": "code",
   "execution_count": null,
   "metadata": {
    "collapsed": false
   },
   "outputs": [],
   "source": [
    "#plt.plot((scipysame[:,2]-scipysame[1,2])/60, scipysame[:,1]/1024, 'r-.', label='run 1')\n",
    "plt.plot((scipydef[:,2]-scipydef[1,2])/60, scipydef[:,1]/1024, 'k', label='run 1')\n",
    "plt.plot((scipyvalid[:,2]-scipyvalid[1,2])/60, scipyvalid[:,1]/1024, 'b:', label='run 2')\n",
    "\n",
    "plt.grid(True)\n",
    "plt.ylabel('GB')\n",
    "plt.xlabel('Minutes')\n",
    "plt.title(\"gputools.convolve_fft(): Im=$10,000^{2}$, Ker=$111^{2}$\")\n",
    "plt.legend()\n",
    "plt.show"
   ]
  },
  {
   "cell_type": "code",
   "execution_count": null,
   "metadata": {
    "collapsed": true
   },
   "outputs": [],
   "source": [
    "scipysame = np.genfromtxt('/Users/jnoss/dev/py/convolve/gputools/mprofile_20180125144109.dat', delimiter=' ', skip_header=100,\n",
    "                     skip_footer=5)\n",
    "scipydef = np.genfromtxt('/Users/jnoss/dev/py/convolve/gputools/mprofile_20180125143944.dat', delimiter=' ', skip_header=100,\n",
    "                    skip_footer=5)\n",
    "scipyvalid = np.genfromtxt('/Users/jnoss/dev/py/convolve/gputools/mprofile_20180125143650.dat', delimiter=' ', skip_header=100,\n",
    "                     skip_footer=5)"
   ]
  },
  {
   "cell_type": "code",
   "execution_count": null,
   "metadata": {
    "collapsed": false
   },
   "outputs": [],
   "source": [
    "np.dtype(np.float_t)"
   ]
  },
  {
   "cell_type": "code",
   "execution_count": null,
   "metadata": {
    "collapsed": false
   },
   "outputs": [],
   "source": [
    "((10e3**4)  / ((10e3**2)*(111**2)) )*18/60/24\n"
   ]
  },
  {
   "cell_type": "code",
   "execution_count": null,
   "metadata": {
    "collapsed": false
   },
   "outputs": [],
   "source": [
    "10e3**2*2*8/1E9"
   ]
  },
  {
   "cell_type": "code",
   "execution_count": null,
   "metadata": {
    "collapsed": false
   },
   "outputs": [],
   "source": [
    "import gputools"
   ]
  },
  {
   "cell_type": "code",
   "execution_count": null,
   "metadata": {
    "collapsed": false
   },
   "outputs": [],
   "source": [
    "(1e4**2+111**2)*8/1e9"
   ]
  },
  {
   "cell_type": "code",
   "execution_count": null,
   "metadata": {
    "collapsed": true
   },
   "outputs": [],
   "source": []
  }
 ],
 "metadata": {
  "anaconda-cloud": {},
  "kernelspec": {
   "display_name": "Python [conda root]",
   "language": "python",
   "name": "conda-root-py"
  },
  "language_info": {
   "codemirror_mode": {
    "name": "ipython",
    "version": 3
   },
   "file_extension": ".py",
   "mimetype": "text/x-python",
   "name": "python",
   "nbconvert_exporter": "python",
   "pygments_lexer": "ipython3",
   "version": "3.5.4"
  }
 },
 "nbformat": 4,
 "nbformat_minor": 1
}
